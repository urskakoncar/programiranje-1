{
 "cells": [
  {
   "cell_type": "code",
   "execution_count": 174,
   "metadata": {
    "vscode": {
     "languageId": "ocaml"
    }
   },
   "outputs": [
    {
     "data": {
      "text/plain": [
       "type register = A | B | C | D\n"
      ]
     },
     "execution_count": 174,
     "metadata": {},
     "output_type": "execute_result"
    },
    {
     "data": {
      "text/plain": [
       "type expression = Register of register | Const of int\n"
      ]
     },
     "execution_count": 174,
     "metadata": {},
     "output_type": "execute_result"
    },
    {
     "data": {
      "text/plain": [
       "type address = Address of int\n"
      ]
     },
     "execution_count": 174,
     "metadata": {},
     "output_type": "execute_result"
    },
    {
     "data": {
      "text/plain": [
       "type instruction =\n",
       "    MOV of register * expression\n",
       "  | ADD of register * expression\n",
       "  | SUB of register * expression\n",
       "  | INC of register\n",
       "  | DEC of register\n",
       "  | MUL of expression\n",
       "  | DIV of expression\n",
       "  | AND of register * expression\n",
       "  | OR of register * expression\n",
       "  | XOR of register * expression\n",
       "  | NOT of register\n",
       "  | CMP of register * expression\n",
       "  | JMP of address\n",
       "  | JA of address\n",
       "  | JAE of address\n",
       "  | JB of address\n",
       "  | JBE of address\n",
       "  | JE of address\n",
       "  | JNE of address\n",
       "  | CALL of address\n",
       "  | RET\n",
       "  | PUSH of expression\n",
       "  | POP of register\n",
       "  | HLT\n"
      ]
     },
     "execution_count": 174,
     "metadata": {},
     "output_type": "execute_result"
    },
    {
     "data": {
      "text/plain": [
       "type state = {\n",
       "  instructions : instruction array;\n",
       "  a : int;\n",
       "  b : int;\n",
       "  c : int;\n",
       "  d : int;\n",
       "  ip : address;\n",
       "  zero : bool;\n",
       "  carry : bool;\n",
       "  stack : int list;\n",
       "}\n"
      ]
     },
     "execution_count": 174,
     "metadata": {},
     "output_type": "execute_result"
    },
    {
     "data": {
      "text/plain": [
       "val empty : state =\n",
       "  {instructions = [||]; a = 0; b = 0; c = 0; d = 0; ip = Address 0;\n",
       "   zero = false; carry = false; stack = []}\n"
      ]
     },
     "execution_count": 174,
     "metadata": {},
     "output_type": "execute_result"
    },
    {
     "data": {
      "text/plain": [
       "val init : instruction list -> state = <fun>\n"
      ]
     },
     "execution_count": 174,
     "metadata": {},
     "output_type": "execute_result"
    }
   ],
   "source": [
    "type register = \n",
    "| A\n",
    "| B\n",
    "| C\n",
    "| D\n",
    "\n",
    "type expression = \n",
    "| Register of register\n",
    "| Const of int\n",
    "\n",
    "type address = \n",
    "| Address of int\n",
    "\n",
    "type instruction =\n",
    "  | MOV of register * expression\n",
    "  | ADD of register * expression\n",
    "  | SUB of register * expression\n",
    "  | INC of register\n",
    "  | DEC of register\n",
    "  | MUL of expression\n",
    "  | DIV of expression\n",
    "  | AND of register * expression\n",
    "  | OR of register * expression\n",
    "  | XOR of register * expression\n",
    "  | NOT of register\n",
    "  | CMP of register * expression\n",
    "  | JMP of address\n",
    "  | JA of address\n",
    "  | JAE of address\n",
    "  | JB of address\n",
    "  | JBE of address\n",
    "  | JE of address\n",
    "  | JNE of address\n",
    "  | CALL of address\n",
    "  | RET\n",
    "  | PUSH of expression\n",
    "  | POP of register\n",
    "  | HLT\n",
    "\n",
    "type state = {\n",
    "  instructions: instruction array;\n",
    "  a : int; \n",
    "  b : int; \n",
    "  c : int; \n",
    "  d : int;\n",
    "  ip : address;\n",
    "  zero : bool;\n",
    "  carry : bool;\n",
    "  stack : int list\n",
    "  }\n",
    "\n",
    "let empty = {\n",
    "  instructions = [||];\n",
    "  a = 0;\n",
    "  b = 0;\n",
    "  c = 0;\n",
    "  d = 0;\n",
    "  ip = Address 0;\n",
    "  zero = false;\n",
    "  carry = false;\n",
    "  stack = [];\n",
    "}\n",
    "\n",
    "let init seznam_ukazov =\n",
    "  let empty = {\n",
    "    instructions = [||];\n",
    "    a = 0;\n",
    "    b = 0;\n",
    "    c = 0;\n",
    "    d = 0;\n",
    "    ip = Address 0;\n",
    "    zero = false;\n",
    "    carry = false;\n",
    "    stack = [];\n",
    "  }\n",
    "  in\n",
    "  {empty with instructions = Array.of_list seznam_ukazov}"
   ]
  },
  {
   "cell_type": "code",
   "execution_count": 175,
   "metadata": {
    "vscode": {
     "languageId": "ocaml"
    }
   },
   "outputs": [
    {
     "data": {
      "text/plain": [
       "val fibonacci : int -> instruction list = <fun>\n"
      ]
     },
     "execution_count": 175,
     "metadata": {},
     "output_type": "execute_result"
    },
    {
     "data": {
      "text/plain": [
       "val fibonacci : string =\n",
       "  \"\\n  JMP main\\n  ; Funkcija, ki izračuna fib(A) in vrednost shrani v register A\\n  fib:\\n      ; Shranimo vrednosti registrov\\n      PUSH C\\n      PUSH B\\n  \\n      ; V C shranimo začetno vrednost A\\n      MOV C, A\\n  \\n      ; Če je A = 0, je to tudi rezultat\\n      CMP A, 0\\n      JE .fib_end\\n  \\n      ; Če\"... (* string length 872; truncated *)\n"
      ]
     },
     "execution_count": 175,
     "metadata": {},
     "output_type": "execute_result"
    }
   ],
   "source": [
    "let fibonacci n = [\n",
    "  JMP (Address 20);       (* JMP main *)\n",
    "\n",
    "(* fib: *)\n",
    "  (* ; Shranimo vrednosti registrov *)\n",
    "  PUSH (Register C);      (* PUSH C *)\n",
    "  PUSH (Register B);      (* PUSH B *)\n",
    "\n",
    "  (* ; V C shranimo začetno vrednost A *)\n",
    "  MOV (C, Register A);    (* MOV C, A *)\n",
    "\n",
    "  (* ; Če je A = 0, je to tudi rezultat *)\n",
    "  CMP (A, Const 0);       (* CMP A, 0 *)\n",
    "  JE (Address 17);        (* JE .fib_end *)\n",
    "\n",
    "  (* ; Če je A = 1, je to tudi rezultat *)\n",
    "  CMP (A, Const 1);       (* CMP A, 1 *)\n",
    "  JE (Address 17);        (* JE .fib_end *)\n",
    "\n",
    "  (* ; V nasprotnem primeru najprej izračunamo fib(A - 1) in ga shranimo v B *)\n",
    "  DEC C;                  (* DEC C *)\n",
    "  MOV (A, Register C);    (* MOV A, C *)\n",
    "  CALL (Address 1);       (* CALL fib *)\n",
    "  MOV (B, Register A);    (* MOV B, A *)\n",
    "\n",
    "  (* ; Nato izračunamo še fib(A - 2) in ga shranimo v A *)\n",
    "  DEC C;                  (* DEC C *)\n",
    "  MOV (A, Register C);    (* MOV A, C *)\n",
    "  CALL (Address 1);       (* CALL fib *)\n",
    "  \n",
    "  (* ; Nazadnje k A prištejemo še B, s čimer dobimo končni rezultat *)\n",
    "  ADD (A, Register B);    (* ADD A, B *)\n",
    "  JMP (Address 17);       (* JMP .fib_end *)\n",
    "\n",
    "(* .fib_end: *)\n",
    "  (* ; Povrnemo vrednosti registrov in vrnemo rezultat *)\n",
    "  POP B;                  (* POP B *)\n",
    "  POP C;                  (* POP C *)\n",
    "  RET;                    (* RET *)\n",
    "\n",
    "(* main: *)\n",
    "  MOV (A, Const n);       (* MOV A, n *)\n",
    "  CALL (Address 1);       (* CALL fib *)\n",
    "  HLT;                    (* HLT *)\n",
    "]\n",
    "\n",
    "let fibonacci = {|\n",
    "  JMP main\n",
    "  ; Funkcija, ki izračuna fib(A) in vrednost shrani v register A\n",
    "  fib:\n",
    "      ; Shranimo vrednosti registrov\n",
    "      PUSH C\n",
    "      PUSH B\n",
    "  \n",
    "      ; V C shranimo začetno vrednost A\n",
    "      MOV C, A\n",
    "  \n",
    "      ; Če je A = 0, je to tudi rezultat\n",
    "      CMP A, 0\n",
    "      JE .fib_end\n",
    "  \n",
    "      ; Če je A = 1, je to tudi rezultat\n",
    "      CMP A, 1\n",
    "      JE .fib_end\n",
    "  \n",
    "      ; V nasprotnem primeru najprej izračunamo fib(A - 1) in ga shranimo v B\n",
    "      DEC C\n",
    "      MOV A, C\n",
    "      CALL fib\n",
    "      MOV B, A\n",
    "  \n",
    "      ; Nato izračunamo še fib(A - 2) in ga shranimo v A\n",
    "      DEC C\n",
    "      MOV A, C\n",
    "      CALL fib\n",
    "      \n",
    "      ; Nazadnje k A prištejemo še B, s čimer dobimo končni rezultat\n",
    "      ADD A, B\n",
    "      JMP .fib_end\n",
    "  \n",
    "  .fib_end:\n",
    "      ; Povrnemo vrednosti registrov in vrnemo rezultat\n",
    "      POP B\n",
    "      POP C\n",
    "      RET\n",
    "  \n",
    "  main:\n",
    "      MOV A, 7\n",
    "      CALL fib\n",
    "  HLT\n",
    "|}"
   ]
  },
  {
   "cell_type": "code",
   "execution_count": 176,
   "metadata": {
    "vscode": {
     "languageId": "ocaml"
    }
   },
   "outputs": [
    {
     "data": {
      "text/plain": [
       "val read_instruction : state -> instruction option = <fun>\n"
      ]
     },
     "execution_count": 176,
     "metadata": {},
     "output_type": "execute_result"
    },
    {
     "data": {
      "text/plain": [
       "val read_register : state -> register -> int = <fun>\n"
      ]
     },
     "execution_count": 176,
     "metadata": {},
     "output_type": "execute_result"
    },
    {
     "data": {
      "text/plain": [
       "val read_expression : state -> expression -> int = <fun>\n"
      ]
     },
     "execution_count": 176,
     "metadata": {},
     "output_type": "execute_result"
    },
    {
     "data": {
      "text/plain": [
       "val write_register : state -> register -> int -> state = <fun>\n"
      ]
     },
     "execution_count": 176,
     "metadata": {},
     "output_type": "execute_result"
    },
    {
     "data": {
      "text/plain": [
       "val perform_unop : (int -> int) -> state -> register -> state = <fun>\n"
      ]
     },
     "execution_count": 176,
     "metadata": {},
     "output_type": "execute_result"
    },
    {
     "data": {
      "text/plain": [
       "val perform_binop :\n",
       "  (int -> int -> int) -> state -> register -> expression -> state = <fun>\n"
      ]
     },
     "execution_count": 176,
     "metadata": {},
     "output_type": "execute_result"
    },
    {
     "data": {
      "text/plain": [
       "val next : address -> address = <fun>\n"
      ]
     },
     "execution_count": 176,
     "metadata": {},
     "output_type": "execute_result"
    },
    {
     "data": {
      "text/plain": [
       "val jump : state -> address -> state = <fun>\n"
      ]
     },
     "execution_count": 176,
     "metadata": {},
     "output_type": "execute_result"
    },
    {
     "data": {
      "text/plain": [
       "val proceed : state -> state = <fun>\n"
      ]
     },
     "execution_count": 176,
     "metadata": {},
     "output_type": "execute_result"
    },
    {
     "data": {
      "text/plain": [
       "val push_stack : state -> int -> state = <fun>\n"
      ]
     },
     "execution_count": 176,
     "metadata": {},
     "output_type": "execute_result"
    },
    {
     "data": {
      "text/plain": [
       "val pop_stack : state -> int * state = <fun>\n"
      ]
     },
     "execution_count": 176,
     "metadata": {},
     "output_type": "execute_result"
    },
    {
     "data": {
      "text/plain": [
       "val compare : state -> int -> int -> state = <fun>\n"
      ]
     },
     "execution_count": 176,
     "metadata": {},
     "output_type": "execute_result"
    },
    {
     "data": {
      "text/plain": [
       "val conditional_jump : state -> address -> bool -> state = <fun>\n"
      ]
     },
     "execution_count": 176,
     "metadata": {},
     "output_type": "execute_result"
    },
    {
     "data": {
      "text/plain": [
       "val call : state -> address -> state = <fun>\n"
      ]
     },
     "execution_count": 176,
     "metadata": {},
     "output_type": "execute_result"
    },
    {
     "data": {
      "text/plain": [
       "val return : state -> state = <fun>\n"
      ]
     },
     "execution_count": 176,
     "metadata": {},
     "output_type": "execute_result"
    },
    {
     "data": {
      "text/plain": [
       "val run_instruction : state -> instruction -> state = <fun>\n"
      ]
     },
     "execution_count": 176,
     "metadata": {},
     "output_type": "execute_result"
    },
    {
     "data": {
      "text/plain": [
       "val run_program : state -> state = <fun>\n"
      ]
     },
     "execution_count": 176,
     "metadata": {},
     "output_type": "execute_result"
    },
    {
     "data": {
      "text/plain": [
       "val parse_register : string -> register = <fun>\n"
      ]
     },
     "execution_count": 176,
     "metadata": {},
     "output_type": "execute_result"
    },
    {
     "data": {
      "text/plain": [
       "val parse_expression : string -> expression = <fun>\n"
      ]
     },
     "execution_count": 176,
     "metadata": {},
     "output_type": "execute_result"
    },
    {
     "data": {
      "text/plain": [
       "val clean_line : string -> string = <fun>\n"
      ]
     },
     "execution_count": 176,
     "metadata": {},
     "output_type": "execute_result"
    },
    {
     "data": {
      "text/plain": [
       "val clean_lines : string list -> string list = <fun>\n"
      ]
     },
     "execution_count": 176,
     "metadata": {},
     "output_type": "execute_result"
    },
    {
     "data": {
      "text/plain": [
       "val parse_address : (string * address) list -> string -> address = <fun>\n"
      ]
     },
     "execution_count": 176,
     "metadata": {},
     "output_type": "execute_result"
    },
    {
     "data": {
      "text/plain": [
       "val parse_label : string -> string option = <fun>\n"
      ]
     },
     "execution_count": 176,
     "metadata": {},
     "output_type": "execute_result"
    },
    {
     "data": {
      "text/plain": [
       "val parse_labels : string list -> (string * address) list * string list =\n",
       "  <fun>\n"
      ]
     },
     "execution_count": 176,
     "metadata": {},
     "output_type": "execute_result"
    },
    {
     "data": {
      "text/plain": [
       "val parse_instruction : (string * address) list -> string -> instruction =\n",
       "  <fun>\n"
      ]
     },
     "execution_count": 176,
     "metadata": {},
     "output_type": "execute_result"
    }
   ],
   "source": [
    "let read_instruction stanje_pomnilnika = \n",
    "  let st_ukaza = \n",
    "    match stanje_pomnilnika.ip with\n",
    "    | Address x -> x\n",
    "  in\n",
    "  let tabela_ukazov = stanje_pomnilnika.instructions in\n",
    "  if st_ukaza < Array.length tabela_ukazov then Some tabela_ukazov.(st_ukaza) else None\n",
    "\n",
    "\n",
    "let read_register stanje_pomnilnika =\n",
    "  function\n",
    "  | A -> stanje_pomnilnika.a \n",
    "  | B -> stanje_pomnilnika.b \n",
    "  | C -> stanje_pomnilnika.c \n",
    "  | D -> stanje_pomnilnika.d \n",
    "\n",
    "let read_expression stanje_pomnilnika = \n",
    "  function\n",
    "  | Register x -> read_register stanje_pomnilnika x\n",
    "  | Const x -> x \n",
    "\n",
    "let write_register stanje_pomnilnika register vrednost = \n",
    "  match register with\n",
    "  | A -> {stanje_pomnilnika with a = vrednost}\n",
    "  | B -> {stanje_pomnilnika with b = vrednost}\n",
    "  | C -> {stanje_pomnilnika with c = vrednost}\n",
    "  | D -> {stanje_pomnilnika with d = vrednost}\n",
    "\n",
    "\n",
    "let perform_unop f stanje_pomnilnika register = \n",
    "  write_register stanje_pomnilnika register (f (read_register stanje_pomnilnika register))\n",
    "\n",
    "\n",
    "let perform_binop f stanje_pomnilnika register izraz = \n",
    "  let element_v_funkciji = \n",
    "    match izraz with \n",
    "    | Register x -> read_register stanje_pomnilnika x\n",
    "    | Const x ->  x\n",
    "  in\n",
    "  write_register stanje_pomnilnika register (f (read_register stanje_pomnilnika register) element_v_funkciji)\n",
    "\n",
    "\n",
    "let next = \n",
    "  function \n",
    "  | Address x -> Address (x + 1)\n",
    "\n",
    "let jump stanje_pomnilnika naslov =\n",
    "  {stanje_pomnilnika with ip = naslov}\n",
    "\n",
    "let proceed stanje_pomnilnika = \n",
    "  {stanje_pomnilnika with ip = next stanje_pomnilnika.ip}\n",
    "\n",
    "\n",
    "let push_stack stanje_pomnilnika stevilo =\n",
    "  {stanje_pomnilnika with stack = stevilo :: stanje_pomnilnika.stack}\n",
    "\n",
    "let pop_stack stanje_pomnilnika =\n",
    "  match stanje_pomnilnika.stack with\n",
    "  | [] -> failwith \"Sklad je prazen\"\n",
    "  | x :: xs -> (x, {stanje_pomnilnika with stack = xs})\n",
    "\n",
    "let compare stanje_pomnilnika (stevilo1: int) (stevilo2: int) = \n",
    "  let nov_zero = (stevilo1 = stevilo2) in\n",
    "  let nov_carry = (stevilo1 < stevilo2) in\n",
    "  {stanje_pomnilnika with zero = nov_zero; carry = nov_carry}\n",
    "\n",
    "let conditional_jump stanje_pomnilnika naslov vrednost =\n",
    "  match vrednost with\n",
    "  | true -> jump stanje_pomnilnika naslov\n",
    "  | false -> proceed stanje_pomnilnika\n",
    "\n",
    "let call stanje_pomnilnika naslov = \n",
    "  match next stanje_pomnilnika.ip with\n",
    "  | Address x -> push_stack (jump stanje_pomnilnika naslov) x\n",
    "\n",
    "let return stanje_pomnilnika = \n",
    "  let naslov = fst (pop_stack stanje_pomnilnika) in\n",
    "  let novo_stanje_pomnilnika = snd (pop_stack stanje_pomnilnika) in\n",
    "  {novo_stanje_pomnilnika with ip = (Address naslov)}\n",
    "\n",
    "\n",
    "let run_instruction st = function\n",
    "  | MOV (reg, exp) -> write_register st reg (read_expression st exp) |> proceed\n",
    "  | ADD (reg, exp) -> perform_binop ( + ) st reg exp |> proceed\n",
    "  | SUB (reg, exp) -> if (read_register st reg) < (read_expression st exp) then failwith \"Število ne sme biti negativno\" \n",
    "                      else perform_binop ( - ) st reg exp |> proceed\n",
    "  | INC reg -> perform_unop succ st reg |> proceed\n",
    "  | DEC reg -> perform_unop (fun x -> if x = 0 then failwith \"Število ne sme biti negativno\" else x - 1) st reg |> proceed \n",
    "  | MUL exp -> perform_unop (fun x -> x * (read_expression st exp)) st A |> proceed\n",
    "  | DIV exp -> perform_unop (fun x -> x / (read_expression st exp)) st A |> proceed\n",
    "  (* Pozor, OCaml land/lor/lxor interpretira kot simbole, zato jih pišemo infiksno! *)\n",
    "  | AND (reg, exp) -> perform_binop ( land ) st reg exp |> proceed\n",
    "  | OR (reg, exp) -> perform_binop ( lor ) st reg exp |> proceed\n",
    "  | XOR (reg, exp) -> perform_binop ( lxor ) st reg exp |> proceed\n",
    "  | NOT reg -> perform_unop lnot st reg |> proceed\n",
    "  | CMP (reg, exp) -> compare st (read_register st reg) (read_expression st exp) |> proceed\n",
    "  | JMP add -> jump st add \n",
    "  | JA add -> conditional_jump st add (not st.carry && not st.zero)\n",
    "  | JAE add -> conditional_jump st add (not st.carry) \n",
    "  | JB add -> conditional_jump st add (st.carry && not st.zero)\n",
    "  | JBE add -> conditional_jump st add st.carry \n",
    "  | JE add -> conditional_jump st add st.zero \n",
    "  | JNE add -> conditional_jump st add (not st.zero) \n",
    "  | CALL add -> call st add \n",
    "  | RET -> return st \n",
    "  | PUSH exp -> push_stack st (read_expression st exp) |> proceed\n",
    "  | POP reg ->\n",
    "      let n, st' = pop_stack st in\n",
    "      write_register st' reg n |> proceed\n",
    "  | HLT -> failwith \"Cannot execute instruction\"\n",
    "\n",
    "\n",
    "\n",
    "let rec run_program stanje_pomnilnika =\n",
    "  let ukaz = read_instruction stanje_pomnilnika in\n",
    "  match ukaz with\n",
    "  | Some HLT -> stanje_pomnilnika\n",
    "  | Some x -> run_program (run_instruction stanje_pomnilnika x)\n",
    "  | None -> stanje_pomnilnika\n",
    "\n",
    "\n",
    "(*NIZIIII*)\n",
    "let parse_register niz : register = \n",
    "  match niz with\n",
    "  | \"A\" -> A \n",
    "  | \"B\" -> B \n",
    "  | \"C\" -> C \n",
    "  | \"D\" -> D \n",
    "  | _ -> failwith \"To ni register\"\n",
    "\n",
    "let parse_expression niz : expression = \n",
    "  match niz with \n",
    "  | \"A\" -> Register A \n",
    "  | \"B\" -> Register B \n",
    "  | \"C\" -> Register C \n",
    "  | \"D\" -> Register D \n",
    "  | drugo -> \n",
    "    match int_of_string_opt drugo with\n",
    "    | Some st -> Const st\n",
    "    | None -> failwith \"Izraz ni niti register niti konstanta\"\n",
    "\n",
    "\n",
    "\n",
    "let clean_line niz =\n",
    "  match String.index_opt niz ';' with\n",
    "  | Some i -> String.trim (String.sub niz 0 i)\n",
    "  | None -> String.trim niz\n",
    "\n",
    "let clean_lines seznam_vrstic = \n",
    "  let rec pomozna_clean_lines stare_vrstice nove_vrstice = \n",
    "    match stare_vrstice with\n",
    "    | [] -> List.rev nove_vrstice\n",
    "    | x :: xs -> \n",
    "      match clean_line x with\n",
    "      | \"\" -> pomozna_clean_lines xs nove_vrstice\n",
    "      | vrstica -> pomozna_clean_lines xs (vrstica :: nove_vrstice)\n",
    "    in\n",
    "    pomozna_clean_lines seznam_vrstic []\n",
    "\n",
    "  \n",
    "let parse_address (seznam_nizov_in_naslovov: (string * address) list) (niz: string) = \n",
    "  let rec pomozna_parse_address sez_nizov = \n",
    "    match sez_nizov with\n",
    "    | [] -> Address (int_of_string niz)\n",
    "    | (ime, naslov) :: xs -> if ime = niz then naslov\n",
    "      else pomozna_parse_address xs\n",
    "    in pomozna_parse_address seznam_nizov_in_naslovov\n",
    "\n",
    "\n",
    "let parse_label niz =\n",
    "  let indeks_zadnjega_znaka = String.length niz - 1 \n",
    "  in \n",
    "  match String.get niz indeks_zadnjega_znaka with\n",
    "  | ':' -> Some (String.sub niz 0 indeks_zadnjega_znaka)\n",
    "  | _ -> None\n",
    "\n",
    "\n",
    "let parse_labels seznam_nizov =\n",
    "  let rec pomozna_parse_labels vsi_nizi seznam_ukazov_z_naslovi nespremenjene_vrstice st_naslova = \n",
    "    match vsi_nizi with\n",
    "    | [] -> (seznam_ukazov_z_naslovi, List.rev nespremenjene_vrstice)\n",
    "    | x :: xs ->\n",
    "      match parse_label x with \n",
    "      | Some ukaz -> pomozna_parse_labels xs ((ukaz, Address st_naslova) :: seznam_ukazov_z_naslovi) nespremenjene_vrstice st_naslova\n",
    "      | None -> pomozna_parse_labels xs seznam_ukazov_z_naslovi (x :: nespremenjene_vrstice) (st_naslova + 1)\n",
    "    in pomozna_parse_labels seznam_nizov [] [] 0\n",
    "\n",
    "\n",
    "let parse_instruction labels line =\n",
    "  let tokens =\n",
    "    line\n",
    "    |> String.split_on_char ' '\n",
    "    |> List.concat_map (String.split_on_char ',')\n",
    "    |> List.map String.trim\n",
    "    |> List.filter (fun token -> token <> \"\")\n",
    "  in\n",
    "  match tokens with\n",
    "  | [\"MOV\"; reg; exp] -> MOV (parse_register reg, parse_expression exp)\n",
    "  | [\"ADD\"; reg; exp] -> ADD (parse_register reg, parse_expression exp)\n",
    "  | [\"SUB\"; reg; exp] -> SUB (parse_register reg, parse_expression exp)\n",
    "  | [\"INC\"; reg] -> INC (parse_register reg)\n",
    "  | [\"DEC\"; reg] -> DEC (parse_register reg)\n",
    "  | [\"MUL\"; exp] -> MUL (parse_expression exp)\n",
    "  | [\"DIV\"; exp] -> DIV (parse_expression exp)\n",
    "  | [\"AND\"; reg; exp] -> AND (parse_register reg, parse_expression exp)\n",
    "  | [\"OR\"; reg; exp] -> OR (parse_register reg, parse_expression exp)\n",
    "  | [\"XOR\"; reg; exp] -> XOR (parse_register reg, parse_expression exp)\n",
    "  | [\"NOT\"; reg] -> NOT (parse_register reg)\n",
    "  | [\"CMP\"; reg; exp] -> CMP (parse_register reg, parse_expression exp)\n",
    "  | [\"JMP\"; add] -> JMP (parse_address labels add)\n",
    "  | [\"JA\"; add] -> JA (parse_address labels add)\n",
    "  | [\"JAE\"; add] -> JAE (parse_address labels add)\n",
    "  | [\"JB\"; add] -> JB (parse_address labels add)\n",
    "  | [\"JBE\"; add] -> JBE (parse_address labels add)\n",
    "  | [\"JE\"; add] -> JE (parse_address labels add)\n",
    "  | [\"JNE\"; add] -> JNE (parse_address labels add)\n",
    "  | [\"CALL\"; add] -> CALL (parse_address labels add)\n",
    "  | [\"RET\"] -> RET\n",
    "  | [\"PUSH\"; exp] -> PUSH (parse_expression exp)\n",
    "  | [\"POP\"; reg] -> POP (parse_register reg)\n",
    "  | [\"HLT\"] -> HLT\n",
    "  | _ -> failwith (\"Invalid instruction: \" ^ line)\n"
   ]
  },
  {
   "cell_type": "code",
   "execution_count": 177,
   "metadata": {
    "vscode": {
     "languageId": "ocaml"
    }
   },
   "outputs": [
    {
     "data": {
      "text/plain": [
       "val run : string -> state = <fun>\n"
      ]
     },
     "execution_count": 177,
     "metadata": {},
     "output_type": "execute_result"
    }
   ],
   "source": [
    "let run niz_z_ukazi =\n",
    "  let seznam_vrstic = clean_lines (String.split_on_char '\\n' niz_z_ukazi) in\n",
    "  let seznam_navodil = parse_labels seznam_vrstic in\n",
    "  let (oznake, ukazi) = seznam_navodil in\n",
    "  let stanje_pomnilnika = init (List.map (parse_instruction oznake) ukazi) in\n",
    "  run_program stanje_pomnilnika\n"
   ]
  },
  {
   "cell_type": "code",
   "execution_count": 178,
   "metadata": {
    "vscode": {
     "languageId": "ocaml"
    }
   },
   "outputs": [
    {
     "data": {
      "text/plain": [
       "val primer_branje_11 : state =\n",
       "  {instructions =\n",
       "    [|JMP (Address 20); PUSH (Register C); PUSH (Register B);\n",
       "      MOV (C, Register A); CMP (A, Const 0); JE (Address 17);\n",
       "      CMP (A, Const 1); JE (Address 17); DEC C; MOV (A, Register C);\n",
       "      CALL (Address 1); MOV (B, Register A); DEC C; MOV (A, Register C);\n",
       "      CALL (Address 1); ADD (A, Register B); JMP (Address 17); POP B; \n",
       "      POP C; RET; MOV (A, Const 7); CALL (Address 1); HLT|];\n",
       "   a = 13; b = 0; c = 0; d = 0; ip = Address 22; zero = true; carry = false;\n",
       "   stack = []}\n"
      ]
     },
     "execution_count": 178,
     "metadata": {},
     "output_type": "execute_result"
    }
   ],
   "source": [
    "let primer_branje_11 =\n",
    "  run fibonacci"
   ]
  }
 ],
 "metadata": {
  "kernelspec": {
   "display_name": "OCaml 4.14",
   "language": "OCaml",
   "name": "ocaml-jupyter"
  },
  "language_info": {
   "codemirror_mode": "text/x-ocaml",
   "file_extension": ".ml",
   "mimetype": "text/x-ocaml",
   "name": "OCaml",
   "nbconverter_exporter": null,
   "pygments_lexer": "OCaml",
   "version": "4.14.2"
  }
 },
 "nbformat": 4,
 "nbformat_minor": 2
}
