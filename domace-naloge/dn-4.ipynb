{
 "cells": [
  {
   "cell_type": "markdown",
   "metadata": {
    "vscode": {
     "languageId": "ocaml"
    }
   },
   "source": [
    "# 4. domača naloga"
   ]
  },
  {
   "cell_type": "markdown",
   "metadata": {},
   "source": [
    "Pri tej nalogi boste napisali svoj simulator Turingovih strojev. Zaradi preprostosti bomo za abecedo vzeli kar znake tipa `char`, za prazni znak bomo izbrali presledek `' '`, stanja pa bomo predstavili z nizi. Za možne premike zafiksiramo tip `direction`:"
   ]
  },
  {
   "cell_type": "code",
   "execution_count": 7,
   "metadata": {
    "vscode": {
     "languageId": "ocaml"
    }
   },
   "outputs": [
    {
     "data": {
      "text/plain": [
       "type direction = Left | Right\n"
      ]
     },
     "execution_count": 7,
     "metadata": {},
     "output_type": "execute_result"
    },
    {
     "data": {
      "text/plain": [
       "type state = string\n"
      ]
     },
     "execution_count": 7,
     "metadata": {},
     "output_type": "execute_result"
    }
   ],
   "source": [
    "type direction = Left | Right\n",
    "type state = string"
   ]
  },
  {
   "cell_type": "markdown",
   "metadata": {},
   "source": [
    "## Implementacija trakov"
   ]
  },
  {
   "cell_type": "markdown",
   "metadata": {},
   "source": [
    "Napišite modul `Tape`, ki implementira spodnjo signaturo, kjer je:\n",
    "\n",
    "- `t` tip v obe smeri neomejenih trakov in glavo na danem mestu;\n",
    "- `make`, ki naredi nov trak z znaki iz niza ter glavo na prvem znaku;\n",
    "- `read`, ki vrne znak pod glavo;\n",
    "- `write`, ki pod glavo zapiše dani znak;\n",
    "- `move`, ki glavo premakne v dano smer;\n",
    "- `print`, ki izpiše vsebino traku ter pod njim z `^` označi mesto glave.\n",
    "\n",
    "Zadnji dve funkciji naj vrneta nov trak, obstoječega pa naj pustita nespremenjenega.\n",
    "\n",
    "Ker je tip `t` abstrakten, si lahko privoščite poljubno implementacijo, zato poskrbite tako za učinkovitost kot za preglednost kode."
   ]
  },
  {
   "cell_type": "code",
   "execution_count": 8,
   "metadata": {
    "vscode": {
     "languageId": "ocaml"
    }
   },
   "outputs": [
    {
     "data": {
      "text/plain": [
       "module type TAPE =\n",
       "  sig\n",
       "    type t\n",
       "    val make : string -> t\n",
       "    val move : direction -> t -> t\n",
       "    val read : t -> char\n",
       "    val write : char -> t -> t\n",
       "    val print : t -> unit\n",
       "  end\n"
      ]
     },
     "execution_count": 8,
     "metadata": {},
     "output_type": "execute_result"
    }
   ],
   "source": [
    "module type TAPE = sig\n",
    "  type t\n",
    "\n",
    "  val make : string -> t\n",
    "  val move : direction -> t -> t\n",
    "  val read : t -> char\n",
    "  val write : char -> t -> t\n",
    "  val print : t -> unit\n",
    "end"
   ]
  },
  {
   "cell_type": "code",
   "execution_count": null,
   "metadata": {
    "vscode": {
     "languageId": "ocaml"
    }
   },
   "outputs": [
    {
     "ename": "error",
     "evalue": "compile_error",
     "output_type": "error",
     "traceback": [
      "File \"[24]\", lines 1-15, characters 21-3:\n 1 | .....................struct\n 2 |   type t = {levo : string; glava : char; desno : string}\n 3 | \n 4 |   let make niz =\n 5 |     (**)\n...\n12 |   let read = failwith\"\"\n13 |   let write = failwith\"\"\n14 |   let print = failwith\"\"\n15 | end\nError: Signature mismatch:\n       ...\n       Values do not match:\n         val move : t -> char\n       is not included in\n         val move : [ `Left | `Right ] -> t -> t\n       The type t -> char is not compatible with the type\n         [ `Left | `Right ] -> t -> t\n       Type t is not compatible with type [ `Left | `Right ] \n       File \"[21]\", line 5, characters 2-39: Expected declaration\n       File \"[24]\", line 11, characters 6-10: Actual declaration\n"
     ]
    }
   ],
   "source": [
    "module Tape : TAPE = struct\n",
    "  type t = {levo : string; glava : char; desno : string}\n",
    "\n",
    "  let make niz =\n",
    "    (**)\n",
    "    match niz with\n",
    "    | \"\" -> { levo = \"\"; glava = ' ' ; desno = \"\" }\n",
    "    | _ -> { levo = \"\"; glava = String.get niz 0; desno = String.sub niz 1 ((String.length niz) - 1) }\n",
    "    (**)\n",
    "\n",
    "  let move smer trak = \n",
    "    match smer with\n",
    "    | Left -> \n",
    "      match trak.levo with\n",
    "      | \"\" -> {levo = \"\"; glava = ' '; desno = (String.make 1 trak.glava) ^ trak.desno }\n",
    "      | _ -> \n",
    "        let nova_glava = String.get tape.levo (String.length tape.levo - 1) in\n",
    "        let novo_levo = String.sub tape.levo 0 (String.length tape.levo - 1) in\n",
    "        let novo_desno = String.make 1 tape.glava ^ tape.desno in\n",
    "        {levo = novo_levo; glava = nova_glava; desno = novo_desno }\n",
    "\n",
    "  let read = failwith\"\"\n",
    "  let write = failwith\"\"\n",
    "  let print = failwith\"\"\n",
    "end"
   ]
  },
  {
   "cell_type": "code",
   "execution_count": 26,
   "metadata": {
    "vscode": {
     "languageId": "ocaml"
    }
   },
   "outputs": [
    {
     "data": {
      "text/plain": [
       "module type TAPE =\n",
       "  sig\n",
       "    type t\n",
       "    val make : string -> t\n",
       "    val move : [ `Left | `Right ] -> t -> t\n",
       "    val read : t -> char\n",
       "    val write : char -> t -> t\n",
       "    val print : t -> unit\n",
       "  end\n"
      ]
     },
     "execution_count": 26,
     "metadata": {},
     "output_type": "execute_result"
    },
    {
     "data": {
      "text/plain": [
       "module Tape : TAPE\n"
      ]
     },
     "execution_count": 26,
     "metadata": {},
     "output_type": "execute_result"
    }
   ],
   "source": [
    "module type TAPE = sig\n",
    "  type t\n",
    "\n",
    "  val make : string -> t\n",
    "  val move : [`Left | `Right] -> t -> t\n",
    "  val read : t -> char\n",
    "  val write : char -> t -> t\n",
    "  val print : t -> unit\n",
    "end\n",
    "\n",
    "module Tape : TAPE = struct\n",
    "  type t = { levo : string; glava : char; desno : string }\n",
    "\n",
    "  (* Ustvari nov trak na podlagi danega niza *)\n",
    "  let make niz =\n",
    "    match niz with\n",
    "    | \"\" -> { levo = \"\"; glava = ' '; desno = \"\" }\n",
    "    | _ -> { levo = \"\"; glava = String.get niz 0; desno = String.sub niz 1 (String.length niz - 1) }\n",
    "\n",
    "  (* Premakne glavo v levo ali desno *)\n",
    "  let move smer tape =\n",
    "    match smer with\n",
    "    | `Left ->\n",
    "        if tape.levo = \"\" then\n",
    "          { levo = \"\"; glava = ' '; desno = String.make 1 tape.glava ^ tape.desno }\n",
    "        else\n",
    "          let nova_glava = String.get tape.levo (String.length tape.levo - 1) in\n",
    "          let novo_levo = String.sub tape.levo 0 (String.length tape.levo - 1) in\n",
    "          let novo_desno = String.make 1 tape.glava ^ tape.desno in\n",
    "          { levo = novo_levo; glava = nova_glava; desno = novo_desno }\n",
    "    | `Right ->\n",
    "        if tape.desno = \"\" then\n",
    "          { levo = tape.levo ^ String.make 1 tape.glava; glava = ' '; desno = \"\" }\n",
    "        else\n",
    "          let nova_glava = String.get tape.desno 0 in\n",
    "          let novo_desno = String.sub tape.desno 1 (String.length tape.desno - 1) in\n",
    "          let novo_levo = tape.levo ^ String.make 1 tape.glava in\n",
    "          { levo = novo_levo; glava = nova_glava; desno = novo_desno }\n",
    "\n",
    "  (* Prebere trenutno glavo *)\n",
    "  let read tape = tape.glava\n",
    "\n",
    "  (* Zapiše znak na trenutno glavo *)\n",
    "  let write znak tape = { levo = tape.levo; glava = znak; desno = tape.desno }\n",
    "\n",
    "  (* Izpiše stanje traku *)\n",
    "  let print tape =\n",
    "    Printf.printf \"Levo: %s\\nGlava: %c\\nDesno: %s\\n\" tape.levo tape.glava tape.desno\n",
    "end\n"
   ]
  },
  {
   "cell_type": "code",
   "execution_count": 9,
   "metadata": {
    "vscode": {
     "languageId": "ocaml"
    }
   },
   "outputs": [
    {
     "ename": "error",
     "evalue": "compile_error",
     "output_type": "error",
     "traceback": [
      "File \"[9]\", line 1, characters 0-4:\n1 | Tape.(\n    ^^^^\nError: Unbound module Tape\n"
     ]
    }
   ],
   "source": [
    "Tape.(\n",
    "  make \"ABCDE\"\n",
    "  |> move Right\n",
    "  |> move Right\n",
    "  |> write '!'\n",
    "  |> move Left\n",
    "  |> print\n",
    ")"
   ]
  },
  {
   "cell_type": "markdown",
   "metadata": {
    "vscode": {
     "languageId": "ocaml"
    }
   },
   "source": [
    "## Implementacija Turingovih strojev"
   ]
  },
  {
   "cell_type": "markdown",
   "metadata": {},
   "source": [
    "Napišite modul `Machine`, ki implementira spodnjo signaturo, kjer je:\n",
    "\n",
    "- `t` tip Turingovih strojev;\n",
    "- `make`, ki naredi nov stroj z danim začetnim stanjem in seznamom preostalih stanj ter prazno prehodno funkcijo;\n",
    "- `initial`, ki vrne začetno stanje stroja;\n",
    "- `add_transition`, ki prehodno funkcijo razširi s prehodom $(q, a) \\mapsto (q', a', d)$;\n",
    "- `step`, ki za dano stanje in trak izvede en korak stroja, če je to mogoče.\n",
    "\n",
    "Zadnji dve funkciji naj vrneta spremenjene vrednosti, obstoječe argumente pa naj pustita nespremenjene. Prav tako pri zadnjih dveh funkcijah lahko predpostavite, da ju bomo klicali le na poprej podanih stanjih.\n",
    "\n",
    "Tudi tu je tip `t` abstrakten, zato poskrbite za učinkovitost in preglednost kode."
   ]
  },
  {
   "cell_type": "code",
   "execution_count": null,
   "metadata": {
    "vscode": {
     "languageId": "ocaml"
    }
   },
   "outputs": [],
   "source": [
    "module type MACHINE = sig\n",
    "  type t\n",
    "  val make : state -> state list -> t\n",
    "  val initial : t -> state\n",
    "  val add_transition : state -> char -> state -> char -> direction -> t -> t\n",
    "  val step : t -> state -> Tape.t -> (state * Tape.t) option\n",
    "end"
   ]
  },
  {
   "cell_type": "markdown",
   "metadata": {
    "vscode": {
     "languageId": "ocaml"
    }
   },
   "source": [
    "Primer stroja \"Binary Increment\" na <http://turingmachine.io> lahko implementiramo kot:"
   ]
  },
  {
   "cell_type": "code",
   "execution_count": null,
   "metadata": {
    "vscode": {
     "languageId": "ocaml"
    }
   },
   "outputs": [],
   "source": [
    "let binary_increment =\n",
    "  Machine.(\n",
    "    make \"right\" [ \"carry\"; \"done\" ]\n",
    "    |> add_transition \"right\" '1' \"right\" '1' Right\n",
    "    |> add_transition \"right\" '0' \"right\" '0' Right\n",
    "    |> add_transition \"right\" ' ' \"carry\" ' ' Left\n",
    "    |> add_transition \"carry\" '1' \"carry\" '0' Left\n",
    "    |> add_transition \"carry\" '0' \"done\" '1' Left\n",
    "    |> add_transition \"carry\" ' ' \"done\" '1' Left\n",
    "  )\n"
   ]
  },
  {
   "cell_type": "markdown",
   "metadata": {
    "vscode": {
     "languageId": "ocaml"
    }
   },
   "source": [
    "Zapišite funkciji `slow_run` in `speed_run` tipa `Machine.t -> str -> unit`, ki simulirata Turingov stroj na traku, na katerem je na začetku zapisan dani niz. Prva naj izpiše trakove in stanja pri vseh vmesnih korakih, druga pa naj izpiše le končni trak. Slednjo bomo uporabljali tudi pri meritvi učinkovitosti izvajanja."
   ]
  },
  {
   "cell_type": "code",
   "execution_count": null,
   "metadata": {
    "vscode": {
     "languageId": "ocaml"
    }
   },
   "outputs": [],
   "source": [
    "let _ =\n",
    "  slow_run binary_increment \"1011\""
   ]
  },
  {
   "cell_type": "code",
   "execution_count": null,
   "metadata": {
    "vscode": {
     "languageId": "ocaml"
    }
   },
   "outputs": [],
   "source": [
    "let _ =\n",
    "  speed_run binary_increment \"1011\""
   ]
  },
  {
   "cell_type": "markdown",
   "metadata": {},
   "source": [
    "## Krajši zapis"
   ]
  },
  {
   "cell_type": "markdown",
   "metadata": {},
   "source": [
    "Ko definiramo Turingov stroj, prehode običajno združujemo najprej po stanjih, nato pa še po znakih. Prav tako pri dosti prehodih samo premikamo glavo, trak in stanje pa pustimo pri miru. Zapišite funkcije:\n",
    "\n",
    "- `for_state`\n",
    "- `for_character`\n",
    "- `for_characters`\n",
    "- `move`\n",
    "- `switch_and_move`\n",
    "- `write_and_move`\n",
    "- `write_switch_and_move`\n",
    "\n",
    "s katerimi bi lahko zgornji primer na krajše zapisali kot spodaj. Implementacijo in tipe ugotovite sami."
   ]
  },
  {
   "cell_type": "code",
   "execution_count": null,
   "metadata": {
    "vscode": {
     "languageId": "ocaml"
    }
   },
   "outputs": [],
   "source": [
    "let binary_increment' =\n",
    "  Machine.make \"right\" [\"carry\"; \"done\"]\n",
    "  |> for_state \"right\" [\n",
    "    for_characters \"01\" @@ move Right;\n",
    "    for_character ' ' @@ switch_and_move \"carry\" Left\n",
    "  ]\n",
    "  |> for_state \"carry\" [\n",
    "    for_character '1' @@ switch_and_move \"carry\" Left;\n",
    "    for_characters \"0 \" @@ write_switch_and_move \"done\" '1' Left\n",
    "  ]  "
   ]
  },
  {
   "cell_type": "markdown",
   "metadata": {},
   "source": [
    "## Primeri Turingovih strojev"
   ]
  },
  {
   "cell_type": "markdown",
   "metadata": {
    "vscode": {
     "languageId": "ocaml"
    }
   },
   "source": [
    "### Obračanje niza\n"
   ]
  },
  {
   "cell_type": "markdown",
   "metadata": {},
   "source": [
    "Sestavite Turingov stroj, ki začetni niz obrne na glavo. Pri tem lahko predpostavite, da v začetnem nizu ni nobenega presledka."
   ]
  },
  {
   "cell_type": "markdown",
   "metadata": {},
   "source": [
    "### Eniški zapis\n"
   ]
  },
  {
   "cell_type": "markdown",
   "metadata": {},
   "source": [
    "Sestavite Turingov stroj, ki na začetku na traku sprejme število $n$, zapisano v dvojiškem zapisu, na koncu pa naj bo na traku zapisanih natanko $n$ enic."
   ]
  },
  {
   "cell_type": "markdown",
   "metadata": {},
   "source": [
    "### Dvojiški zapis\n"
   ]
  },
  {
   "cell_type": "markdown",
   "metadata": {},
   "source": [
    "Sestavite ravno obratni Turingov stroj, torej tak, ki na začetku na traku sprejme število $n$ enic, na koncu pa naj bo na traku zapisano število $n$ v dvojiškem zapisu."
   ]
  },
  {
   "cell_type": "markdown",
   "metadata": {},
   "source": [
    "## Preizkus Church-Turingove teze"
   ]
  }
 ],
 "metadata": {
  "kernelspec": {
   "display_name": "OCaml 4.14",
   "language": "OCaml",
   "name": "ocaml-jupyter"
  },
  "language_info": {
   "codemirror_mode": "text/x-ocaml",
   "file_extension": ".ml",
   "mimetype": "text/x-ocaml",
   "name": "OCaml",
   "nbconverter_exporter": null,
   "pygments_lexer": "OCaml",
   "version": "4.14.2"
  }
 },
 "nbformat": 4,
 "nbformat_minor": 2
}
