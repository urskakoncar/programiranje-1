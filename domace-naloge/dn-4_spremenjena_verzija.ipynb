{
 "cells": [
  {
   "cell_type": "markdown",
   "metadata": {
    "vscode": {
     "languageId": "ocaml"
    }
   },
   "source": [
    "# 4. domača naloga"
   ]
  },
  {
   "cell_type": "markdown",
   "metadata": {},
   "source": [
    "Pri tej nalogi boste napisali svoj simulator Turingovih strojev. Zaradi preprostosti bomo za abecedo vzeli kar znake tipa `char`, za prazni znak bomo izbrali presledek `' '`, stanja pa bomo predstavili z nizi. Za možne premike zafiksiramo tip `smer`:"
   ]
  },
  {
   "cell_type": "code",
   "execution_count": 12,
   "metadata": {
    "vscode": {
     "languageId": "ocaml"
    }
   },
   "outputs": [
    {
     "data": {
      "text/plain": [
       "type direction = Left | Right\n"
      ]
     },
     "execution_count": 12,
     "metadata": {},
     "output_type": "execute_result"
    },
    {
     "data": {
      "text/plain": [
       "type state = string\n"
      ]
     },
     "execution_count": 12,
     "metadata": {},
     "output_type": "execute_result"
    }
   ],
   "source": [
    "type direction = Left | Right\n",
    "type state = string"
   ]
  },
  {
   "cell_type": "markdown",
   "metadata": {},
   "source": [
    "## Implementacija trakov"
   ]
  },
  {
   "cell_type": "markdown",
   "metadata": {},
   "source": [
    "Napišite modul `Tape`, ki implementira spodnjo signaturo, kjer je:\n",
    "\n",
    "- `t` tip v obe smeri neomejenih trakov in glavo na danem mestu;\n",
    "- `make`, ki naredi nov trak z znaki iz niza ter glavo na prvem znaku;\n",
    "- `read`, ki vrne znak pod glavo;\n",
    "- `write`, ki pod glavo zapiše dani znak;\n",
    "- `move`, ki glavo premakne v dano smer;\n",
    "- `print`, ki izpiše vsebino traku (brez presledkov na začetku in koncu) ter pod njim z `^` označi mesto glave.\n",
    "\n",
    "Zadnji dve funkciji naj vrneta nov trak, obstoječega pa naj pustita nespremenjenega.\n",
    "\n",
    "Ker je tip `t` abstrakten, si lahko privoščite poljubno implementacijo, zato poskrbite tako za učinkovitost kot za preglednost kode."
   ]
  },
  {
   "cell_type": "code",
   "execution_count": 14,
   "metadata": {
    "vscode": {
     "languageId": "ocaml"
    }
   },
   "outputs": [
    {
     "data": {
      "text/plain": [
       "module type TAPE =\n",
       "  sig\n",
       "    type t\n",
       "    val make : string -> t\n",
       "    val move : direction -> t -> t\n",
       "    val read : t -> char\n",
       "    val write : char -> t -> t\n",
       "    val print : t -> unit\n",
       "  end\n"
      ]
     },
     "execution_count": 14,
     "metadata": {},
     "output_type": "execute_result"
    }
   ],
   "source": [
    "module type TAPE = sig\n",
    "  type t\n",
    "\n",
    "  val make : string -> t\n",
    "  val move : direction -> t -> t\n",
    "  val read : t -> char\n",
    "  val write : char -> t -> t\n",
    "  val print : t -> unit\n",
    "end"
   ]
  },
  {
   "cell_type": "code",
   "execution_count": 30,
   "metadata": {
    "vscode": {
     "languageId": "ocaml"
    }
   },
   "outputs": [
    {
     "data": {
      "text/plain": [
       "module Tape : TAPE\n"
      ]
     },
     "execution_count": 30,
     "metadata": {},
     "output_type": "execute_result"
    }
   ],
   "source": [
    "module Tape : TAPE = struct\n",
    "  type t = {\n",
    "    levi : char list; \n",
    "    glava : char ; \n",
    "    desni: char list }\n",
    "\n",
    "  \n",
    "  let make niz =\n",
    "    let znaki = List.init (String.length niz) (String.get niz) in\n",
    "    match znaki with\n",
    "    | [] -> { levi = []; glava = ' '; desni = [] }\n",
    "    | x :: xs -> { levi = []; glava = x; desni = xs }  \n",
    "  \n",
    "  let move smer trak =\n",
    "    match smer with\n",
    "    | Right ->\n",
    "      let nov_levi = trak.glava :: trak.levi in\n",
    "      let nova_glava = \n",
    "        match trak.desni with\n",
    "        | [] -> ' '\n",
    "        | x :: xs -> x\n",
    "      in\n",
    "      let nov_desni =\n",
    "        match trak.desni with\n",
    "        | [] -> []\n",
    "        | x :: xs -> xs\n",
    "      in\n",
    "      {levi = nov_levi; glava = nova_glava; desni = nov_desni}\n",
    "    | Left ->\n",
    "      let nov_levi = \n",
    "        match trak.levi with\n",
    "        | [] -> []\n",
    "        | x :: xs -> xs\n",
    "      in\n",
    "      let nova_glava = \n",
    "        match trak.levi with\n",
    "        | [] -> ' '\n",
    "        | x :: xs -> x\n",
    "      in\n",
    "      let nov_desni = trak.glava :: trak.desni in\n",
    "      {levi = nov_levi; glava = nova_glava; desni = nov_desni}\n",
    "        \n",
    "\n",
    "  let read trak = trak.glava\n",
    "\n",
    "  let write znak trak = \n",
    "    {trak with glava = znak}\n",
    "\n",
    "  (*  \n",
    "  let print trak = \n",
    "    let pravilno_obrnjen_levi_sez = List.rev trak.levi in\n",
    "    let levi_niz_znakov = String.of_seq (List.to_seq pravilno_obrnjen_levi_sez) in\n",
    "    let desni_niz_znakov = String.of_seq (List.to_seq trak.desni) in\n",
    "    let niz_iz_glave = String.make 1 trak.glava in\n",
    "    let prazni_niz = (String.make (List.length trak.levi) ' ') ^ \"^\" in\n",
    "    print_endline (levi_niz_znakov ^ niz_iz_glave ^ desni_niz_znakov);\n",
    "    print_endline prazni_niz\n",
    "    *)\n",
    "  let print trak =\n",
    "    let pravilno_obrnjen_levi_sez = List.rev trak.levi in\n",
    "    let levi_niz_znakov = String.of_seq (List.to_seq pravilno_obrnjen_levi_sez) in\n",
    "    let desni_niz_znakov = String.of_seq (List.to_seq trak.desni) in\n",
    "    let niz_iz_glave = String.make 1 trak.glava in\n",
    "    (* Združimo celoten trak *)\n",
    "    let celoten_niz = levi_niz_znakov ^ niz_iz_glave ^ desni_niz_znakov in\n",
    "    (* Odstranimo začetne presledke *)\n",
    "    let obrezan_niz = String.trim celoten_niz in\n",
    "    (* Poiščemo položaj glave *)\n",
    "    let glava_pozicija = String.length (String.trim levi_niz_znakov) in\n",
    "    let kazalec = String.make glava_pozicija ' ' ^ \"^\" in\n",
    "    (* Izpišemo trak in kazalec *)\n",
    "    print_endline obrezan_niz;\n",
    "    print_endline kazalec \n",
    "    \n",
    "end"
   ]
  },
  {
   "cell_type": "code",
   "execution_count": null,
   "metadata": {
    "vscode": {
     "languageId": "ocaml"
    }
   },
   "outputs": [],
   "source": [
    "let print trak =\n",
    "  let pravilno_obrnjen_levi_sez = List.rev trak.levi in\n",
    "  let levi_niz_znakov = String.of_seq (List.to_seq pravilno_obrnjen_levi_sez) in\n",
    "  let desni_niz_znakov = String.of_seq (List.to_seq trak.desni) in\n",
    "  let niz_iz_glave = String.make 1 trak.glava in\n",
    "  (* Združimo celoten trak *)\n",
    "  let celoten_niz = levi_niz_znakov ^ niz_iz_glave ^ desni_niz_znakov in\n",
    "  (* Odstranimo začetne presledke *)\n",
    "  let obrezan_niz = String.trim celoten_niz in\n",
    "  (* Poiščemo položaj glave *)\n",
    "  let glava_pozicija = String.length (String.trim levi_niz_znakov) in\n",
    "  let kazalec = String.make glava_pozicija ' ' ^ \"^\" in\n",
    "  (* Izpišemo trak in kazalec *)\n",
    "  print_endline obrezan_niz;\n",
    "  print_endline kazalec\n"
   ]
  },
  {
   "cell_type": "code",
   "execution_count": 41,
   "metadata": {
    "vscode": {
     "languageId": "ocaml"
    }
   },
   "outputs": [
    {
     "name": "stdout",
     "output_type": "stream",
     "text": [
      "  AB!DE\n"
     ]
    },
    {
     "name": "stdout",
     "output_type": "stream",
     "text": [
      "    ^\n"
     ]
    },
    {
     "data": {
      "text/plain": [
       "val primer_trak : unit = ()\n"
      ]
     },
     "execution_count": 41,
     "metadata": {},
     "output_type": "execute_result"
    }
   ],
   "source": [
    "let primer_trak = Tape.(\n",
    "  make \"ABCDE\"\n",
    "  |> move Left\n",
    "  |> move Left\n",
    "  |> move Right\n",
    "  |> move Right\n",
    "  |> move Right\n",
    "  |> move Right\n",
    "  |> write '!'\n",
    "  |> print\n",
    ")"
   ]
  },
  {
   "cell_type": "code",
   "execution_count": 5,
   "metadata": {
    "vscode": {
     "languageId": "ocaml"
    }
   },
   "outputs": [
    {
     "name": "stdout",
     "output_type": "stream",
     "text": [
      "  AB!DE\n",
      "    ^\n"
     ]
    },
    {
     "data": {
      "text/plain": [
       "val primer_trak : unit = ()\n"
      ]
     },
     "execution_count": 5,
     "metadata": {},
     "output_type": "execute_result"
    }
   ],
   "source": [
    "(**tole ne dela prov, popravi zgornje*)\n",
    "let primer_trak = Tape.(\n",
    "  make \"ABCDE\"\n",
    "  |> move Left\n",
    "  |> move Left\n",
    "  |> move Right\n",
    "  |> move Right\n",
    "  |> move Right\n",
    "  |> move Right\n",
    "  |> write '!'\n",
    "  |> print\n",
    ")"
   ]
  },
  {
   "cell_type": "markdown",
   "metadata": {
    "vscode": {
     "languageId": "ocaml"
    }
   },
   "source": [
    "## Implementacija Turingovih strojev"
   ]
  },
  {
   "cell_type": "markdown",
   "metadata": {},
   "source": [
    "Napišite modul `Machine`, ki implementira spodnjo signaturo, kjer je:\n",
    "\n",
    "- `t` tip Turingovih strojev;\n",
    "- `make`, ki naredi nov stroj z danim začetnim stanjem in seznamom preostalih stanj ter prazno prehodno funkcijo;\n",
    "- `initial`, ki vrne začetno stanje stroja;\n",
    "- `add_transition`, ki prehodno funkcijo razširi s prehodom $(q, a) \\mapsto (q', a', d)$;\n",
    "- `step`, ki za dano stanje in trak izvede en korak stroja, če je to mogoče.\n",
    "\n",
    "Zadnji dve funkciji naj vrneta spremenjene vrednosti, obstoječe argumente pa naj pustita nespremenjene. Prav tako pri zadnjih dveh funkcijah lahko predpostavite, da ju bomo klicali le na poprej podanih stanjih.\n",
    "\n",
    "Tudi tu je tip `t` abstrakten, zato poskrbite za učinkovitost in preglednost kode."
   ]
  },
  {
   "cell_type": "code",
   "execution_count": 16,
   "metadata": {
    "vscode": {
     "languageId": "ocaml"
    }
   },
   "outputs": [
    {
     "data": {
      "text/plain": [
       "module type MACHINE =\n",
       "  sig\n",
       "    type t\n",
       "    val make : state -> state list -> t\n",
       "    val initial : t -> state\n",
       "    val add_transition :\n",
       "      state -> char -> state -> char -> direction -> t -> t\n",
       "    val step : t -> state -> Tape.t -> (state * Tape.t) option\n",
       "  end\n"
      ]
     },
     "execution_count": 16,
     "metadata": {},
     "output_type": "execute_result"
    }
   ],
   "source": [
    "module type MACHINE = sig\n",
    "  type t\n",
    "  val make : state -> state list -> t\n",
    "  val initial : t -> state\n",
    "  val add_transition : state -> char -> state -> char -> direction -> t -> t\n",
    "  val step : t -> state -> Tape.t -> (state * Tape.t) option\n",
    "end"
   ]
  },
  {
   "cell_type": "markdown",
   "metadata": {},
   "source": [
    "tur stroj;\n",
    "    trak; predlog xs <| _ |> ys\n",
    "    prehodna funkcija\n",
    "    abeceda"
   ]
  },
  {
   "cell_type": "markdown",
   "metadata": {},
   "source": [
    "probably bo na ustnem: tist kar bi mogl bit v zadnji nal; nek prehod iz enga tur stroja v druzgaž\n",
    "torej neka zadeva ki izvaja programe\n",
    "funkcija iz stroja v stroj; da ko se T1 ustavi, se ustavi tudi T2\n",
    "\n",
    "obstaja nek jezik J = {a iz neke abecede iz 0 ali vec znakov; nek pogoj za a}"
   ]
  },
  {
   "cell_type": "markdown",
   "metadata": {},
   "source": [
    "naredi brez referenc"
   ]
  },
  {
   "cell_type": "markdown",
   "metadata": {},
   "source": [
    "prehodna funkcija E x Q -> Q x E x D (v resnici je sigma namest E pa ne vem kako jo napisat lp)\n",
    "torej iz para (znak, stanje) priredis novo stanje.\n",
    "To je najpomembnejša stvar v tur stroju, najveckrat se bo izvedla\n",
    "Lahko jo nardis kot slovar.\n",
    "\n",
    "Slovar: leksikografska urejenost:\n",
    "- lahko po E, ker so to characters in se jih da urediti\n",
    "- Q so stringi, ki se jih tudi da urediti\n",
    "skupaj nekak probi narest iskalno dreves\n",
    "\n",
    "lahko uporabis kar < na paru, bo delal, sam ga mors na prav nacin not zapisat (v nek tip al neki)\n",
    "\n"
   ]
  },
  {
   "cell_type": "markdown",
   "metadata": {},
   "source": [
    "______________ z drevesom ------------- z matriko\n",
    "- dodajanje __ log n------------------ 1 + x\n",
    "- iskanje ____ log n------------------ 1\n",
    "- init _______ 1 --------------------- n\n",
    "n = |E| x |Q| mimgrede"
   ]
  },
  {
   "cell_type": "markdown",
   "metadata": {},
   "source": [
    "uporab nek MAP.make(<) ki bo naredil slovar, ki je ze iskalno drevo\n",
    "map je slovar mimgrede\n"
   ]
  },
  {
   "cell_type": "markdown",
   "metadata": {},
   "source": [
    "ustni\n",
    "-drevesa\n",
    "-indukcija\n",
    "-nek algoritm, za analizirat casovno zahtevnost\n"
   ]
  },
  {
   "cell_type": "code",
   "execution_count": 11,
   "metadata": {
    "vscode": {
     "languageId": "ocaml"
    }
   },
   "outputs": [
    {
     "data": {
      "text/plain": [
       "module Machine : MACHINE\n"
      ]
     },
     "execution_count": 11,
     "metadata": {},
     "output_type": "execute_result"
    }
   ],
   "source": [
    "module Machine : MACHINE = struct\n",
    "  (**)\n",
    "  type t = {\n",
    "    mnozica_simbolov : char list; \n",
    "    prazni_znak : char; \n",
    "    mnozica_stanj : state list; \n",
    "    zacetno_stanje : state; \n",
    "    prehodna_funkcija : ((char * state) * (char * state * direction)) list\n",
    "    }\n",
    "  (**)\n",
    "  (*\n",
    "  type t = {\n",
    "    trenutno_stanje : state;\n",
    "    vsebina_traku : state list ;\n",
    "    mesto_glave_na_traku : char; (*to ni nc se prov implementiran*)\n",
    "    }  \n",
    "  *)\n",
    "  (*\n",
    "  type t = {\n",
    "    abeceda : char list; \n",
    "    trak : Tape.t; \n",
    "    prehodne_funkcije : ((char * state) * (char * state * direction)) list\n",
    "    }\n",
    "  *)\n",
    "  let make stanje seznam_stanj = \n",
    "    {mnozica_simbolov = [];\n",
    "    prazni_znak = ' ';\n",
    "    mnozica_stanj = seznam_stanj;\n",
    "    zacetno_stanje = stanje;\n",
    "    prehodna_funkcija = [] \n",
    "    }\n",
    "\n",
    "    \n",
    "  let initial tur_stroj = tur_stroj.zacetno_stanje\n",
    "\n",
    "  let add_transition stanje znak novo_stanje nov_znak smer tur_stroj = \n",
    "    {tur_stroj with prehodna_funkcija = ((znak, stanje), (nov_znak, novo_stanje, smer)) :: tur_stroj.prehodna_funkcija}\n",
    "\n",
    "  (*let step tur_stroj stanje trak_od_tur_stroja = failwith \"(stanje * trak_od_tur_stroja) option\"*)\n",
    "\n",
    "  let step tur_stroj stanje trak =\n",
    "    let znak = Tape.read trak in\n",
    "    match List.find_opt (fun ((pr_znak, pr_stanje), _) -> pr_znak = znak && pr_stanje = stanje) tur_stroj.prehodna_funkcija with\n",
    "    | Some (_, (napisi_znak, novo_stanje, smer)) ->\n",
    "        let nov_trak = trak |> Tape.write napisi_znak |> Tape.move smer in\n",
    "        Some (novo_stanje, nov_trak)\n",
    "    | None -> None\n",
    "end\n"
   ]
  },
  {
   "cell_type": "code",
   "execution_count": 17,
   "metadata": {
    "vscode": {
     "languageId": "ocaml"
    }
   },
   "outputs": [
    {
     "data": {
      "text/plain": [
       "module PrehodMap :\n",
       "  sig\n",
       "    type key = state * char\n",
       "    type +!'a t\n",
       "    val empty : 'a t\n",
       "    val is_empty : 'a t -> bool\n",
       "    val mem : key -> 'a t -> bool\n",
       "    val add : key -> 'a -> 'a t -> 'a t\n",
       "    val update : key -> ('a option -> 'a option) -> 'a t -> 'a t\n",
       "    val singleton : key -> 'a -> 'a t\n",
       "    val remove : key -> 'a t -> 'a t\n",
       "    val merge :\n",
       "      (key -> 'a option -> 'b option -> 'c option) -> 'a t -> 'b t -> 'c t\n",
       "    val union : (key -> 'a -> 'a -> 'a option) -> 'a t -> 'a t -> 'a t\n",
       "    val compare : ('a -> 'a -> int) -> 'a t -> 'a t -> int\n",
       "    val equal : ('a -> 'a -> bool) -> 'a t -> 'a t -> bool\n",
       "    val iter : (key -> 'a -> unit) -> 'a t -> unit\n",
       "    val fold : (key -> 'a -> 'b -> 'b) -> 'a t -> 'b -> 'b\n",
       "    val for_all : (key -> 'a -> bool) -> 'a t -> bool\n",
       "    val exists : (key -> 'a -> bool) -> 'a t -> bool\n",
       "    val filter : (key -> 'a -> bool) -> 'a t -> 'a t\n",
       "    val filter_map : (key -> 'a -> 'b option) -> 'a t -> 'b t\n",
       "    val partition : (key -> 'a -> bool) -> 'a t -> 'a t * 'a t\n",
       "    val cardinal : 'a t -> int\n",
       "    val bindings : 'a t -> (key * 'a) list\n",
       "    val min_binding : 'a t -> key * 'a\n",
       "    val min_binding_opt : 'a t -> (key * 'a) option\n",
       "    val max_binding : 'a t -> key * 'a\n",
       "    val max_binding_opt : 'a t -> (key * 'a) option\n",
       "    val choose : 'a t -> key * 'a\n",
       "    val choose_opt : 'a t -> (key * 'a) option\n",
       "    val split : key -> 'a t -> 'a t * 'a option * 'a t\n",
       "    val find : key -> 'a t -> 'a\n",
       "    val find_opt : key -> 'a t -> 'a option\n",
       "    val find_first : (key -> bool) -> 'a t -> key * 'a\n",
       "    val find_first_opt : (key -> bool) -> 'a t -> (key * 'a) option\n",
       "    val find_last : (key -> bool) -> 'a t -> key * 'a\n",
       "    val find_last_opt : (key -> bool) -> 'a t -> (key * 'a) option\n",
       "    val map : ('a -> 'b) -> 'a t -> 'b t\n",
       "    val mapi : (key -> 'a -> 'b) -> 'a t -> 'b t\n",
       "    val to_seq : 'a t -> (key * 'a) Seq.t\n",
       "    val to_rev_seq : 'a t -> (key * 'a) Seq.t\n",
       "    val to_seq_from : key -> 'a t -> (key * 'a) Seq.t\n",
       "    val add_seq : (key * 'a) Seq.t -> 'a t -> 'a t\n",
       "    val of_seq : (key * 'a) Seq.t -> 'a t\n",
       "  end\n"
      ]
     },
     "execution_count": 17,
     "metadata": {},
     "output_type": "execute_result"
    },
    {
     "data": {
      "text/plain": [
       "module Machine : MACHINE\n"
      ]
     },
     "execution_count": 17,
     "metadata": {},
     "output_type": "execute_result"
    }
   ],
   "source": [
    "(*tale je ta prav!!!! se mi zdi*)\n",
    "\n",
    "module PrehodMap = Map.Make(struct\n",
    "  type t = state * char\n",
    "  let compare = compare  (* Privzeto leksikografsko urejanje *)\n",
    "end)\n",
    "\n",
    "module Machine : MACHINE = struct\n",
    "  type t = {\n",
    "    mnozica_simbolov : char list; \n",
    "    prazni_znak : char; \n",
    "    mnozica_stanj : state list; \n",
    "    zacetno_stanje : state; \n",
    "    prehodne_funkcije : (state * char * direction) PrehodMap.t;\n",
    "  }\n",
    "  \n",
    "  let make stanje seznam_stanj = \n",
    "    { mnozica_simbolov = [];\n",
    "      prazni_znak = ' ';\n",
    "      mnozica_stanj = seznam_stanj;\n",
    "      zacetno_stanje = stanje;\n",
    "      prehodne_funkcije = PrehodMap.empty;\n",
    "    }\n",
    "    \n",
    "  let initial tur_stroj = tur_stroj.zacetno_stanje\n",
    "\n",
    "  let add_transition stanje znak novo_stanje nov_znak smer tur_stroj = \n",
    "    { tur_stroj with\n",
    "      prehodne_funkcije = PrehodMap.add (stanje, znak) (novo_stanje, nov_znak, smer) tur_stroj.prehodne_funkcije\n",
    "    }\n",
    "\n",
    "  let step tur_stroj stanje trak =\n",
    "    let znak = Tape.read trak in\n",
    "    match PrehodMap.find_opt (stanje, znak) tur_stroj.prehodne_funkcije with\n",
    "    | Some (novo_stanje, nov_znak, smer) -> \n",
    "      let nov_trak = trak |> Tape.write nov_znak |> Tape.move smer in\n",
    "      Some (novo_stanje, nov_trak)\n",
    "    | None -> None\n",
    "end\n"
   ]
  },
  {
   "cell_type": "code",
   "execution_count": null,
   "metadata": {
    "vscode": {
     "languageId": "ocaml"
    }
   },
   "outputs": [],
   "source": [
    "type znak = char         (* Sigma - simboli *)\n",
    "type stanje = string     (* Q - stanja *)\n",
    "type premik = Levo | Desno | Ostani  (* D - premiki glave *)\n",
    "\n",
    "(* Prehodna funkcija: (znak, stanje) -> (novo_stanje, nov_znak, premik) *)\n",
    "type prehod = (stanje * znak, stanje * znak * premik) Map.Make(struct\n",
    "  type t = stanje * znak\n",
    "  let compare = compare  (* Uporabimo privzeto leksikografsko primerjavo *)\n",
    "end)\n",
    "\n",
    "module PrehodMap = Map.Make(struct\n",
    "  type t = stanje * znak\n",
    "  let compare = compare  (* Privzeto leksikografsko urejanje *)\n",
    "end)\n",
    "\n",
    "(* Tip stroja *)\n",
    "type t = {\n",
    "  mnozica_simbolov : znak list;\n",
    "  mnozica_stanj : stanje list;\n",
    "  zacetno_stanje : stanje;\n",
    "  prazni_znak : znak;\n",
    "  prehodne_funkcije : (stanje * znak, stanje * znak * premik) PrehodMap.t;\n",
    "}\n"
   ]
  },
  {
   "cell_type": "markdown",
   "metadata": {
    "vscode": {
     "languageId": "ocaml"
    }
   },
   "source": [
    "Primer stroja \"Binary Increment\" na <http://turingmachine.io> lahko implementiramo kot:"
   ]
  },
  {
   "cell_type": "code",
   "execution_count": 7,
   "metadata": {
    "vscode": {
     "languageId": "ocaml"
    }
   },
   "outputs": [
    {
     "data": {
      "text/plain": [
       "val binary_increment : Machine.t = <abstr>\n"
      ]
     },
     "execution_count": 7,
     "metadata": {},
     "output_type": "execute_result"
    }
   ],
   "source": [
    "let binary_increment =\n",
    "  Machine.(\n",
    "    make \"right\" [ \"carry\"; \"done\" ]\n",
    "    |> add_transition \"right\" '1' \"right\" '1' Right\n",
    "    |> add_transition \"right\" '0' \"right\" '0' Right\n",
    "    |> add_transition \"right\" ' ' \"carry\" ' ' Left\n",
    "    |> add_transition \"carry\" '1' \"carry\" '0' Left\n",
    "    |> add_transition \"carry\" '0' \"done\" '1' Left\n",
    "    |> add_transition \"carry\" ' ' \"done\" '1' Left\n",
    "  )\n"
   ]
  },
  {
   "cell_type": "code",
   "execution_count": 38,
   "metadata": {
    "vscode": {
     "languageId": "ocaml"
    }
   },
   "outputs": [
    {
     "data": {
      "text/plain": [
       "val binary_increment : Machine.t = <abstr>\n"
      ]
     },
     "execution_count": 38,
     "metadata": {},
     "output_type": "execute_result"
    }
   ],
   "source": [
    "let binary_increment =\n",
    "  Machine.(\n",
    "    make \"right\" [ \"carry\"; \"done\" ]\n",
    "    |> add_transition \"right\" '1' \"right\" '1' Right\n",
    "    |> add_transition \"right\" '0' \"right\" '0' Right\n",
    "    |> add_transition \"right\" ' ' \"carry\" ' ' Left\n",
    "    |> add_transition \"carry\" '1' \"carry\" '0' Left\n",
    "    |> add_transition \"carry\" '0' \"done\" '1' Left\n",
    "    |> add_transition \"carry\" ' ' \"done\" '1' Left\n",
    "  )"
   ]
  },
  {
   "cell_type": "markdown",
   "metadata": {
    "vscode": {
     "languageId": "ocaml"
    }
   },
   "source": [
    "Zapišite funkciji `slow_run` in `speed_run` tipa `Machine.t -> str -> unit`, ki simulirata Turingov stroj na traku, na katerem je na začetku zapisan dani niz. Prva naj izpiše trakove in stanja pri vseh vmesnih korakih, druga pa naj izpiše le končni trak. Slednjo bomo uporabljali tudi pri meritvi učinkovitosti izvajanja."
   ]
  },
  {
   "cell_type": "code",
   "execution_count": 18,
   "metadata": {
    "vscode": {
     "languageId": "ocaml"
    }
   },
   "outputs": [
    {
     "data": {
      "text/plain": [
       "val slow_run : Machine.t -> string -> unit = <fun>\n"
      ]
     },
     "execution_count": 18,
     "metadata": {},
     "output_type": "execute_result"
    }
   ],
   "source": [
    "let slow_run tur_stroj niz = \n",
    "  let zacetni_trak = Tape.make niz in \n",
    "  let zacetno_stanje = Machine.initial tur_stroj in \n",
    "  let rec pomozna trenutno_stanje trenutni_trak = \n",
    "    Tape.print trenutni_trak;\n",
    "    print_endline trenutno_stanje;\n",
    "    match Machine.step tur_stroj trenutno_stanje trenutni_trak with\n",
    "    | Some (stanje, trak) -> \n",
    "      pomozna stanje trak\n",
    "    | None -> ()\n",
    "  in\n",
    "  pomozna zacetno_stanje zacetni_trak\n"
   ]
  },
  {
   "cell_type": "code",
   "execution_count": 19,
   "metadata": {
    "vscode": {
     "languageId": "ocaml"
    }
   },
   "outputs": [
    {
     "data": {
      "text/plain": [
       "val speed_run : Machine.t -> string -> unit = <fun>\n"
      ]
     },
     "execution_count": 19,
     "metadata": {},
     "output_type": "execute_result"
    }
   ],
   "source": [
    "let speed_run tur_stroj niz = \n",
    "  let zacetni_trak = Tape.make niz in \n",
    "  let zacetno_stanje = Machine.initial tur_stroj in \n",
    "  let rec pomozna trenutno_stanje trenutni_trak = \n",
    "    match Machine.step tur_stroj trenutno_stanje trenutni_trak with\n",
    "    | Some (stanje, trak) -> pomozna stanje trak\n",
    "    | None -> Tape.print trenutni_trak\n",
    "  in\n",
    "  pomozna zacetno_stanje zacetni_trak"
   ]
  },
  {
   "cell_type": "code",
   "execution_count": 9,
   "metadata": {
    "vscode": {
     "languageId": "ocaml"
    }
   },
   "outputs": [
    {
     "name": "stdout",
     "output_type": "stream",
     "text": [
      "1011\n",
      "^\n",
      "right\n",
      "1011\n",
      " ^\n",
      "right\n",
      "1011\n",
      "  ^\n",
      "right\n",
      "1011\n",
      "   ^\n",
      "right\n",
      "1011\n",
      "    ^\n",
      "right\n",
      "1011\n",
      "   ^\n",
      "carry\n",
      "1010\n",
      "  ^\n",
      "carry\n",
      "1000\n",
      " ^\n",
      "carry\n",
      "1100\n",
      "^\n",
      "done\n"
     ]
    },
    {
     "data": {
      "text/plain": [
       "val primer_slow_run : unit = ()\n"
      ]
     },
     "execution_count": 9,
     "metadata": {},
     "output_type": "execute_result"
    }
   ],
   "source": [
    "let primer_slow_run =\n",
    "  slow_run binary_increment \"1011\""
   ]
  },
  {
   "cell_type": "code",
   "execution_count": 55,
   "metadata": {
    "vscode": {
     "languageId": "ocaml"
    }
   },
   "outputs": [
    {
     "name": "stdout",
     "output_type": "stream",
     "text": [
      "1011\n",
      "^\n",
      "right\n",
      "1011\n",
      " ^\n",
      "right\n",
      "1011\n",
      "  ^\n",
      "right\n",
      "1011\n",
      "   ^\n",
      "right\n",
      "1011 \n",
      "    ^\n",
      "right\n",
      "1011 \n",
      "   ^\n",
      "carry\n",
      "1010 \n",
      "  ^\n",
      "carry\n",
      "1000 \n",
      " ^\n",
      "carry\n",
      "1100 \n",
      "^\n",
      "done\n"
     ]
    },
    {
     "data": {
      "text/plain": [
       "val primer_slow_run : unit = ()\n"
      ]
     },
     "execution_count": 55,
     "metadata": {},
     "output_type": "execute_result"
    }
   ],
   "source": [
    "let primer_slow_run =\n",
    "  slow_run binary_increment \"1011\""
   ]
  },
  {
   "cell_type": "code",
   "execution_count": 11,
   "metadata": {
    "vscode": {
     "languageId": "ocaml"
    }
   },
   "outputs": [
    {
     "name": "stdout",
     "output_type": "stream",
     "text": [
      "1100\n",
      "^\n"
     ]
    },
    {
     "data": {
      "text/plain": [
       "val primer_speed_run : unit = ()\n"
      ]
     },
     "execution_count": 11,
     "metadata": {},
     "output_type": "execute_result"
    }
   ],
   "source": [
    "let primer_speed_run =\n",
    "  speed_run binary_increment \"1011\""
   ]
  },
  {
   "cell_type": "code",
   "execution_count": 57,
   "metadata": {
    "vscode": {
     "languageId": "ocaml"
    }
   },
   "outputs": [
    {
     "name": "stdout",
     "output_type": "stream",
     "text": [
      "1100 \n",
      "^\n"
     ]
    },
    {
     "data": {
      "text/plain": [
       "val primer_speed_run : unit = ()\n"
      ]
     },
     "execution_count": 57,
     "metadata": {},
     "output_type": "execute_result"
    }
   ],
   "source": [
    "let primer_speed_run =\n",
    "  speed_run binary_increment \"1011\""
   ]
  },
  {
   "cell_type": "markdown",
   "metadata": {},
   "source": [
    "## Krajši zapis"
   ]
  },
  {
   "cell_type": "markdown",
   "metadata": {},
   "source": [
    "Ko definiramo Turingov stroj, prehode običajno združujemo najprej po stanjih, nato pa še po znakih. Prav tako pri dosti prehodih samo premikamo glavo, trak in stanje pa pustimo pri miru. Zapišite funkcije:\n",
    "\n",
    "- `for_state`\n",
    "- `for_character`\n",
    "- `for_characters`\n",
    "- `move`\n",
    "- `switch_and_move`\n",
    "- `write_and_move`\n",
    "- `write_switch_and_move`\n",
    "\n",
    "s katerimi bi lahko zgornji primer na krajše zapisali kot spodaj. Implementacijo in tipe ugotovite sami."
   ]
  },
  {
   "cell_type": "code",
   "execution_count": 13,
   "metadata": {
    "vscode": {
     "languageId": "ocaml"
    }
   },
   "outputs": [
    {
     "data": {
      "text/plain": [
       "val binary_increment' : Machine.t = <abstr>\n"
      ]
     },
     "execution_count": 13,
     "metadata": {},
     "output_type": "execute_result"
    }
   ],
   "source": [
    "let binary_increment' =\n",
    "  Machine.make \"right\" [\"carry\"; \"done\"]\n",
    "  |> for_state \"right\" [\n",
    "    for_characters \"01\" @@ move Right;\n",
    "    for_character ' ' @@ switch_and_move \"carry\" Left\n",
    "  ]\n",
    "  |> for_state \"carry\" [\n",
    "    for_character '1' @@ switch_and_move \"carry\" Left;\n",
    "    for_characters \"0 \" @@ write_switch_and_move '1' \"done\" Left\n",
    "  ]  "
   ]
  },
  {
   "cell_type": "code",
   "execution_count": null,
   "metadata": {
    "vscode": {
     "languageId": "ocaml"
    }
   },
   "outputs": [],
   "source": [
    "let binary_increment' =\n",
    "  Machine.make \"right\" [\"carry\"; \"done\"]\n",
    "  |> for_state \"right\" [\n",
    "    for_characters \"01\" @@ move Right;\n",
    "    for_character ' ' @@ switch_and_move \"carry\" Left\n",
    "  ]\n",
    "  |> for_state \"carry\" [\n",
    "    for_character '1' @@ write_and_move '1' Left;\n",
    "    for_characters \"0 \" @@ write_switch_and_move '1' \"done\" Left\n",
    "  ]  "
   ]
  },
  {
   "cell_type": "code",
   "execution_count": 58,
   "metadata": {
    "vscode": {
     "languageId": "ocaml"
    }
   },
   "outputs": [
    {
     "data": {
      "text/plain": [
       "val for_state : 'a -> 'b -> 'c -> 'd = <fun>\n"
      ]
     },
     "execution_count": 58,
     "metadata": {},
     "output_type": "execute_result"
    },
    {
     "data": {
      "text/plain": [
       "val for_character : 'a -> 'b = <fun>\n"
      ]
     },
     "execution_count": 58,
     "metadata": {},
     "output_type": "execute_result"
    },
    {
     "data": {
      "text/plain": [
       "val for_characters : 'a -> 'b = <fun>\n"
      ]
     },
     "execution_count": 58,
     "metadata": {},
     "output_type": "execute_result"
    },
    {
     "data": {
      "text/plain": [
       "val move : 'a -> 'b = <fun>\n"
      ]
     },
     "execution_count": 58,
     "metadata": {},
     "output_type": "execute_result"
    },
    {
     "data": {
      "text/plain": [
       "val switch_and_move : 'a -> 'b -> 'c = <fun>\n"
      ]
     },
     "execution_count": 58,
     "metadata": {},
     "output_type": "execute_result"
    },
    {
     "data": {
      "text/plain": [
       "val write_and_move : 'a -> 'b -> 'c = <fun>\n"
      ]
     },
     "execution_count": 58,
     "metadata": {},
     "output_type": "execute_result"
    },
    {
     "data": {
      "text/plain": [
       "val write_switch_and_move : 'a -> 'b -> 'c -> 'd = <fun>\n"
      ]
     },
     "execution_count": 58,
     "metadata": {},
     "output_type": "execute_result"
    }
   ],
   "source": [
    "let for_state stanje sez tur_stroj = failwith \"\"\n",
    "let for_character znak funkcija = failwith \"\"\n",
    "let for_characters niz funkcija = failwith \"\"\n",
    "let move smer = failwith \"\"\n",
    "let switch_and_move stanje smer = failwith \"\"\n",
    "let write_and_move stanje_ali_znak smer = failwith \"\"\n",
    "let write_switch_and_move znak stanje smer = failwith \"\""
   ]
  },
  {
   "cell_type": "code",
   "execution_count": 20,
   "metadata": {
    "vscode": {
     "languageId": "ocaml"
    }
   },
   "outputs": [
    {
     "data": {
      "text/plain": [
       "val for_state : 'a -> ('b -> 'a -> 'b) list -> 'b -> 'b = <fun>\n"
      ]
     },
     "execution_count": 20,
     "metadata": {},
     "output_type": "execute_result"
    },
    {
     "data": {
      "text/plain": [
       "val for_character : 'a -> ('b -> 'c -> 'a -> 'd) -> 'b -> 'c -> 'd = <fun>\n"
      ]
     },
     "execution_count": 20,
     "metadata": {},
     "output_type": "execute_result"
    },
    {
     "data": {
      "text/plain": [
       "val for_characters : String.t -> ('a -> 'b -> char -> 'a) -> 'a -> 'b -> 'a =\n",
       "  <fun>\n"
      ]
     },
     "execution_count": 20,
     "metadata": {},
     "output_type": "execute_result"
    },
    {
     "data": {
      "text/plain": [
       "val move : direction -> Machine.t -> state -> char -> Machine.t = <fun>\n"
      ]
     },
     "execution_count": 20,
     "metadata": {},
     "output_type": "execute_result"
    },
    {
     "data": {
      "text/plain": [
       "val switch_and_move :\n",
       "  state -> direction -> Machine.t -> state -> char -> Machine.t = <fun>\n"
      ]
     },
     "execution_count": 20,
     "metadata": {},
     "output_type": "execute_result"
    },
    {
     "data": {
      "text/plain": [
       "val write_and_move :\n",
       "  char -> direction -> Machine.t -> state -> char -> Machine.t = <fun>\n"
      ]
     },
     "execution_count": 20,
     "metadata": {},
     "output_type": "execute_result"
    },
    {
     "data": {
      "text/plain": [
       "val write_switch_and_move :\n",
       "  char -> state -> direction -> Machine.t -> state -> char -> Machine.t =\n",
       "  <fun>\n"
      ]
     },
     "execution_count": 20,
     "metadata": {},
     "output_type": "execute_result"
    }
   ],
   "source": [
    "let for_state stanje sez tur_stroj =\n",
    "  List.fold_left (fun stroj f -> f stroj stanje) tur_stroj sez\n",
    "\n",
    "let for_character znak funkcija =\n",
    "  fun tur_stroj stanje ->\n",
    "    funkcija tur_stroj stanje znak\n",
    "\n",
    "let for_characters znaki funkcija =\n",
    "  fun tur_stroj stanje ->\n",
    "    List.fold_left (fun stroj znak -> funkcija stroj stanje znak) tur_stroj (List.of_seq (String.to_seq znaki))\n",
    "\n",
    "let move smer =\n",
    "  fun tur_stroj stanje znak ->\n",
    "    Machine.add_transition stanje znak stanje znak smer tur_stroj\n",
    "\n",
    "let switch_and_move novo_stanje smer =\n",
    "  fun tur_stroj stanje znak ->\n",
    "    Machine.add_transition stanje znak novo_stanje znak smer tur_stroj\n",
    "\n",
    "\n",
    "let write_and_move znak smer =\n",
    "  fun tur_stroj stanje trenutni_znak ->\n",
    "    Machine.add_transition stanje trenutni_znak stanje znak smer tur_stroj\n",
    "\n",
    "let write_switch_and_move znak novo_stanje smer =\n",
    "  fun tur_stroj stanje trenutni_znak ->\n",
    "    Machine.add_transition stanje trenutni_znak novo_stanje znak smer tur_stroj\n"
   ]
  },
  {
   "cell_type": "code",
   "execution_count": 24,
   "metadata": {
    "vscode": {
     "languageId": "ocaml"
    }
   },
   "outputs": [
    {
     "data": {
      "text/plain": [
       "val binary_increment' : Machine.t = <abstr>\n"
      ]
     },
     "execution_count": 24,
     "metadata": {},
     "output_type": "execute_result"
    }
   ],
   "source": [
    "let binary_increment' =\n",
    "  Machine.make \"desno\" [\"levo\"; \"zapomni_si_1\"; \"zapomni_si_0\"; \"brisi_*_\"; \"spet_isci\";  \"pojdi_nazaj\"; \"done\"]\n",
    "  |> for_state \"desno\" [\n",
    "    for_characters \"01\" @@ move Right;\n",
    "    for_character ' ' @@ switch_and_move \"levo\" Left\n",
    "  ]\n",
    "  |> for_state \"levo\" [\n",
    "    for_character '*' @@ move Left;\n",
    "    for_character '1' @@ write_switch_and_move '*' \"zapomni_si_1\" Right;\n",
    "    for_character '0' @@ write_switch_and_move '*' \"zapomni_si_0\" Right;\n",
    "    for_character ' ' @@ switch_and_move \"brisi_*_\" Right\n",
    "  ]  \n",
    "  |> for_state \"zapomni_si_0\" [\n",
    "    for_characters \"01*\" @@ move Right;\n",
    "    for_character ' ' @@ write_switch_and_move '0' \"spet_isci\" Left\n",
    "  ]  \n",
    "  |> for_state \"zapomni_si_1\" [\n",
    "    for_characters \"01*\" @@ move Right;\n",
    "    for_character ' ' @@ write_switch_and_move '1' \"spet_isci\" Left\n",
    "  ]  \n",
    "  |> for_state \"spet_isci\" [\n",
    "    for_characters \"01\" @@ move Left;\n",
    "    for_character '*' @@ switch_and_move \"levo\" Left;\n",
    "    for_character ' ' @@ switch_and_move \"done\" Right\n",
    "  ] \n",
    "  |> for_state \"brisi_*_\" [\n",
    "    for_characters \"01\" @@ switch_and_move \"pojdi_nazaj\" Left;\n",
    "    for_character '*' @@ move Right;\n",
    "    for_character ' ' @@ switch_and_move \"done\" Right\n",
    "  ] \n",
    "  |> for_state \"pojdi_nazaj\" [\n",
    "    for_character ' ' @@ switch_and_move \"done\" Right\n",
    "  ] "
   ]
  },
  {
   "cell_type": "code",
   "execution_count": 63,
   "metadata": {
    "vscode": {
     "languageId": "ocaml"
    }
   },
   "outputs": [
    {
     "name": "stdout",
     "output_type": "stream",
     "text": [
      "1011\n",
      "^\n",
      "right\n",
      "1011\n",
      " ^\n",
      "right\n",
      "1011\n",
      "  ^\n",
      "right\n",
      "1011\n",
      "   ^\n",
      "right\n",
      "1011 \n",
      "    ^\n",
      "right\n",
      "1011 \n",
      "   ^\n",
      "carry\n",
      "1010 \n",
      "  ^\n",
      "carry\n",
      "1000 \n",
      " ^\n",
      "carry\n",
      "1100 \n",
      "^\n",
      "done\n"
     ]
    },
    {
     "data": {
      "text/plain": [
       "val primer_slow_run : unit = ()\n"
      ]
     },
     "execution_count": 63,
     "metadata": {},
     "output_type": "execute_result"
    }
   ],
   "source": [
    "let primer_slow_run =\n",
    "  slow_run binary_increment \"1011\""
   ]
  },
  {
   "cell_type": "markdown",
   "metadata": {},
   "source": [
    "## VSE NA KUPU !!\n"
   ]
  },
  {
   "cell_type": "code",
   "execution_count": 1,
   "metadata": {
    "vscode": {
     "languageId": "ocaml"
    }
   },
   "outputs": [
    {
     "data": {
      "text/plain": [
       "type direction = Left | Right\n"
      ]
     },
     "execution_count": 1,
     "metadata": {},
     "output_type": "execute_result"
    },
    {
     "data": {
      "text/plain": [
       "type state = string\n"
      ]
     },
     "execution_count": 1,
     "metadata": {},
     "output_type": "execute_result"
    },
    {
     "data": {
      "text/plain": [
       "module type TAPE =\n",
       "  sig\n",
       "    type t\n",
       "    val make : string -> t\n",
       "    val move : direction -> t -> t\n",
       "    val read : t -> char\n",
       "    val write : char -> t -> t\n",
       "    val print : t -> unit\n",
       "  end\n"
      ]
     },
     "execution_count": 1,
     "metadata": {},
     "output_type": "execute_result"
    },
    {
     "data": {
      "text/plain": [
       "module Tape : TAPE\n"
      ]
     },
     "execution_count": 1,
     "metadata": {},
     "output_type": "execute_result"
    },
    {
     "data": {
      "text/plain": [
       "module type MACHINE =\n",
       "  sig\n",
       "    type t\n",
       "    val make : state -> state list -> t\n",
       "    val initial : t -> state\n",
       "    val add_transition :\n",
       "      state -> char -> state -> char -> direction -> t -> t\n",
       "    val step : t -> state -> Tape.t -> (state * Tape.t) option\n",
       "  end\n"
      ]
     },
     "execution_count": 1,
     "metadata": {},
     "output_type": "execute_result"
    },
    {
     "data": {
      "text/plain": [
       "module PrehodMap :\n",
       "  sig\n",
       "    type key = state * char\n",
       "    type +!'a t\n",
       "    val empty : 'a t\n",
       "    val is_empty : 'a t -> bool\n",
       "    val mem : key -> 'a t -> bool\n",
       "    val add : key -> 'a -> 'a t -> 'a t\n",
       "    val update : key -> ('a option -> 'a option) -> 'a t -> 'a t\n",
       "    val singleton : key -> 'a -> 'a t\n",
       "    val remove : key -> 'a t -> 'a t\n",
       "    val merge :\n",
       "      (key -> 'a option -> 'b option -> 'c option) -> 'a t -> 'b t -> 'c t\n",
       "    val union : (key -> 'a -> 'a -> 'a option) -> 'a t -> 'a t -> 'a t\n",
       "    val compare : ('a -> 'a -> int) -> 'a t -> 'a t -> int\n",
       "    val equal : ('a -> 'a -> bool) -> 'a t -> 'a t -> bool\n",
       "    val iter : (key -> 'a -> unit) -> 'a t -> unit\n",
       "    val fold : (key -> 'a -> 'b -> 'b) -> 'a t -> 'b -> 'b\n",
       "    val for_all : (key -> 'a -> bool) -> 'a t -> bool\n",
       "    val exists : (key -> 'a -> bool) -> 'a t -> bool\n",
       "    val filter : (key -> 'a -> bool) -> 'a t -> 'a t\n",
       "    val filter_map : (key -> 'a -> 'b option) -> 'a t -> 'b t\n",
       "    val partition : (key -> 'a -> bool) -> 'a t -> 'a t * 'a t\n",
       "    val cardinal : 'a t -> int\n",
       "    val bindings : 'a t -> (key * 'a) list\n",
       "    val min_binding : 'a t -> key * 'a\n",
       "    val min_binding_opt : 'a t -> (key * 'a) option\n",
       "    val max_binding : 'a t -> key * 'a\n",
       "    val max_binding_opt : 'a t -> (key * 'a) option\n",
       "    val choose : 'a t -> key * 'a\n",
       "    val choose_opt : 'a t -> (key * 'a) option\n",
       "    val split : key -> 'a t -> 'a t * 'a option * 'a t\n",
       "    val find : key -> 'a t -> 'a\n",
       "    val find_opt : key -> 'a t -> 'a option\n",
       "    val find_first : (key -> bool) -> 'a t -> key * 'a\n",
       "    val find_first_opt : (key -> bool) -> 'a t -> (key * 'a) option\n",
       "    val find_last : (key -> bool) -> 'a t -> key * 'a\n",
       "    val find_last_opt : (key -> bool) -> 'a t -> (key * 'a) option\n",
       "    val map : ('a -> 'b) -> 'a t -> 'b t\n",
       "    val mapi : (key -> 'a -> 'b) -> 'a t -> 'b t\n",
       "    val to_seq : 'a t -> (key * 'a) Seq.t\n",
       "    val to_rev_seq : 'a t -> (key * 'a) Seq.t\n",
       "    val to_seq_from : key -> 'a t -> (key * 'a) Seq.t\n",
       "    val add_seq : (key * 'a) Seq.t -> 'a t -> 'a t\n",
       "    val of_seq : (key * 'a) Seq.t -> 'a t\n",
       "  end\n"
      ]
     },
     "execution_count": 1,
     "metadata": {},
     "output_type": "execute_result"
    },
    {
     "data": {
      "text/plain": [
       "module Machine : MACHINE\n"
      ]
     },
     "execution_count": 1,
     "metadata": {},
     "output_type": "execute_result"
    },
    {
     "data": {
      "text/plain": [
       "val slow_run : Machine.t -> string -> unit = <fun>\n"
      ]
     },
     "execution_count": 1,
     "metadata": {},
     "output_type": "execute_result"
    },
    {
     "data": {
      "text/plain": [
       "val speed_run : Machine.t -> string -> unit = <fun>\n"
      ]
     },
     "execution_count": 1,
     "metadata": {},
     "output_type": "execute_result"
    },
    {
     "data": {
      "text/plain": [
       "val for_state : 'a -> ('b -> 'a -> 'b) list -> 'b -> 'b = <fun>\n"
      ]
     },
     "execution_count": 1,
     "metadata": {},
     "output_type": "execute_result"
    },
    {
     "data": {
      "text/plain": [
       "val for_character : 'a -> ('b -> 'c -> 'a -> 'd) -> 'b -> 'c -> 'd = <fun>\n"
      ]
     },
     "execution_count": 1,
     "metadata": {},
     "output_type": "execute_result"
    },
    {
     "data": {
      "text/plain": [
       "val for_characters : String.t -> ('a -> 'b -> char -> 'a) -> 'a -> 'b -> 'a =\n",
       "  <fun>\n"
      ]
     },
     "execution_count": 1,
     "metadata": {},
     "output_type": "execute_result"
    },
    {
     "data": {
      "text/plain": [
       "val move : direction -> Machine.t -> state -> char -> Machine.t = <fun>\n"
      ]
     },
     "execution_count": 1,
     "metadata": {},
     "output_type": "execute_result"
    },
    {
     "data": {
      "text/plain": [
       "val switch_and_move :\n",
       "  state -> direction -> Machine.t -> state -> char -> Machine.t = <fun>\n"
      ]
     },
     "execution_count": 1,
     "metadata": {},
     "output_type": "execute_result"
    },
    {
     "data": {
      "text/plain": [
       "val write_and_move :\n",
       "  char -> direction -> Machine.t -> state -> char -> Machine.t = <fun>\n"
      ]
     },
     "execution_count": 1,
     "metadata": {},
     "output_type": "execute_result"
    },
    {
     "data": {
      "text/plain": [
       "val write_switch_and_move :\n",
       "  char -> state -> direction -> Machine.t -> state -> char -> Machine.t =\n",
       "  <fun>\n"
      ]
     },
     "execution_count": 1,
     "metadata": {},
     "output_type": "execute_result"
    }
   ],
   "source": [
    "type direction = Left | Right\n",
    "type state = string\n",
    "\n",
    "module type TAPE = sig\n",
    "  type t\n",
    "\n",
    "  val make : string -> t\n",
    "  val move : direction -> t -> t\n",
    "  val read : t -> char\n",
    "  val write : char -> t -> t\n",
    "  val print : t -> unit\n",
    "end\n",
    "\n",
    "module Tape : TAPE = struct\n",
    "  type t = {\n",
    "    levi : char list; \n",
    "    glava : char ; \n",
    "    desni: char list }\n",
    "\n",
    "  \n",
    "  let make niz =\n",
    "    let znaki = List.init (String.length niz) (String.get niz) in\n",
    "    match znaki with\n",
    "    | [] -> { levi = []; glava = ' '; desni = [] }\n",
    "    | x :: xs -> { levi = []; glava = x; desni = xs }  \n",
    "  \n",
    "  let move smer trak =\n",
    "    match smer with\n",
    "    | Right ->\n",
    "      let nov_levi = trak.glava :: trak.levi in\n",
    "      let nova_glava = \n",
    "        match trak.desni with\n",
    "        | [] -> ' '\n",
    "        | x :: xs -> x\n",
    "      in\n",
    "      let nov_desni =\n",
    "        match trak.desni with\n",
    "        | [] -> []\n",
    "        | x :: xs -> xs\n",
    "      in\n",
    "      {levi = nov_levi; glava = nova_glava; desni = nov_desni}\n",
    "    | Left ->\n",
    "      let nov_levi = \n",
    "        match trak.levi with\n",
    "        | [] -> []\n",
    "        | x :: xs -> xs\n",
    "      in\n",
    "      let nova_glava = \n",
    "        match trak.levi with\n",
    "        | [] -> ' '\n",
    "        | x :: xs -> x\n",
    "      in\n",
    "      let nov_desni = trak.glava :: trak.desni in\n",
    "      {levi = nov_levi; glava = nova_glava; desni = nov_desni}\n",
    "        \n",
    "\n",
    "  let read trak = trak.glava\n",
    "\n",
    "  let write znak trak = \n",
    "    {trak with glava = znak}\n",
    "\n",
    "  (*  \n",
    "  let print trak = \n",
    "    let pravilno_obrnjen_levi_sez = List.rev trak.levi in\n",
    "    let levi_niz_znakov = String.of_seq (List.to_seq pravilno_obrnjen_levi_sez) in\n",
    "    let desni_niz_znakov = String.of_seq (List.to_seq trak.desni) in\n",
    "    let niz_iz_glave = String.make 1 trak.glava in\n",
    "    let prazni_niz = (String.make (List.length trak.levi) ' ') ^ \"^\" in\n",
    "    print_endline (levi_niz_znakov ^ niz_iz_glave ^ desni_niz_znakov);\n",
    "    print_endline prazni_niz\n",
    "    *)\n",
    "  let print trak =\n",
    "    let pravilno_obrnjen_levi_sez = List.rev trak.levi in\n",
    "    let levi_niz_znakov = String.of_seq (List.to_seq pravilno_obrnjen_levi_sez) in\n",
    "    let desni_niz_znakov = String.of_seq (List.to_seq trak.desni) in\n",
    "    let niz_iz_glave = String.make 1 trak.glava in\n",
    "    (* Združimo celoten trak *)\n",
    "    let celoten_niz = levi_niz_znakov ^ niz_iz_glave ^ desni_niz_znakov in\n",
    "    (* Odstranimo začetne presledke *)\n",
    "    let obrezan_niz = String.trim celoten_niz in\n",
    "    (* Poiščemo položaj glave *)\n",
    "    let glava_pozicija = String.length (String.trim levi_niz_znakov) in\n",
    "    let kazalec = String.make glava_pozicija ' ' ^ \"^\" in\n",
    "    (* Izpišemo trak in kazalec *)\n",
    "    print_endline obrezan_niz;\n",
    "    print_endline kazalec \n",
    "    \n",
    "end\n",
    "\n",
    "module type MACHINE = sig\n",
    "  type t\n",
    "  val make : state -> state list -> t\n",
    "  val initial : t -> state\n",
    "  val add_transition : state -> char -> state -> char -> direction -> t -> t\n",
    "  val step : t -> state -> Tape.t -> (state * Tape.t) option\n",
    "end\n",
    "\n",
    "(*tale je ta prav!!!! se mi zdi*)\n",
    "\n",
    "module PrehodMap = Map.Make(struct\n",
    "  type t = state * char\n",
    "  let compare = compare  (* Privzeto leksikografsko urejanje *)\n",
    "end)\n",
    "\n",
    "module Machine : MACHINE = struct\n",
    "  type t = {\n",
    "    mnozica_simbolov : char list; \n",
    "    prazni_znak : char; \n",
    "    mnozica_stanj : state list; \n",
    "    zacetno_stanje : state; \n",
    "    prehodne_funkcije : (state * char * direction) PrehodMap.t;\n",
    "  }\n",
    "  \n",
    "  let make stanje seznam_stanj = \n",
    "    { mnozica_simbolov = [];\n",
    "      prazni_znak = ' ';\n",
    "      mnozica_stanj = seznam_stanj;\n",
    "      zacetno_stanje = stanje;\n",
    "      prehodne_funkcije = PrehodMap.empty;\n",
    "    }\n",
    "    \n",
    "  let initial tur_stroj = tur_stroj.zacetno_stanje\n",
    "\n",
    "  let add_transition stanje znak novo_stanje nov_znak smer tur_stroj = \n",
    "    { tur_stroj with\n",
    "      prehodne_funkcije = PrehodMap.add (stanje, znak) (novo_stanje, nov_znak, smer) tur_stroj.prehodne_funkcije\n",
    "    }\n",
    "\n",
    "  let step tur_stroj stanje trak =\n",
    "    let znak = Tape.read trak in\n",
    "    match PrehodMap.find_opt (stanje, znak) tur_stroj.prehodne_funkcije with\n",
    "    | Some (novo_stanje, nov_znak, smer) -> \n",
    "      let nov_trak = trak |> Tape.write nov_znak |> Tape.move smer in\n",
    "      Some (novo_stanje, nov_trak)\n",
    "    | None -> None\n",
    "end\n",
    "\n",
    "let slow_run tur_stroj niz = \n",
    "  let zacetni_trak = Tape.make niz in \n",
    "  let zacetno_stanje = Machine.initial tur_stroj in \n",
    "  let rec pomozna trenutno_stanje trenutni_trak = \n",
    "    Tape.print trenutni_trak;\n",
    "    print_endline trenutno_stanje;\n",
    "    match Machine.step tur_stroj trenutno_stanje trenutni_trak with\n",
    "    | Some (stanje, trak) -> \n",
    "      pomozna stanje trak\n",
    "    | None -> ()\n",
    "  in\n",
    "  pomozna zacetno_stanje zacetni_trak\n",
    "\n",
    "let speed_run tur_stroj niz = \n",
    "  let zacetni_trak = Tape.make niz in \n",
    "  let zacetno_stanje = Machine.initial tur_stroj in \n",
    "  let rec pomozna trenutno_stanje trenutni_trak = \n",
    "    match Machine.step tur_stroj trenutno_stanje trenutni_trak with\n",
    "    | Some (stanje, trak) -> pomozna stanje trak\n",
    "    | None -> Tape.print trenutni_trak\n",
    "  in\n",
    "  pomozna zacetno_stanje zacetni_trak\n",
    "\n",
    "\n",
    "let for_state stanje sez tur_stroj =\n",
    "  List.fold_left (fun stroj f -> f stroj stanje) tur_stroj sez\n",
    "\n",
    "let for_character znak funkcija =\n",
    "  fun tur_stroj stanje ->\n",
    "    funkcija tur_stroj stanje znak\n",
    "\n",
    "let for_characters znaki funkcija =\n",
    "  fun tur_stroj stanje ->\n",
    "    List.fold_left (fun stroj znak -> funkcija stroj stanje znak) tur_stroj (List.of_seq (String.to_seq znaki))\n",
    "\n",
    "let move smer =\n",
    "  fun tur_stroj stanje znak ->\n",
    "    Machine.add_transition stanje znak stanje znak smer tur_stroj\n",
    "\n",
    "let switch_and_move novo_stanje smer =\n",
    "  fun tur_stroj stanje znak ->\n",
    "    Machine.add_transition stanje znak novo_stanje znak smer tur_stroj\n",
    "\n",
    "\n",
    "let write_and_move znak smer =\n",
    "  fun tur_stroj stanje trenutni_znak ->\n",
    "    Machine.add_transition stanje trenutni_znak stanje znak smer tur_stroj\n",
    "\n",
    "let write_switch_and_move znak novo_stanje smer =\n",
    "  fun tur_stroj stanje trenutni_znak ->\n",
    "    Machine.add_transition stanje trenutni_znak novo_stanje znak smer tur_stroj\n",
    "\n",
    "\n",
    "\n",
    "\n"
   ]
  },
  {
   "cell_type": "markdown",
   "metadata": {},
   "source": [
    "## Primeri Turingovih strojev"
   ]
  },
  {
   "cell_type": "markdown",
   "metadata": {
    "vscode": {
     "languageId": "ocaml"
    }
   },
   "source": [
    "Pri tej nalogi boste sestavljali stroje, ki bodo iz začetnega niza na traku na različne načine izračunali nov niz. Pri tem lahko predpostavite, da je začetni niz sestavljen iz ničel in enic, preostanek traku pa je prazen. Na koncu izvajanja naj bo glava na začetku novega niza, z izjemo tega niza pa naj bo trak prazen. Ni pa treba, da se izračunani niz začne na istem mestu na traku, kot se je začel prvotni niz."
   ]
  },
  {
   "cell_type": "markdown",
   "metadata": {
    "vscode": {
     "languageId": "ocaml"
    }
   },
   "source": [
    "### Obračanje niza\n"
   ]
  },
  {
   "cell_type": "markdown",
   "metadata": {},
   "source": [
    "Sestavite Turingov stroj, ki začetni niz obrne na glavo."
   ]
  },
  {
   "cell_type": "code",
   "execution_count": 33,
   "metadata": {
    "vscode": {
     "languageId": "ocaml"
    }
   },
   "outputs": [
    {
     "data": {
      "text/plain": [
       "val obrni_niz : Machine.t = <abstr>\n"
      ]
     },
     "execution_count": 33,
     "metadata": {},
     "output_type": "execute_result"
    }
   ],
   "source": [
    "let obrni_niz =\n",
    "  Machine.make \"desno\" [\"levo\"; \"zapomni_si_1\"; \"zapomni_si_0\"; \"brisi_*_\"; \"spet_isci\";  \"pojdi_nazaj\"; \"done\"]\n",
    "  |> for_state \"desno\" [\n",
    "    for_characters \"01\" @@ move Right;\n",
    "    for_character ' ' @@ switch_and_move \"levo\" Left\n",
    "  ]\n",
    "  |> for_state \"levo\" [\n",
    "    for_character '*' @@ move Left;\n",
    "    for_character '1' @@ write_switch_and_move '*' \"zapomni_si_1\" Right;\n",
    "    for_character '0' @@ write_switch_and_move '*' \"zapomni_si_0\" Right;\n",
    "    for_character ' ' @@ switch_and_move \"brisi_*_\" Right\n",
    "  ]  \n",
    "  |> for_state \"zapomni_si_0\" [\n",
    "    for_characters \"01*\" @@ move Right;\n",
    "    for_character ' ' @@ write_switch_and_move '0' \"spet_isci\" Left\n",
    "  ]  \n",
    "  |> for_state \"zapomni_si_1\" [\n",
    "    for_characters \"01*\" @@ move Right;\n",
    "    for_character ' ' @@ write_switch_and_move '1' \"spet_isci\" Left\n",
    "  ]  \n",
    "  |> for_state \"spet_isci\" [\n",
    "    for_characters \"01\" @@ move Left;\n",
    "    for_character '*' @@ switch_and_move \"levo\" Left;\n",
    "    for_character ' ' @@ switch_and_move \"done\" Right\n",
    "  ] \n",
    "  |> for_state \"brisi_*_\" [\n",
    "    for_characters \"01\" @@ switch_and_move \"pojdi_nazaj\" Left;\n",
    "    for_character '*' @@ write_and_move ' ' Right;\n",
    "    for_character ' ' @@ switch_and_move \"done\" Right\n",
    "  ] \n",
    "  |> for_state \"pojdi_nazaj\" [\n",
    "    for_character ' ' @@ switch_and_move \"done\" Right\n",
    "  ] "
   ]
  },
  {
   "cell_type": "code",
   "execution_count": 40,
   "metadata": {
    "vscode": {
     "languageId": "ocaml"
    }
   },
   "outputs": [
    {
     "name": "stdout",
     "output_type": "stream",
     "text": [
      "101010001111\n",
      "^\n"
     ]
    },
    {
     "data": {
      "text/plain": [
       "val primer_reverse : unit = ()\n"
      ]
     },
     "execution_count": 40,
     "metadata": {},
     "output_type": "execute_result"
    }
   ],
   "source": [
    "let primer_reverse = speed_run obrni_niz \"111100010101\""
   ]
  },
  {
   "cell_type": "code",
   "execution_count": 15,
   "metadata": {
    "vscode": {
     "languageId": "ocaml"
    }
   },
   "outputs": [
    {
     "name": "stdout",
     "output_type": "stream",
     "text": [
      "1001110000          \n",
      "^\n"
     ]
    },
    {
     "data": {
      "text/plain": [
       "val primer_reverse : unit = ()\n"
      ]
     },
     "execution_count": 15,
     "metadata": {},
     "output_type": "execute_result"
    }
   ],
   "source": [
    "let primer_reverse = speed_run reverse \"0000111001\""
   ]
  },
  {
   "cell_type": "markdown",
   "metadata": {},
   "source": [
    "### Podvajanje niza\n"
   ]
  },
  {
   "cell_type": "markdown",
   "metadata": {},
   "source": [
    "Sestavite Turingov stroj, ki podvoji začetni niz."
   ]
  },
  {
   "cell_type": "code",
   "execution_count": 2,
   "metadata": {
    "vscode": {
     "languageId": "ocaml"
    }
   },
   "outputs": [
    {
     "data": {
      "text/plain": [
       "val podvoji : Machine.t = <abstr>\n"
      ]
     },
     "execution_count": 2,
     "metadata": {},
     "output_type": "execute_result"
    }
   ],
   "source": [
    "let podvoji =\n",
    "  Machine.make \"zacni\" [\"poisci_prazno_mesto\"; \"pojdi_na_zacetek\"; \"desno\"; \"zapomni_si_0\"; \"zapomni_si_1\";  \"podvoji_0\"; \"podvoji_1\"; \"done\"]\n",
    "  |> for_state \"zacni\" [\n",
    "    for_characters \"01\" @@ switch_and_move \"poisci_prazno_mesto\" Right;\n",
    "    for_character ' ' @@ switch_and_move \"done\" Right\n",
    "  ]\n",
    "  |> for_state \"poisci_prazno_mesto\" [\n",
    "    for_characters \"01\" @@ move Right;\n",
    "    for_character ' ' @@ write_switch_and_move '*' \"pojdi_na_zacetek\" Left\n",
    "  ]  \n",
    "  |> for_state \"pojdi_na_zacetek\" [\n",
    "    for_characters \"01*\" @@ move Left;\n",
    "    for_character ' ' @@ switch_and_move \"desno\" Right\n",
    "  ] \n",
    "  |> for_state \"desno\" [\n",
    "    for_character '0' @@ write_switch_and_move ' ' \"zapomni_si_0\" Right;\n",
    "    for_character '1' @@ write_switch_and_move ' ' \"zapomni_si_1\" Right;\n",
    "    for_character '*' @@ write_switch_and_move ' ' \"done\" Right\n",
    "  ] \n",
    "  |> for_state \"zapomni_si_0\" [\n",
    "    for_characters \"01*\" @@ move Right;\n",
    "    for_character ' ' @@ write_switch_and_move '0' \"podvoji_0\" Right\n",
    "  ]  \n",
    "  |> for_state \"zapomni_si_1\" [\n",
    "    for_characters \"01*\" @@ move Right;\n",
    "    for_character ' ' @@ write_switch_and_move '1' \"podvoji_1\" Right\n",
    "  ]  \n",
    "  |> for_state \"podvoji_0\" [\n",
    "    for_character ' ' @@ write_switch_and_move '0' \"pojdi_na_zacetek\" Left\n",
    "  ] \n",
    "  |> for_state \"podvoji_1\" [\n",
    "    for_character ' ' @@ write_switch_and_move '1' \"pojdi_na_zacetek\" Left\n",
    "  ] "
   ]
  },
  {
   "cell_type": "code",
   "execution_count": 8,
   "metadata": {
    "vscode": {
     "languageId": "ocaml"
    }
   },
   "outputs": [
    {
     "name": "stdout",
     "output_type": "stream",
     "text": [
      "11110000110011\n",
      "^\n"
     ]
    },
    {
     "data": {
      "text/plain": [
       "val primer_duplicate : unit = ()\n"
      ]
     },
     "execution_count": 8,
     "metadata": {},
     "output_type": "execute_result"
    }
   ],
   "source": [
    "let primer_duplicate = speed_run podvoji \"1100101\""
   ]
  },
  {
   "cell_type": "code",
   "execution_count": 17,
   "metadata": {
    "vscode": {
     "languageId": "ocaml"
    }
   },
   "outputs": [
    {
     "name": "stdout",
     "output_type": "stream",
     "text": [
      "001100001111       \n",
      "^\n"
     ]
    },
    {
     "data": {
      "text/plain": [
       "val primer_duplicate : unit = ()\n"
      ]
     },
     "execution_count": 17,
     "metadata": {},
     "output_type": "execute_result"
    }
   ],
   "source": [
    "let primer_duplicate = speed_run duplicate \"010011\""
   ]
  },
  {
   "cell_type": "markdown",
   "metadata": {},
   "source": [
    "### Eniški zapis\n"
   ]
  },
  {
   "cell_type": "markdown",
   "metadata": {},
   "source": [
    "Sestavite Turingov stroj, ki na začetku na traku sprejme število $n$, zapisano v dvojiškem zapisu, na koncu pa naj bo na traku zapisanih natanko $n$ enic."
   ]
  },
  {
   "cell_type": "code",
   "execution_count": null,
   "metadata": {
    "vscode": {
     "languageId": "ocaml"
    }
   },
   "outputs": [
    {
     "data": {
      "text/plain": [
       "val to_unary : Machine.t = <abstr>\n"
      ]
     },
     "execution_count": 41,
     "metadata": {},
     "output_type": "execute_result"
    }
   ],
   "source": [
    "let to_unary =\n",
    "  Machine.make \"zacni\" [\"isci_prvo_prazno\"; \"pojdi_na_zacetek\"; \"preberi_prvo_mesto\"; \"zapomni_0\"; \"prepisi_0a\";  \"prepisi_a\"; \n",
    "  \"drugi_krog\"; \"izbrisi_nicle_na_zacetku\";\n",
    "  \"isci_nicle\"; \"nazaj_na_prvo\"; \"dopisi_*\"; \"pojdi_na_zacetek_drugi_del\"; \"preberi_prvo_mesto_drugi_del\";\n",
    "  \"zapomni_0_drugi_del\"; \"preberi_drugo_mesto\"; \"prepisi_0aa_drugi_del\"; \"prepisi_aa_drugi_del\"; \"prepisi_a_drugi_del\";\n",
    "  \"spremeni_a_v_1\"; \"done\"]\n",
    "  (*niz spreminjam po Makovem algoritmu (1ke v a, nato a0 v 0aa, na koncu se nicle izbrisejo)*)\n",
    "  (*prvi del*)\n",
    "  |> for_state \"zacni\" [\n",
    "    for_characters \"01\" @@ switch_and_move \"isci_prvo_prazno\" Right;\n",
    "    for_character ' ' @@ switch_and_move \"done\" Right\n",
    "  ]\n",
    "  |> for_state \"isci_prvo_prazno\" [\n",
    "    for_characters \"01\" @@ move Right;\n",
    "    for_character ' ' @@ write_switch_and_move '*' \"pojdi_na_zacetek\" Left\n",
    "  ]  \n",
    "  |> for_state \"pojdi_na_zacetek\" [\n",
    "    for_characters \"01*a\" @@ move Left;\n",
    "    for_character ' ' @@ switch_and_move \"preberi_prvo_mesto\" Right\n",
    "  ] \n",
    "  |> for_state \"preberi_prvo_mesto\" [\n",
    "    for_character '0' @@ write_switch_and_move ' ' \"zapomni_0\" Right;\n",
    "    for_character '1' @@ write_switch_and_move ' ' \"prepisi_0a\" Right;\n",
    "    for_character '*' @@ write_switch_and_move ' ' \"drugi_krog\" Right\n",
    "  ] \n",
    "  |> for_state \"zapomni_0\" [\n",
    "    for_characters \"01*a\" @@ move Right;\n",
    "    for_character ' ' @@ write_switch_and_move '0' \"pojdi_na_zacetek\" Left\n",
    "  ]\n",
    "  |> for_state \"prepisi_0a\" [\n",
    "    for_characters \"01*a\" @@ move Right;\n",
    "    for_character ' ' @@  write_switch_and_move '0' \"prepisi_a\" Right\n",
    "  ]\n",
    "  |> for_state \"prepisi_a\" [\n",
    "    for_character ' ' @@ write_switch_and_move 'a' \"pojdi_na_zacetek\" Left\n",
    "  ]\n",
    "  (*drugi del*)\n",
    "  |> for_state \"drugi_krog\" [\n",
    "    for_character '0' @@ write_switch_and_move ' ' \"izbrisi_nicle_na_zacetku\" Right;\n",
    "    for_character 'a' @@ switch_and_move \"isci_nicle\" Right\n",
    "  ]\n",
    "  |> for_state \"izbrisi_nicle_na_zacetku\" [\n",
    "    for_character '0' @@ write_and_move ' ' Right;\n",
    "    for_character 'a' @@ switch_and_move \"isci_nicle\" Right;\n",
    "    for_character ' ' @@ switch_and_move \"spremeni_a_v_1\" Left\n",
    "  ]\n",
    "  |> for_state \"isci_nicle\" [\n",
    "    for_character '0' @@ switch_and_move \"nazaj_na_prvo\" Left;\n",
    "    for_character 'a' @@ move Right;\n",
    "    for_character ' ' @@ switch_and_move \"spremeni_a_v_1\" Left\n",
    "  ]\n",
    "  |> for_state \"nazaj_na_prvo\" [\n",
    "    for_characters \"a0\" @@ switch_and_move \"dopisi_*\" Right;\n",
    "    for_character ' ' @@ write_switch_and_move '*' \"pojdi_na_zacetek_drugi_del\" Left\n",
    "  ]\n",
    "  |> for_state \"dopisi_*\" [\n",
    "    for_characters \"0a\" @@ move Right;\n",
    "    for_character ' ' @@ write_switch_and_move '*' \"pojdi_na_zacetek_drugi_del\" Left\n",
    "  ]\n",
    "  |> for_state \"pojdi_na_zacetek_drugi_del\" [\n",
    "    for_characters \"0a*\" @@ move Left;\n",
    "    for_character ' ' @@ switch_and_move \"preberi_prvo_mesto_drugi_del\" Right\n",
    "  ]\n",
    "  |> for_state \"preberi_prvo_mesto_drugi_del\" [\n",
    "    for_character '0' @@ write_switch_and_move ' ' \"zapomni_0_drugi_del\" Right;\n",
    "    for_character 'a' @@ write_switch_and_move ' ' \"preberi_drugo_mesto\" Right;\n",
    "    for_character '*' @@ write_switch_and_move ' ' \"drugi_krog\" Right\n",
    "  ]\n",
    "  |> for_state \"zapomni_0_drugi_del\" [\n",
    "    for_characters \"0a*\" @@ move Right;\n",
    "    for_character ' ' @@ write_switch_and_move '0' \"pojdi_na_zacetek_drugi_del\" Left\n",
    "  ]\n",
    "  |> for_state \"preberi_drugo_mesto\" [\n",
    "    for_character '0' @@ write_switch_and_move ' ' \"prepisi_0aa_drugi_del\" Right;\n",
    "    for_characters \"a*\" @@ switch_and_move \"prepisi_a_drugi_del\" Right\n",
    "  ]\n",
    "  |> for_state \"prepisi_0aa_drugi_del\" [\n",
    "    for_characters \"0a*\" @@ move Right;\n",
    "    for_character ' ' @@ write_switch_and_move '0' \"prepisi_aa_drugi_del\" Right\n",
    "  ]\n",
    "  |> for_state \"prepisi_aa_drugi_del\" [\n",
    "    for_characters \"0a*\" @@ move Right;\n",
    "    for_character ' ' @@ write_switch_and_move 'a' \"prepisi_a_drugi_del\" Right\n",
    "  ]\n",
    "  |> for_state \"prepisi_a_drugi_del\" [\n",
    "    for_characters \"0a*\" @@ move Right;\n",
    "    for_character ' ' @@ write_switch_and_move 'a' \"pojdi_na_zacetek_drugi_del\" Left\n",
    "  ]\n",
    "  |> for_state \"spremeni_a_v_1\" [\n",
    "    for_character 'a' @@ write_and_move '1' Left;\n",
    "    for_character ' ' @@ switch_and_move \"done\" Right\n",
    "  ]\n",
    "\n"
   ]
  },
  {
   "cell_type": "code",
   "execution_count": 46,
   "metadata": {
    "vscode": {
     "languageId": "ocaml"
    }
   },
   "outputs": [
    {
     "data": {
      "text/plain": [
       "val to_unary1 : Machine.t = <abstr>\n"
      ]
     },
     "execution_count": 46,
     "metadata": {},
     "output_type": "execute_result"
    }
   ],
   "source": [
    "let to_unary1 =\n",
    "  Machine.make \"zacni\" [\"isci_prazno\"; \"nazaj_do_prve\"; \"preberi_prvo\";\n",
    "  \"postopek_za_0\"; \"postopek_za_1\"; \"spremeni_1_v_a_za_0\"; \"spremeni_1_v_a_za_1\"; \"preberi_a\"; \"dodaj_novo_1\";\n",
    "  \"done\"]\n",
    "  (*algoritem po vrsti bere in dela nov niz desno od zacetnega, \n",
    "  ce prebere 1ko, nov niz podvoji in doda še eno enko, ce prebere 0, pa niz samo podvoji*)\n",
    "  |> for_state \"zacni\" [\n",
    "    for_characters \"01\" @@ switch_and_move \"isci_prazno\" Right;\n",
    "    for_character ' ' @@ switch_and_move \"done\" Right\n",
    "  ]\n",
    "  |> for_state \"isci_prazno\" [\n",
    "    for_characters \"01\" @@ move Right;\n",
    "    for_character ' ' @@ write_switch_and_move '*' \"nazaj_do_prve\" Left\n",
    "  ]\n",
    "  |> for_state \"nazaj_do_prve\" [\n",
    "    for_characters \"01a*\" @@ move Left;\n",
    "    for_character ' ' @@ switch_and_move \"preberi_prvo\" Right\n",
    "  ]\n",
    "  |> for_state \"preberi_prvo\" [\n",
    "    for_character '0' @@ write_switch_and_move ' ' \"postopek_za_0\" Right;\n",
    "    for_character '1' @@ write_switch_and_move ' ' \"postopek_za_1\" Right;\n",
    "    for_character '*' @@ write_switch_and_move ' ' \"done\" Right\n",
    "  ]\n",
    "  |> for_state \"postopek_za_0\" [\n",
    "    for_characters \"01\" @@ move Right;\n",
    "    for_character '*' @@ switch_and_move \"spremeni_1_v_a_za_0\" Right\n",
    "  ]\n",
    "  |> for_state \"postopek_za_1\" [\n",
    "    for_characters \"01\" @@ move Right;\n",
    "    for_character '*' @@ switch_and_move \"spremeni_1_v_a_za_1\" Right\n",
    "  ]\n",
    "  |> for_state \"spremeni_1_v_a_za_0\" [\n",
    "    for_character '1' @@ write_and_move 'a' Right;\n",
    "    for_character ' ' @@ switch_and_move \"preberi_a\" Left\n",
    "  ]\n",
    "  |> for_state \"spremeni_1_v_a_za_1\" [\n",
    "    for_character '1' @@ write_and_move 'a' Right;\n",
    "    for_character ' ' @@ write_switch_and_move '1' \"preberi_a\" Left\n",
    "  ]\n",
    "  |> for_state \"preberi_a\" [\n",
    "    for_character 'a' @@ write_switch_and_move '1' \"dodaj_novo_1\" Right;\n",
    "    for_character '1' @@ move Left;\n",
    "    for_character '*' @@ switch_and_move \"nazaj_do_prve\" Left\n",
    "  ]\n",
    "  |> for_state \"dodaj_novo_1\" [\n",
    "    for_character ' ' @@ write_switch_and_move '1' \"preberi_a\" Left;\n",
    "    for_characters \"a1\" @@ move Right\n",
    "  ]"
   ]
  },
  {
   "cell_type": "code",
   "execution_count": 45,
   "metadata": {
    "vscode": {
     "languageId": "ocaml"
    }
   },
   "outputs": [
    {
     "name": "stdout",
     "output_type": "stream",
     "text": [
      "11111111111111111111111111111111111111111111111111111111111111111111111111111111111111111111111111111111111111111111111111111111111111111111111111111111111111111111111111111111111111111111111111111111111111111111111111111111111111111111111111111111111111111111111111111111111111111111111111111111111111111111111111111111111111111111111111111\n",
      "^\n"
     ]
    },
    {
     "data": {
      "text/plain": [
       "val primer_to_unary1 : unit = ()\n"
      ]
     },
     "execution_count": 45,
     "metadata": {},
     "output_type": "execute_result"
    }
   ],
   "source": [
    "let primer_to_unary1 = speed_run to_unary \"101010101\""
   ]
  },
  {
   "cell_type": "code",
   "execution_count": null,
   "metadata": {
    "vscode": {
     "languageId": "ocaml"
    }
   },
   "outputs": [],
   "source": [
    "let primer_to_unary = speed_run to_unary1 \"101010101101010101010101010101010101\""
   ]
  },
  {
   "cell_type": "code",
   "execution_count": 44,
   "metadata": {
    "vscode": {
     "languageId": "ocaml"
    }
   },
   "outputs": [
    {
     "name": "stdout",
     "output_type": "stream",
     "text": [
      "1111111111\n",
      "^\n"
     ]
    },
    {
     "data": {
      "text/plain": [
       "val primer_to_unary : unit = ()\n"
      ]
     },
     "execution_count": 44,
     "metadata": {},
     "output_type": "execute_result"
    }
   ],
   "source": [
    "let primer_to_unary = speed_run to_unary \"1010\""
   ]
  },
  {
   "cell_type": "code",
   "execution_count": 19,
   "metadata": {
    "vscode": {
     "languageId": "ocaml"
    }
   },
   "outputs": [
    {
     "name": "stdout",
     "output_type": "stream",
     "text": [
      "1111111111\n",
      "^\n"
     ]
    },
    {
     "data": {
      "text/plain": [
       "val primer_to_unary : unit = ()\n"
      ]
     },
     "execution_count": 19,
     "metadata": {},
     "output_type": "execute_result"
    }
   ],
   "source": [
    "let primer_to_unary = speed_run to_unary \"1010\""
   ]
  },
  {
   "cell_type": "markdown",
   "metadata": {},
   "source": [
    "### Dvojiški zapis\n"
   ]
  },
  {
   "cell_type": "markdown",
   "metadata": {},
   "source": [
    "Sestavite ravno obratni Turingov stroj, torej tak, ki na začetku na traku sprejme število $n$ enic, na koncu pa naj bo na traku zapisano število $n$ v dvojiškem zapisu."
   ]
  },
  {
   "cell_type": "code",
   "execution_count": null,
   "metadata": {
    "vscode": {
     "languageId": "ocaml"
    }
   },
   "outputs": [
    {
     "data": {
      "text/plain": [
       "val to_binary : Machine.t = <abstr>\n"
      ]
     },
     "execution_count": 59,
     "metadata": {},
     "output_type": "execute_result"
    }
   ],
   "source": [
    "let to_binary = \n",
    "  Machine.make \"zacni\" [\"spremeni_v_a\"; \"izbrisi_zadnji_a\"; \"pojdi_na_zacetek\";\n",
    "  \"pristej_a\"; \"poisci_zadnji_a\"; \"namesto_praznega_niza_vrni_0\"; \"done\"]\n",
    "  (*stroj sesteva enke, ampak da ne bo tezav, na zacetku enke spremeni v a-je. \n",
    "  Nov niz pise levo od zacetnega; a-je sproti brise in binarnemu zapisu pristeva 1*)\n",
    "  |> for_state \"zacni\" [\n",
    "    for_characters \"01\" @@ write_switch_and_move 'a' \"spremeni_v_a\" Right;\n",
    "    for_character ' ' @@ write_switch_and_move '0' \"namesto_praznega_niza_vrni_0\" Right  \n",
    "  ]\n",
    "  |> for_state \"spremeni_v_a\" [\n",
    "    for_characters \"01\" @@ write_and_move 'a' Right;\n",
    "    for_character ' ' @@ switch_and_move \"izbrisi_zadnji_a\" Left\n",
    "  ]\n",
    "  |> for_state \"izbrisi_zadnji_a\" [\n",
    "    for_character 'a' @@ write_switch_and_move ' ' \"pristej_a\" Left;\n",
    "    for_characters \"01\" @@ switch_and_move \"pojdi_na_zacetek\" Left\n",
    "  ]\n",
    "  |> for_state \"pojdi_na_zacetek\" [\n",
    "    for_characters \"01\" @@ move Left;\n",
    "    for_character ' ' @@ switch_and_move \"done\" Right\n",
    "  ]\n",
    "  |> for_state \"pristej_a\" [\n",
    "    for_character 'a' @@ move Left;\n",
    "    for_characters \"0 \" @@ write_switch_and_move '1' \"poisci_zadnji_a\" Right;\n",
    "    for_character '1' @@ write_and_move '0' Left\n",
    "  ]\n",
    "  |> for_state \"poisci_zadnji_a\" [\n",
    "    for_characters \"01a\" @@ move Right;\n",
    "    for_character ' ' @@ switch_and_move \"izbrisi_zadnji_a\" Left\n",
    "  ]\n",
    "  |> for_state \"namesto_praznega_niza_vrni_0\" [\n",
    "    for_character ' ' @@ switch_and_move \"done\" Left\n",
    "  ]"
   ]
  },
  {
   "cell_type": "code",
   "execution_count": 61,
   "metadata": {
    "vscode": {
     "languageId": "ocaml"
    }
   },
   "outputs": [
    {
     "data": {
      "text/plain": [
       "val primer_to_binary1 : unit = ()\n"
      ]
     },
     "execution_count": 61,
     "metadata": {},
     "output_type": "execute_result"
    },
    {
     "name": "stdout",
     "output_type": "stream",
     "text": [
      "0\n",
      "^\n"
     ]
    }
   ],
   "source": [
    "let primer_to_binary1 = speed_run to_binary \"\""
   ]
  },
  {
   "cell_type": "code",
   "execution_count": 63,
   "metadata": {
    "vscode": {
     "languageId": "ocaml"
    }
   },
   "outputs": [
    {
     "name": "stdout",
     "output_type": "stream",
     "text": [
      "10000000100\n",
      "^\n"
     ]
    },
    {
     "data": {
      "text/plain": [
       "val primer_to_binary : unit = ()\n"
      ]
     },
     "execution_count": 63,
     "metadata": {},
     "output_type": "execute_result"
    }
   ],
   "source": [
    "let primer_to_binary = speed_run to_binary (String.make 1028 '1')"
   ]
  },
  {
   "cell_type": "code",
   "execution_count": 21,
   "metadata": {
    "vscode": {
     "languageId": "ocaml"
    }
   },
   "outputs": [
    {
     "name": "stdout",
     "output_type": "stream",
     "text": [
      "101010                                           \n",
      "^\n"
     ]
    },
    {
     "data": {
      "text/plain": [
       "val primer_to_binary : unit = ()\n"
      ]
     },
     "execution_count": 21,
     "metadata": {},
     "output_type": "execute_result"
    }
   ],
   "source": [
    "let primer_to_binary = speed_run to_binary (String.make 42 '1')"
   ]
  }
 ],
 "metadata": {
  "kernelspec": {
   "display_name": "OCaml 4.14",
   "language": "OCaml",
   "name": "ocaml-jupyter"
  },
  "language_info": {
   "codemirror_mode": "text/x-ocaml",
   "file_extension": ".ml",
   "mimetype": "text/x-ocaml",
   "name": "OCaml",
   "nbconverter_exporter": null,
   "pygments_lexer": "OCaml",
   "version": "4.14.2"
  }
 },
 "nbformat": 4,
 "nbformat_minor": 2
}
