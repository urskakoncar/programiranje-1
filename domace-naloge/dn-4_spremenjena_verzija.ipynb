{
 "cells": [
  {
   "cell_type": "markdown",
   "metadata": {
    "vscode": {
     "languageId": "ocaml"
    }
   },
   "source": [
    "# 4. domača naloga"
   ]
  },
  {
   "cell_type": "markdown",
   "metadata": {},
   "source": [
    "Pri tej nalogi boste napisali svoj simulator Turingovih strojev. Zaradi preprostosti bomo za abecedo vzeli kar znake tipa `char`, za prazni znak bomo izbrali presledek `' '`, stanja pa bomo predstavili z nizi. Za možne premike zafiksiramo tip `smer`:"
   ]
  },
  {
   "cell_type": "code",
   "execution_count": 1,
   "metadata": {
    "vscode": {
     "languageId": "ocaml"
    }
   },
   "outputs": [
    {
     "data": {
      "text/plain": [
       "type direction = Left | Right\n"
      ]
     },
     "execution_count": 1,
     "metadata": {},
     "output_type": "execute_result"
    },
    {
     "data": {
      "text/plain": [
       "type state = string\n"
      ]
     },
     "execution_count": 1,
     "metadata": {},
     "output_type": "execute_result"
    }
   ],
   "source": [
    "type smer = Left | Right\n",
    "type state = string"
   ]
  },
  {
   "cell_type": "markdown",
   "metadata": {},
   "source": [
    "## Implementacija trakov"
   ]
  },
  {
   "cell_type": "markdown",
   "metadata": {},
   "source": [
    "Napišite modul `Tape`, ki implementira spodnjo signaturo, kjer je:\n",
    "\n",
    "- `t` tip v obe smeri neomejenih trakov in glavo na danem mestu;\n",
    "- `make`, ki naredi nov trak z znaki iz niza ter glavo na prvem znaku;\n",
    "- `read`, ki vrne znak pod glavo;\n",
    "- `write`, ki pod glavo zapiše dani znak;\n",
    "- `move`, ki glavo premakne v dano smer;\n",
    "- `print`, ki izpiše vsebino traku (brez presledkov na začetku in koncu) ter pod njim z `^` označi mesto glave.\n",
    "\n",
    "Zadnji dve funkciji naj vrneta nov trak, obstoječega pa naj pustita nespremenjenega.\n",
    "\n",
    "Ker je tip `t` abstrakten, si lahko privoščite poljubno implementacijo, zato poskrbite tako za učinkovitost kot za preglednost kode."
   ]
  },
  {
   "cell_type": "code",
   "execution_count": null,
   "metadata": {
    "vscode": {
     "languageId": "ocaml"
    }
   },
   "outputs": [
    {
     "data": {
      "text/plain": [
       "module type TAPE =\n",
       "  sig\n",
       "    type t\n",
       "    val make : string -> t\n",
       "    val move : direction -> t -> t\n",
       "    val read : t -> char\n",
       "    val write : char -> t -> t\n",
       "    val print : t -> unit\n",
       "  end\n"
      ]
     },
     "execution_count": 2,
     "metadata": {},
     "output_type": "execute_result"
    }
   ],
   "source": [
    "module type TAPE = sig\n",
    "  type t\n",
    "\n",
    "  val make : string -> t\n",
    "  val move : direction -> t -> t\n",
    "  val read : t -> char\n",
    "  val write : char -> t -> t\n",
    "  val print : t -> unit\n",
    "end"
   ]
  },
  {
   "cell_type": "code",
   "execution_count": 3,
   "metadata": {
    "vscode": {
     "languageId": "ocaml"
    }
   },
   "outputs": [
    {
     "data": {
      "text/plain": [
       "module Tape : TAPE\n"
      ]
     },
     "execution_count": 3,
     "metadata": {},
     "output_type": "execute_result"
    }
   ],
   "source": [
    "module Tape : TAPE = struct\n",
    "  type t = {\n",
    "    levi : char list; \n",
    "    glava : char ; \n",
    "    desni: char list }\n",
    "\n",
    "  (*\n",
    "  let make niz = \n",
    "    let levi_del = [] in\n",
    "    let glava_niza = \n",
    "      match niz with \n",
    "      | \"\" -> ' ' \n",
    "      | _ -> niz.[0]\n",
    "    in\n",
    "    let desni_del = \n",
    "      let rec sestavi_seznam niz nov_sez = \n",
    "        match niz with\n",
    "        | \"\" -> nov_sez\n",
    "        | _ -> sestavi_seznam (String.sub niz 1 ((String.length niz) - 1)) (niz.[0] :: nov_sez)\n",
    "      in sestavi_seznam niz []\n",
    "    in\n",
    "    {levi = levi_del; glava = glava_niza; desni = desni_del}\n",
    "    *)\n",
    "  \n",
    "  let make niz =\n",
    "    let znaki = List.init (String.length niz) (String.get niz) in\n",
    "    match znaki with\n",
    "    | [] -> { levi = []; glava = ' '; desni = [] }\n",
    "    | x :: xs -> { levi = []; glava = x; desni = xs }  \n",
    "  \n",
    "  let move smer trak =\n",
    "    match smer with\n",
    "    | Right ->\n",
    "      let nov_levi = trak.glava :: trak.levi in\n",
    "      let nova_glava = \n",
    "        match trak.desni with\n",
    "        | [] -> ' '\n",
    "        | x :: xs -> x\n",
    "      in\n",
    "      let nov_desni =\n",
    "        match trak.desni with\n",
    "        | [] -> []\n",
    "        | x :: xs -> xs\n",
    "      in\n",
    "      {levi = nov_levi; glava = nova_glava; desni = nov_desni}\n",
    "    | Left ->\n",
    "      let nov_levi = \n",
    "        match trak.levi with\n",
    "        | [] -> []\n",
    "        | x :: xs -> xs\n",
    "      in\n",
    "      let nova_glava = \n",
    "        match trak.levi with\n",
    "        | [] -> ' '\n",
    "        | x :: xs -> x\n",
    "      in\n",
    "      let nov_desni = trak.glava :: trak.desni in\n",
    "      {levi = nov_levi; glava = nova_glava; desni = nov_desni}\n",
    "        \n",
    "\n",
    "  let read trak = trak.glava\n",
    "\n",
    "  let write znak trak = \n",
    "    {trak with glava = znak}\n",
    "\n",
    "  let print trak = \n",
    "    let pravilno_obrnjen_levi_sez = List.rev trak.levi in\n",
    "    let levi_niz_znakov = String.of_seq (List.to_seq pravilno_obrnjen_levi_sez) in\n",
    "    let desni_niz_znakov = String.of_seq (List.to_seq trak.desni) in\n",
    "    let niz_iz_glave = String.make 1 trak.glava in\n",
    "    let prazni_niz = (String.make (List.length trak.levi) ' ') ^ \"^\" in\n",
    "    print_endline (levi_niz_znakov ^ niz_iz_glave ^ desni_niz_znakov);\n",
    "    print_endline prazni_niz\n",
    "\n",
    "end"
   ]
  },
  {
   "cell_type": "code",
   "execution_count": 13,
   "metadata": {
    "vscode": {
     "languageId": "ocaml"
    }
   },
   "outputs": [
    {
     "data": {
      "text/plain": [
       "type direction = Left | Right\n"
      ]
     },
     "execution_count": 13,
     "metadata": {},
     "output_type": "execute_result"
    },
    {
     "data": {
      "text/plain": [
       "module type TAPE =\n",
       "  sig\n",
       "    type t\n",
       "    val make : string -> t\n",
       "    val move : direction -> t -> t\n",
       "    val read : t -> char\n",
       "    val write : char -> t -> t\n",
       "    val print : t -> unit\n",
       "  end\n"
      ]
     },
     "execution_count": 13,
     "metadata": {},
     "output_type": "execute_result"
    },
    {
     "data": {
      "text/plain": [
       "module Tape : TAPE\n"
      ]
     },
     "execution_count": 13,
     "metadata": {},
     "output_type": "execute_result"
    },
    {
     "name": "stdout",
     "output_type": "stream",
     "text": [
      "aXcde\n",
      "^\n"
     ]
    }
   ],
   "source": [
    "(* Definicija tipa direction *)\n",
    "type direction = Left | Right\n",
    "\n",
    "module type TAPE = sig\n",
    "  type t\n",
    "\n",
    "  val make : string -> t\n",
    "  val move : direction -> t -> t\n",
    "  val read : t -> char\n",
    "  val write : char -> t -> t\n",
    "  val print : t -> unit\n",
    "end\n",
    "\n",
    "module Tape : TAPE = struct\n",
    "  type t = {\n",
    "    left : char list;   (* Elementi levo od glave, v obratnem vrstnem redu *)\n",
    "    head : char;        (* Element pod glavo *)\n",
    "    right : char list;  (* Elementi desno od glave *)\n",
    "  }\n",
    "\n",
    "  (* Ustvari trak iz niza *)\n",
    "  let make str =\n",
    "    let chars = List.init (String.length str) (String.get str) in\n",
    "    match chars with\n",
    "    | [] -> { left = []; head = ' '; right = [] }\n",
    "    | h :: t -> { left = []; head = h; right = t }\n",
    "\n",
    "  (* Premakni glavo v levo ali desno *)\n",
    "  let move dir tape =\n",
    "    match dir with\n",
    "    | Left -> (\n",
    "        match tape.left with\n",
    "        | [] -> { left = []; head = ' '; right = tape.head :: tape.right }\n",
    "        | h :: t -> { left = t; head = h; right = tape.head :: tape.right }\n",
    "      )\n",
    "    | Right -> (\n",
    "        match tape.right with\n",
    "        | [] -> { left = tape.head :: tape.left; head = ' '; right = [] }\n",
    "        | h :: t -> { left = tape.head :: tape.left; head = h; right = t }\n",
    "      )\n",
    "\n",
    "  (* Preberi znak pod glavo *)\n",
    "  let read tape = tape.head\n",
    "\n",
    "  (* Zapiši znak pod glavo *)\n",
    "  let write c tape = { tape with head = c }\n",
    "\n",
    "  (* Izpiši trak *)\n",
    "  let print tape =\n",
    "    let left_str = List.rev tape.left |> List.to_seq |> String.of_seq in\n",
    "    let right_str = List.to_seq tape.right |> String.of_seq in\n",
    "    let tape_str = left_str ^ String.make 1 tape.head ^ right_str in\n",
    "    let caret_pos = String.length left_str in\n",
    "    let caret_line = String.make caret_pos ' ' ^ \"^\" in\n",
    "    print_endline tape_str;\n",
    "    print_endline caret_line\n",
    "end\n",
    "\n",
    "(* Primer uporabe *)\n",
    "let () =\n",
    "  let open Tape in\n",
    "  let tape = make \"abcde\" in\n",
    "  let tape = move Right tape in\n",
    "  let tape = write 'X' tape in\n",
    "  let tape = move Left tape in\n",
    "  print tape\n"
   ]
  },
  {
   "cell_type": "code",
   "execution_count": 41,
   "metadata": {
    "vscode": {
     "languageId": "ocaml"
    }
   },
   "outputs": [
    {
     "name": "stdout",
     "output_type": "stream",
     "text": [
      "  AB!DE\n"
     ]
    },
    {
     "name": "stdout",
     "output_type": "stream",
     "text": [
      "    ^\n"
     ]
    },
    {
     "data": {
      "text/plain": [
       "val primer_trak : unit = ()\n"
      ]
     },
     "execution_count": 41,
     "metadata": {},
     "output_type": "execute_result"
    }
   ],
   "source": [
    "let primer_trak = Tape.(\n",
    "  make \"ABCDE\"\n",
    "  |> move Left\n",
    "  |> move Left\n",
    "  |> move Right\n",
    "  |> move Right\n",
    "  |> move Right\n",
    "  |> move Right\n",
    "  |> write '!'\n",
    "  |> print\n",
    ")"
   ]
  },
  {
   "cell_type": "code",
   "execution_count": 44,
   "metadata": {
    "vscode": {
     "languageId": "ocaml"
    }
   },
   "outputs": [
    {
     "name": "stdout",
     "output_type": "stream",
     "text": [
      "  AB!DE\n"
     ]
    },
    {
     "name": "stdout",
     "output_type": "stream",
     "text": [
      "    ^\n"
     ]
    },
    {
     "data": {
      "text/plain": [
       "val primer_trak : unit = ()\n"
      ]
     },
     "execution_count": 44,
     "metadata": {},
     "output_type": "execute_result"
    }
   ],
   "source": [
    "(**tole ne dela prov, popravi zgornje*)\n",
    "let primer_trak = Tape.(\n",
    "  make \"ABCDE\"\n",
    "  |> move Left\n",
    "  |> move Left\n",
    "  |> move Right\n",
    "  |> move Right\n",
    "  |> move Right\n",
    "  |> move Right\n",
    "  |> write '!'\n",
    "  |> print\n",
    ")"
   ]
  },
  {
   "cell_type": "markdown",
   "metadata": {
    "vscode": {
     "languageId": "ocaml"
    }
   },
   "source": [
    "## Implementacija Turingovih strojev"
   ]
  },
  {
   "cell_type": "markdown",
   "metadata": {},
   "source": [
    "Napišite modul `Machine`, ki implementira spodnjo signaturo, kjer je:\n",
    "\n",
    "- `t` tip Turingovih strojev;\n",
    "- `make`, ki naredi nov stroj z danim začetnim stanjem in seznamom preostalih stanj ter prazno prehodno funkcijo;\n",
    "- `initial`, ki vrne začetno stanje stroja;\n",
    "- `add_transition`, ki prehodno funkcijo razširi s prehodom $(q, a) \\mapsto (q', a', d)$;\n",
    "- `step`, ki za dano stanje in trak izvede en korak stroja, če je to mogoče.\n",
    "\n",
    "Zadnji dve funkciji naj vrneta spremenjene vrednosti, obstoječe argumente pa naj pustita nespremenjene. Prav tako pri zadnjih dveh funkcijah lahko predpostavite, da ju bomo klicali le na poprej podanih stanjih.\n",
    "\n",
    "Tudi tu je tip `t` abstrakten, zato poskrbite za učinkovitost in preglednost kode."
   ]
  },
  {
   "cell_type": "code",
   "execution_count": 4,
   "metadata": {
    "vscode": {
     "languageId": "ocaml"
    }
   },
   "outputs": [
    {
     "data": {
      "text/plain": [
       "module type MACHINE =\n",
       "  sig\n",
       "    type t\n",
       "    val make : state -> state list -> t\n",
       "    val initial : t -> state\n",
       "    val add_transition :\n",
       "      state -> char -> state -> char -> direction -> t -> t\n",
       "    val step : t -> state -> Tape.t -> (state * Tape.t) option\n",
       "  end\n"
      ]
     },
     "execution_count": 4,
     "metadata": {},
     "output_type": "execute_result"
    }
   ],
   "source": [
    "module type MACHINE = sig\n",
    "  type t\n",
    "  val make : state -> state list -> t\n",
    "  val initial : t -> state\n",
    "  val add_transition : state -> char -> state -> char -> direction -> t -> t\n",
    "  val step : t -> state -> Tape.t -> (state * Tape.t) option\n",
    "end"
   ]
  },
  {
   "cell_type": "code",
   "execution_count": null,
   "metadata": {
    "vscode": {
     "languageId": "ocaml"
    }
   },
   "outputs": [],
   "source": []
  },
  {
   "cell_type": "markdown",
   "metadata": {},
   "source": [
    "tur stroj;\n",
    "    trak; predlog xs <| _ |> ys\n",
    "    prehodna funkcija\n",
    "    abeceda"
   ]
  },
  {
   "cell_type": "markdown",
   "metadata": {},
   "source": [
    "probably bo na ustnem: tist kar bi mogl bit v zadnji nal; nek prehod iz enga tur stroja v druzgaž\n",
    "torej neka zadeva ki izvaja programe\n",
    "funkcija iz stroja v stroj; da ko se T1 ustavi, se ustavi tudi T2\n",
    "\n",
    "obstaja nek jezik J = {a iz neke abecede iz 0 ali vec znakov; nek pogoj za a}"
   ]
  },
  {
   "cell_type": "markdown",
   "metadata": {},
   "source": [
    "naredi brez referenc"
   ]
  },
  {
   "cell_type": "markdown",
   "metadata": {},
   "source": [
    "prehodna funkcija E x Q -> Q x E x D (v resnici je sigma namest E pa ne vem kako jo napisat lp)\n",
    "torej iz para (znak, stanje) priredis novo stanje.\n",
    "To je najpomembnejša stvar v tur stroju, najveckrat se bo izvedla\n",
    "Lahko jo nardis kot slovar.\n",
    "\n",
    "Slovar: leksikografska urejenost:\n",
    "- lahko po E, ker so to characters in se jih da urediti\n",
    "- Q so stringi, ki se jih tudi da urediti\n",
    "skupaj nekak probi narest iskalno dreves\n",
    "\n",
    "lahko uporabis kar < na paru, bo delal, sam ga mors na prav nacin not zapisat (v nek tip al neki)\n",
    "\n"
   ]
  },
  {
   "cell_type": "markdown",
   "metadata": {},
   "source": [
    "______________ z drevesom ------------- z matriko\n",
    "- dodajanje __ log n------------------ 1 + x\n",
    "- iskanje ____ log n------------------ 1\n",
    "- init _______ 1 --------------------- n\n",
    "n = |E| x |Q| mimgrede"
   ]
  },
  {
   "cell_type": "markdown",
   "metadata": {},
   "source": [
    "uporab nek MAP.make(<) ki bo naredil slovar, ki je ze iskalno drevo\n",
    "map je slovar mimgrede\n"
   ]
  },
  {
   "cell_type": "markdown",
   "metadata": {},
   "source": [
    "ustni\n",
    "-drevesa\n",
    "-indukcija\n",
    "-nek algoritm, za analizirat casovno zahtevnost\n"
   ]
  },
  {
   "cell_type": "code",
   "execution_count": 20,
   "metadata": {
    "vscode": {
     "languageId": "ocaml"
    }
   },
   "outputs": [
    {
     "data": {
      "text/plain": [
       "module Machine : MACHINE\n"
      ]
     },
     "execution_count": 20,
     "metadata": {},
     "output_type": "execute_result"
    }
   ],
   "source": [
    "module Machine : MACHINE = struct\n",
    "  (**)\n",
    "  type t = {\n",
    "    mnozica_simbolov : char list; \n",
    "    prazni_znak : char; \n",
    "    mnozica_stanj : state list; \n",
    "    zacetno_stanje : state; \n",
    "    prehodna_funkcija : ((char * state) * (char * state * direction)) list\n",
    "    }\n",
    "  (**)\n",
    "  (*\n",
    "  type t = {\n",
    "    trenutno_stanje : state;\n",
    "    vsebina_traku : state list ;\n",
    "    mesto_glave_na_traku : char; (*to ni nc se prov implementiran*)\n",
    "    }  \n",
    "  *)\n",
    "  let make stanje seznam_stanj = \n",
    "    {mnozica_simbolov = [];\n",
    "    prazni_znak = ' ';\n",
    "    mnozica_stanj = seznam_stanj;\n",
    "    zacetno_stanje = stanje;\n",
    "    prehodna_funkcija = [] \n",
    "    }\n",
    "\n",
    "    \n",
    "  let initial tur_stroj = tur_stroj.zacetno_stanje\n",
    "\n",
    "  let add_transition stanje znak novo_stanje nov_znak smer tur_stroj = \n",
    "    {tur_stroj with prehodna_funkcija = ((znak, stanje), (nov_znak, novo_stanje, smer)) :: tur_stroj.prehodna_funkcija}\n",
    "\n",
    "  (*let step tur_stroj stanje trak_od_tur_stroja = failwith \"(stanje * trak_od_tur_stroja) option\"*)\n",
    "\n",
    "  let step tur_stroj stanje trak =\n",
    "    let znak = Tape.read trak in\n",
    "    match List.find_opt (fun ((pr_znak, pr_stanje), _) -> pr_znak = znak && pr_stanje = stanje) tur_stroj.prehodna_funkcija with\n",
    "    | Some (_, (napisi_znak, novo_stanje, smer)) ->\n",
    "        let nov_trak = trak |> Tape.write napisi_znak |> Tape.move smer in\n",
    "        Some (novo_stanje, nov_trak)\n",
    "    | None -> None\n",
    "end\n"
   ]
  },
  {
   "cell_type": "code",
   "execution_count": 14,
   "metadata": {
    "vscode": {
     "languageId": "ocaml"
    }
   },
   "outputs": [
    {
     "data": {
      "text/plain": [
       "module Machine : MACHINE\n"
      ]
     },
     "execution_count": 14,
     "metadata": {},
     "output_type": "execute_result"
    }
   ],
   "source": [
    "module Machine : MACHINE = struct\n",
    "  type t = {\n",
    "    mnozica_simbolov : char list; \n",
    "    prazni_znak : char; \n",
    "    mnozica_stanj : state list; \n",
    "    zacetno_stanje : state; \n",
    "    prehodna_funkcija : ((char * state) * (char * state * direction)) list;\n",
    "  }\n",
    "\n",
    "  let make zacetno_stanje stanja =\n",
    "    {\n",
    "      mnozica_simbolov = [];\n",
    "      prazni_znak = ' ';\n",
    "      mnozica_stanj = stanja;\n",
    "      zacetno_stanje = zacetno_stanje;\n",
    "      prehodna_funkcija = [];\n",
    "    }\n",
    "\n",
    "  let initial machine = machine.zacetno_stanje\n",
    "\n",
    "  let add_transition curr_state curr_char next_state write_char direction machine =\n",
    "    let new_transition = ((curr_char, curr_state), (write_char, next_state, direction)) in\n",
    "    { machine with prehodna_funkcija = new_transition :: machine.prehodna_funkcija }\n",
    "\n",
    "  let step machine curr_state tape =\n",
    "    let curr_char = Tape.read tape in\n",
    "    match List.find_opt (fun ((ch, st), _) -> ch = curr_char && st = curr_state) machine.prehodna_funkcija with\n",
    "    | Some (_, (write_char, next_state, direction)) ->\n",
    "        let new_tape = tape |> Tape.write write_char |> Tape.move direction in\n",
    "        Some (next_state, new_tape)\n",
    "    | None -> None\n",
    "end\n"
   ]
  },
  {
   "cell_type": "code",
   "execution_count": 5,
   "metadata": {
    "vscode": {
     "languageId": "ocaml"
    }
   },
   "outputs": [
    {
     "data": {
      "text/plain": [
       "module type MNOZICA =\n",
       "  sig\n",
       "    type 'a t\n",
       "    val vsebuje : 'a t -> 'a -> bool\n",
       "    val prazna : 'a t\n",
       "    val velikost : 'a t -> int\n",
       "    val dodaj : 'a -> 'a t -> 'a t\n",
       "  end\n"
      ]
     },
     "execution_count": 5,
     "metadata": {},
     "output_type": "execute_result"
    },
    {
     "data": {
      "text/plain": [
       "module MnozicaPrekSeznamov : MNOZICA\n"
      ]
     },
     "execution_count": 5,
     "metadata": {},
     "output_type": "execute_result"
    },
    {
     "data": {
      "text/plain": [
       "module MnozicaPrekIskalnihDreves : MNOZICA\n"
      ]
     },
     "execution_count": 5,
     "metadata": {},
     "output_type": "execute_result"
    },
    {
     "data": {
      "text/plain": [
       "module MnozicaPrekAVLDreves : MNOZICA\n"
      ]
     },
     "execution_count": 5,
     "metadata": {},
     "output_type": "execute_result"
    }
   ],
   "source": [
    "module type MNOZICA = sig\n",
    "  type 'a t\n",
    "\n",
    "  val vsebuje : 'a t -> 'a -> bool\n",
    "  val prazna : 'a t\n",
    "  val velikost : 'a t -> int\n",
    "  val dodaj : 'a -> 'a t -> 'a t\n",
    "end\n",
    "\n",
    "module MnozicaPrekSeznamov : MNOZICA = struct\n",
    "  type 'a t = 'a list\n",
    "\n",
    "  let vsebuje mn x = List.mem x mn\n",
    "  let prazna = []\n",
    "  let velikost = List.length\n",
    "  let dodaj x mn = if vsebuje mn x then mn else x :: mn\n",
    "end\n",
    "\n",
    "module MnozicaPrekIskalnihDreves : MNOZICA = struct\n",
    "  type 'a t = Prazno | Sestavljeno of 'a t * 'a * 'a t\n",
    "\n",
    "  (* type comparison = Equal | Less | Greater *)\n",
    "\n",
    "  let rec vsebuje mn x =\n",
    "    match mn with\n",
    "    | Prazno -> false\n",
    "    | Sestavljeno (l, y, d) when x = y -> true\n",
    "    | Sestavljeno (l, y, d) when x < y -> vsebuje l x\n",
    "    | Sestavljeno (l, y, d) when x > y -> vsebuje d x\n",
    "    | _ -> assert false\n",
    "\n",
    "  let prazna = Prazno\n",
    "\n",
    "  let rec velikost = function\n",
    "    | Prazno -> 0\n",
    "    | Sestavljeno (l, _, d) -> 1 + velikost l + velikost d\n",
    "\n",
    "  let rec podvoji = function\n",
    "    | Prazno -> Prazno\n",
    "    | Sestavljeno (l, x, d) -> Sestavljeno (podvoji l, x, podvoji d)\n",
    "\n",
    "  let rec dodaj x mn =\n",
    "    match mn with\n",
    "    | Prazno -> Sestavljeno (Prazno, x, Prazno)\n",
    "    | Sestavljeno (l, y, d) when x = y -> mn\n",
    "    | Sestavljeno (l, y, d) when x < y -> Sestavljeno (dodaj x l, y, d)\n",
    "    | Sestavljeno (l, y, d) when x > y -> Sestavljeno (l, y, dodaj x d)\n",
    "    | _ -> assert false\n",
    "end\n",
    "\n",
    "module MnozicaPrekAVLDreves : MNOZICA = struct\n",
    "  type 'a t = Prazno | Sestavljeno of 'a t * 'a * 'a t\n",
    "\n",
    "  let rec vsebuje mn x =\n",
    "    match mn with\n",
    "    | Prazno -> false\n",
    "    | Sestavljeno (l, y, d) when x = y -> true\n",
    "    | Sestavljeno (l, y, d) when x < y -> vsebuje l x\n",
    "    | Sestavljeno (l, y, d) when x > y -> vsebuje d x\n",
    "    | _ -> assert false\n",
    "\n",
    "  let prazna = Prazno\n",
    "\n",
    "  let rec velikost = function\n",
    "    | Prazno -> 0\n",
    "    | Sestavljeno (l, _, d) -> 1 + velikost l + velikost d\n",
    "\n",
    "  let rec podvoji = function\n",
    "    | Prazno -> Prazno\n",
    "    | Sestavljeno (l, x, d) -> Sestavljeno (podvoji l, x, podvoji d)\n",
    "\n",
    "  let zavrti_levo = function\n",
    "    | Sestavljeno (l, x, Sestavljeno (dl, y, dd)) ->\n",
    "        Sestavljeno (Sestavljeno (l, x, dl), y, dd)\n",
    "    | _ -> failwith \"Tega drevesa ne morem zavrteti\"\n",
    "\n",
    "  let zavrti_desno = function\n",
    "    | Sestavljeno (Sestavljeno (ll, y, ld), x, d) ->\n",
    "        Sestavljeno (ll, y, Sestavljeno (ld, x, d))\n",
    "    | _ -> failwith \"Tega drevesa ne morem zavrteti\"\n",
    "\n",
    "  let rec visina drevo =\n",
    "    match drevo with\n",
    "    | Prazno -> 0\n",
    "    | Sestavljeno (l, _, d) -> 1 + max (visina l) (visina d)\n",
    "\n",
    "  let razlika = function\n",
    "    | Prazno -> 0\n",
    "    | Sestavljeno (l, _, d) -> visina l - visina d\n",
    "\n",
    "  let uravnotezi drevo =\n",
    "    match drevo with\n",
    "    | Sestavljeno (l, x, d) when razlika drevo = 2 && razlika l = 1 ->\n",
    "        zavrti_desno drevo\n",
    "    | Sestavljeno (l, x, d) when razlika drevo = 2 ->\n",
    "        Sestavljeno (zavrti_levo l, x, d) |> zavrti_desno\n",
    "    | Sestavljeno (l, x, d) when razlika drevo = -2 && razlika d = -1 ->\n",
    "        zavrti_levo drevo\n",
    "    | Sestavljeno (l, x, d) when razlika drevo = -2 ->\n",
    "        Sestavljeno (l, x, zavrti_desno d) |> zavrti_levo\n",
    "    | _ -> drevo\n",
    "\n",
    "  let rec isci x drevo =\n",
    "    match drevo with\n",
    "    | Prazno -> false\n",
    "    | Sestavljeno (l, vrednost, d) ->\n",
    "        if x < vrednost then isci x l\n",
    "        else if x > vrednost then isci x d\n",
    "        else true\n",
    "\n",
    "  let rec dodaj x drevo =\n",
    "    match drevo with\n",
    "    | Prazno -> Sestavljeno (Prazno, x, Prazno)\n",
    "    | Sestavljeno (l, vrednost, d) ->\n",
    "        if x < vrednost then Sestavljeno (dodaj x l, vrednost, d) |> uravnotezi\n",
    "        else if x > vrednost then\n",
    "          Sestavljeno (l, vrednost, dodaj x d) |> uravnotezi\n",
    "        else drevo\n",
    "end\n",
    "\n"
   ]
  },
  {
   "cell_type": "code",
   "execution_count": 12,
   "metadata": {
    "vscode": {
     "languageId": "ocaml"
    }
   },
   "outputs": [
    {
     "data": {
      "text/plain": [
       "module MnozicaPrekAVLDreves : MNOZICA\n"
      ]
     },
     "execution_count": 12,
     "metadata": {},
     "output_type": "execute_result"
    },
    {
     "ename": "error",
     "evalue": "compile_error",
     "output_type": "error",
     "traceback": [
      "File \"[12]\", line 116, characters 26-54:\n116 |     let all_transitions = MnozicaPrekAVLDreves.to_list transitions in\n                                ^^^^^^^^^^^^^^^^^^^^^^^^^^^^\nError: Unbound value MnozicaPrekAVLDreves.to_list\n"
     ]
    }
   ],
   "source": [
    "module MnozicaPrekAVLDreves : MNOZICA = struct\n",
    "  type 'a t = Prazno | Sestavljeno of 'a t * 'a * 'a t\n",
    "\n",
    "  let rec vsebuje mn x =\n",
    "    match mn with\n",
    "    | Prazno -> false\n",
    "    | Sestavljeno (l, y, d) when x = y -> true\n",
    "    | Sestavljeno (l, y, d) when x < y -> vsebuje l x\n",
    "    | Sestavljeno (l, y, d) when x > y -> vsebuje d x\n",
    "    | _ -> assert false\n",
    "\n",
    "  let prazna = Prazno\n",
    "\n",
    "  let rec velikost = function\n",
    "    | Prazno -> 0\n",
    "    | Sestavljeno (l, _, d) -> 1 + velikost l + velikost d\n",
    "\n",
    "  let rec podvoji = function\n",
    "    | Prazno -> Prazno\n",
    "    | Sestavljeno (l, x, d) -> Sestavljeno (podvoji l, x, podvoji d)\n",
    "\n",
    "  let zavrti_levo = function\n",
    "    | Sestavljeno (l, x, Sestavljeno (dl, y, dd)) ->\n",
    "        Sestavljeno (Sestavljeno (l, x, dl), y, dd)\n",
    "    | _ -> failwith \"Tega drevesa ne morem zavrteti\"\n",
    "\n",
    "  let zavrti_desno = function\n",
    "    | Sestavljeno (Sestavljeno (ll, y, ld), x, d) ->\n",
    "        Sestavljeno (ll, y, Sestavljeno (ld, x, d))\n",
    "    | _ -> failwith \"Tega drevesa ne morem zavrteti\"\n",
    "\n",
    "  let rec visina drevo =\n",
    "    match drevo with\n",
    "    | Prazno -> 0\n",
    "    | Sestavljeno (l, _, d) -> 1 + max (visina l) (visina d)\n",
    "\n",
    "  let razlika = function\n",
    "    | Prazno -> 0\n",
    "    | Sestavljeno (l, _, d) -> visina l - visina d\n",
    "\n",
    "  let uravnotezi drevo =\n",
    "    match drevo with\n",
    "    | Sestavljeno (l, x, d) when razlika drevo = 2 && razlika l = 1 ->\n",
    "        zavrti_desno drevo\n",
    "    | Sestavljeno (l, x, d) when razlika drevo = 2 ->\n",
    "        Sestavljeno (zavrti_levo l, x, d) |> zavrti_desno\n",
    "    | Sestavljeno (l, x, d) when razlika drevo = -2 && razlika d = -1 ->\n",
    "        zavrti_levo drevo\n",
    "    | Sestavljeno (l, x, d) when razlika drevo = -2 ->\n",
    "        Sestavljeno (l, x, zavrti_desno d) |> zavrti_levo\n",
    "    | _ -> drevo\n",
    "\n",
    "  let rec isci x drevo =\n",
    "    match drevo with\n",
    "    | Prazno -> false\n",
    "    | Sestavljeno (l, vrednost, d) ->\n",
    "        if x < vrednost then isci x l\n",
    "        else if x > vrednost then isci x d\n",
    "        else true\n",
    "\n",
    "  let rec dodaj x drevo =\n",
    "    match drevo with\n",
    "    | Prazno -> Sestavljeno (Prazno, x, Prazno)\n",
    "    | Sestavljeno (l, vrednost, d) ->\n",
    "        if x < vrednost then Sestavljeno (dodaj x l, vrednost, d) |> uravnotezi\n",
    "        else if x > vrednost then\n",
    "          Sestavljeno (l, vrednost, dodaj x d) |> uravnotezi\n",
    "        else drevo\n",
    "\n",
    "  (* Pretvori drevo v seznam *)\n",
    "  let rec to_list = function\n",
    "    | Prazno -> []\n",
    "    | Sestavljeno (l, x, d) -> to_list l @ [x] @ to_list d\n",
    "end\n",
    "\n",
    "\n",
    "module Machine : MACHINE = struct\n",
    "  type transition = {\n",
    "    curr_char : char;\n",
    "    curr_state : state;\n",
    "    write_char : char;\n",
    "    next_state : state;\n",
    "    direction : direction;\n",
    "  }\n",
    "\n",
    "  type t = {\n",
    "    initial_state : state;\n",
    "    states : state list;\n",
    "    transitions : transition MnozicaPrekAVLDreves.t;\n",
    "  }\n",
    "\n",
    "  (* Funkcija za ustvarjanje novega Turingovega stroja *)\n",
    "  let make initial_state states =\n",
    "    { initial_state; states; transitions = MnozicaPrekAVLDreves.prazna }\n",
    "\n",
    "  (* Funkcija, ki vrne začetno stanje stroja *)\n",
    "  let initial machine = machine.initial_state\n",
    "\n",
    "  (* Funkcija za dodajanje prehoda *)\n",
    "  let add_transition curr_state curr_char next_state write_char direction machine =\n",
    "    let new_transition = {\n",
    "      curr_char;\n",
    "      curr_state;\n",
    "      write_char;\n",
    "      next_state;\n",
    "      direction;\n",
    "    } in\n",
    "    let new_transitions = MnozicaPrekAVLDreves.dodaj new_transition machine.transitions in\n",
    "    { machine with transitions = new_transitions }\n",
    "\n",
    "  (* Funkcija za iskanje prehoda *)\n",
    "  let find_transition transitions curr_char curr_state =\n",
    "    let is_matching_transition t =\n",
    "      t.curr_char = curr_char && t.curr_state = curr_state\n",
    "    in\n",
    "    let all_transitions = MnozicaPrekAVLDreves.to_list transitions in\n",
    "    List.find_opt is_matching_transition all_transitions\n",
    "\n",
    "  (* Funkcija za izvajanje enega koraka *)\n",
    "  let step machine curr_state tape =\n",
    "    let curr_char = Tape.read tape in\n",
    "    match find_transition machine.transitions curr_char curr_state with\n",
    "    | None -> None\n",
    "    | Some { write_char; next_state; direction } ->\n",
    "        let new_tape = tape |> Tape.write write_char |> Tape.move direction in\n",
    "        Some (next_state, new_tape)\n",
    "end\n"
   ]
  },
  {
   "cell_type": "markdown",
   "metadata": {
    "vscode": {
     "languageId": "ocaml"
    }
   },
   "source": [
    "Primer stroja \"Binary Increment\" na <http://turingmachine.io> lahko implementiramo kot:"
   ]
  },
  {
   "cell_type": "code",
   "execution_count": 7,
   "metadata": {
    "vscode": {
     "languageId": "ocaml"
    }
   },
   "outputs": [
    {
     "data": {
      "text/plain": [
       "val binary_increment : Machine.t = <abstr>\n"
      ]
     },
     "execution_count": 7,
     "metadata": {},
     "output_type": "execute_result"
    }
   ],
   "source": [
    "let binary_increment =\n",
    "  Machine.(\n",
    "    make \"right\" [ \"carry\"; \"done\" ]\n",
    "    |> add_transition \"right\" '1' \"right\" '1' Right\n",
    "    |> add_transition \"right\" '0' \"right\" '0' Right\n",
    "    |> add_transition \"right\" ' ' \"carry\" ' ' Left\n",
    "    |> add_transition \"carry\" '1' \"carry\" '0' Left\n",
    "    |> add_transition \"carry\" '0' \"done\" '1' Left\n",
    "    |> add_transition \"carry\" ' ' \"done\" '1' Left\n",
    "  )\n"
   ]
  },
  {
   "cell_type": "code",
   "execution_count": 21,
   "metadata": {
    "vscode": {
     "languageId": "ocaml"
    }
   },
   "outputs": [
    {
     "data": {
      "text/plain": [
       "val binary_increment : Machine.t = <abstr>\n"
      ]
     },
     "execution_count": 21,
     "metadata": {},
     "output_type": "execute_result"
    }
   ],
   "source": [
    "let binary_increment =\n",
    "  Machine.(\n",
    "    make \"right\" [ \"carry\"; \"done\" ]\n",
    "    |> add_transition \"right\" '1' \"right\" '1' Right\n",
    "    |> add_transition \"right\" '0' \"right\" '0' Right\n",
    "    |> add_transition \"right\" ' ' \"carry\" ' ' Left\n",
    "    |> add_transition \"carry\" '1' \"carry\" '0' Left\n",
    "    |> add_transition \"carry\" '0' \"done\" '1' Left\n",
    "    |> add_transition \"carry\" ' ' \"done\" '1' Left\n",
    "  )"
   ]
  },
  {
   "cell_type": "markdown",
   "metadata": {
    "vscode": {
     "languageId": "ocaml"
    }
   },
   "source": [
    "Zapišite funkciji `slow_run` in `speed_run` tipa `Machine.t -> str -> unit`, ki simulirata Turingov stroj na traku, na katerem je na začetku zapisan dani niz. Prva naj izpiše trakove in stanja pri vseh vmesnih korakih, druga pa naj izpiše le končni trak. Slednjo bomo uporabljali tudi pri meritvi učinkovitosti izvajanja."
   ]
  },
  {
   "cell_type": "code",
   "execution_count": 9,
   "metadata": {
    "vscode": {
     "languageId": "ocaml"
    }
   },
   "outputs": [
    {
     "name": "stdout",
     "output_type": "stream",
     "text": [
      "1011\n",
      "^\n",
      "right\n",
      "1011\n",
      " ^\n",
      "right\n",
      "1011\n",
      "  ^\n",
      "right\n",
      "1011\n",
      "   ^\n",
      "right\n",
      "1011\n",
      "    ^\n",
      "right\n",
      "1011\n",
      "   ^\n",
      "carry\n",
      "1010\n",
      "  ^\n",
      "carry\n",
      "1000\n",
      " ^\n",
      "carry\n",
      "1100\n",
      "^\n",
      "done\n"
     ]
    },
    {
     "data": {
      "text/plain": [
       "val primer_slow_run : unit = ()\n"
      ]
     },
     "execution_count": 9,
     "metadata": {},
     "output_type": "execute_result"
    }
   ],
   "source": [
    "let primer_slow_run =\n",
    "  slow_run binary_increment \"1011\""
   ]
  },
  {
   "cell_type": "code",
   "execution_count": 11,
   "metadata": {
    "vscode": {
     "languageId": "ocaml"
    }
   },
   "outputs": [
    {
     "name": "stdout",
     "output_type": "stream",
     "text": [
      "1100\n",
      "^\n"
     ]
    },
    {
     "data": {
      "text/plain": [
       "val primer_speed_run : unit = ()\n"
      ]
     },
     "execution_count": 11,
     "metadata": {},
     "output_type": "execute_result"
    }
   ],
   "source": [
    "let primer_speed_run =\n",
    "  speed_run binary_increment \"1011\""
   ]
  },
  {
   "cell_type": "markdown",
   "metadata": {},
   "source": [
    "## Krajši zapis"
   ]
  },
  {
   "cell_type": "markdown",
   "metadata": {},
   "source": [
    "Ko definiramo Turingov stroj, prehode običajno združujemo najprej po stanjih, nato pa še po znakih. Prav tako pri dosti prehodih samo premikamo glavo, trak in stanje pa pustimo pri miru. Zapišite funkcije:\n",
    "\n",
    "- `for_state`\n",
    "- `for_character`\n",
    "- `for_characters`\n",
    "- `move`\n",
    "- `switch_and_move`\n",
    "- `write_and_move`\n",
    "- `write_switch_and_move`\n",
    "\n",
    "s katerimi bi lahko zgornji primer na krajše zapisali kot spodaj. Implementacijo in tipe ugotovite sami."
   ]
  },
  {
   "cell_type": "code",
   "execution_count": 13,
   "metadata": {
    "vscode": {
     "languageId": "ocaml"
    }
   },
   "outputs": [
    {
     "data": {
      "text/plain": [
       "val binary_increment' : Machine.t = <abstr>\n"
      ]
     },
     "execution_count": 13,
     "metadata": {},
     "output_type": "execute_result"
    }
   ],
   "source": [
    "let binary_increment' =\n",
    "  Machine.make \"right\" [\"carry\"; \"done\"]\n",
    "  |> for_state \"right\" [\n",
    "    for_characters \"01\" @@ move Right;\n",
    "    for_character ' ' @@ switch_and_move \"carry\" Left\n",
    "  ]\n",
    "  |> for_state \"carry\" [\n",
    "    for_character '1' @@ switch_and_move \"carry\" Left;\n",
    "    for_characters \"0 \" @@ write_switch_and_move '1' \"done\" Left\n",
    "  ]  "
   ]
  },
  {
   "cell_type": "markdown",
   "metadata": {},
   "source": [
    "## Primeri Turingovih strojev"
   ]
  },
  {
   "cell_type": "markdown",
   "metadata": {
    "vscode": {
     "languageId": "ocaml"
    }
   },
   "source": [
    "Pri tej nalogi boste sestavljali stroje, ki bodo iz začetnega niza na traku na različne načine izračunali nov niz. Pri tem lahko predpostavite, da je začetni niz sestavljen iz ničel in enic, preostanek traku pa je prazen. Na koncu izvajanja naj bo glava na začetku novega niza, z izjemo tega niza pa naj bo trak prazen. Ni pa treba, da se izračunani niz začne na istem mestu na traku, kot se je začel prvotni niz."
   ]
  },
  {
   "cell_type": "markdown",
   "metadata": {
    "vscode": {
     "languageId": "ocaml"
    }
   },
   "source": [
    "### Obračanje niza\n"
   ]
  },
  {
   "cell_type": "markdown",
   "metadata": {},
   "source": [
    "Sestavite Turingov stroj, ki začetni niz obrne na glavo."
   ]
  },
  {
   "cell_type": "code",
   "execution_count": 15,
   "metadata": {
    "vscode": {
     "languageId": "ocaml"
    }
   },
   "outputs": [
    {
     "name": "stdout",
     "output_type": "stream",
     "text": [
      "1001110000          \n",
      "^\n"
     ]
    },
    {
     "data": {
      "text/plain": [
       "val primer_reverse : unit = ()\n"
      ]
     },
     "execution_count": 15,
     "metadata": {},
     "output_type": "execute_result"
    }
   ],
   "source": [
    "let primer_reverse = speed_run reverse \"0000111001\""
   ]
  },
  {
   "cell_type": "markdown",
   "metadata": {},
   "source": [
    "### Podvajanje niza\n"
   ]
  },
  {
   "cell_type": "markdown",
   "metadata": {},
   "source": [
    "Sestavite Turingov stroj, ki podvoji začetni niz."
   ]
  },
  {
   "cell_type": "code",
   "execution_count": 17,
   "metadata": {
    "vscode": {
     "languageId": "ocaml"
    }
   },
   "outputs": [
    {
     "name": "stdout",
     "output_type": "stream",
     "text": [
      "001100001111       \n",
      "^\n"
     ]
    },
    {
     "data": {
      "text/plain": [
       "val primer_duplicate : unit = ()\n"
      ]
     },
     "execution_count": 17,
     "metadata": {},
     "output_type": "execute_result"
    }
   ],
   "source": [
    "let primer_duplicate = speed_run duplicate \"010011\""
   ]
  },
  {
   "cell_type": "markdown",
   "metadata": {},
   "source": [
    "### Eniški zapis\n"
   ]
  },
  {
   "cell_type": "markdown",
   "metadata": {},
   "source": [
    "Sestavite Turingov stroj, ki na začetku na traku sprejme število $n$, zapisano v dvojiškem zapisu, na koncu pa naj bo na traku zapisanih natanko $n$ enic."
   ]
  },
  {
   "cell_type": "code",
   "execution_count": 19,
   "metadata": {
    "vscode": {
     "languageId": "ocaml"
    }
   },
   "outputs": [
    {
     "name": "stdout",
     "output_type": "stream",
     "text": [
      "1111111111\n",
      "^\n"
     ]
    },
    {
     "data": {
      "text/plain": [
       "val primer_to_unary : unit = ()\n"
      ]
     },
     "execution_count": 19,
     "metadata": {},
     "output_type": "execute_result"
    }
   ],
   "source": [
    "let primer_to_unary = speed_run to_unary \"1010\""
   ]
  },
  {
   "cell_type": "markdown",
   "metadata": {},
   "source": [
    "### Dvojiški zapis\n"
   ]
  },
  {
   "cell_type": "markdown",
   "metadata": {},
   "source": [
    "Sestavite ravno obratni Turingov stroj, torej tak, ki na začetku na traku sprejme število $n$ enic, na koncu pa naj bo na traku zapisano število $n$ v dvojiškem zapisu."
   ]
  },
  {
   "cell_type": "code",
   "execution_count": 21,
   "metadata": {
    "vscode": {
     "languageId": "ocaml"
    }
   },
   "outputs": [
    {
     "name": "stdout",
     "output_type": "stream",
     "text": [
      "101010                                           \n",
      "^\n"
     ]
    },
    {
     "data": {
      "text/plain": [
       "val primer_to_binary : unit = ()\n"
      ]
     },
     "execution_count": 21,
     "metadata": {},
     "output_type": "execute_result"
    }
   ],
   "source": [
    "let primer_to_binary = speed_run to_binary (String.make 42 '1')"
   ]
  }
 ],
 "metadata": {
  "kernelspec": {
   "display_name": "OCaml 4.14",
   "language": "OCaml",
   "name": "ocaml-jupyter"
  },
  "language_info": {
   "codemirror_mode": "text/x-ocaml",
   "file_extension": ".ml",
   "mimetype": "text/x-ocaml",
   "name": "OCaml",
   "nbconverter_exporter": null,
   "pygments_lexer": "OCaml",
   "version": "4.14.2"
  }
 },
 "nbformat": 4,
 "nbformat_minor": 2
}
