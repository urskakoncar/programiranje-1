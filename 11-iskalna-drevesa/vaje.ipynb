{
 "cells": [
  {
   "cell_type": "code",
   "execution_count": 2,
   "metadata": {
    "vscode": {
     "languageId": "ocaml"
    }
   },
   "outputs": [
    {
     "data": {
      "text/plain": [
       "type 'a tree = Empty | Node of 'a tree * 'a * 'a tree\n"
      ]
     },
     "execution_count": 2,
     "metadata": {},
     "output_type": "execute_result"
    }
   ],
   "source": [
    "type 'a tree = \n",
    "| Empty \n",
    "| Node of 'a tree * 'a * 'a tree"
   ]
  },
  {
   "cell_type": "code",
   "execution_count": 5,
   "metadata": {
    "vscode": {
     "languageId": "ocaml"
    }
   },
   "outputs": [
    {
     "data": {
      "text/plain": [
       "val test_tree : int tree =\n",
       "  Node (Node (Node (Empty, 0, Empty), 2, Empty), 5,\n",
       "   Node (Node (Empty, 6, Empty), 7, Node (Empty, 11, Empty)))\n"
      ]
     },
     "execution_count": 5,
     "metadata": {},
     "output_type": "execute_result"
    },
    {
     "data": {
      "text/plain": [
       "val leaf : 'a -> 'a tree = <fun>\n"
      ]
     },
     "execution_count": 5,
     "metadata": {},
     "output_type": "execute_result"
    },
    {
     "data": {
      "text/plain": [
       "val test_tree_1 : int tree =\n",
       "  Node (Node (Node (Empty, 0, Empty), 2, Empty), 5,\n",
       "   Node (Node (Empty, 6, Empty), 7, Node (Empty, 7, Empty)))\n"
      ]
     },
     "execution_count": 5,
     "metadata": {},
     "output_type": "execute_result"
    }
   ],
   "source": [
    "let test_tree =\n",
    "  Node (Node (Node (Empty, 0, Empty), 2, Empty), \n",
    "  5, \n",
    "  Node (Node (Empty, 6, Empty) , 7, Node (Empty, 11, Empty)))\n",
    "\n",
    "\n",
    "let leaf n = \n",
    "  Node (Empty, n, Empty)\n",
    "\n",
    "let test_tree_1 =\n",
    "  Node (Node (leaf 0, 2, Empty), \n",
    "  5, \n",
    "  Node (leaf 6 , 7, leaf 7))"
   ]
  },
  {
   "cell_type": "code",
   "execution_count": 6,
   "metadata": {
    "vscode": {
     "languageId": "ocaml"
    }
   },
   "outputs": [
    {
     "data": {
      "text/plain": [
       "val mirror : 'a tree -> 'a tree = <fun>\n"
      ]
     },
     "execution_count": 6,
     "metadata": {},
     "output_type": "execute_result"
    }
   ],
   "source": [
    "let rec mirror drevo = \n",
    "  match drevo with \n",
    "  | Empty -> Empty\n",
    "  | Node (l, x, d) -> Node (mirror d, x, mirror l)"
   ]
  },
  {
   "cell_type": "code",
   "execution_count": 8,
   "metadata": {
    "vscode": {
     "languageId": "ocaml"
    }
   },
   "outputs": [
    {
     "data": {
      "text/plain": [
       "val primer_mirror : int tree =\n",
       "  Node (Node (Node (Empty, 11, Empty), 7, Node (Empty, 6, Empty)), 5,\n",
       "   Node (Empty, 2, Node (Empty, 0, Empty)))\n"
      ]
     },
     "execution_count": 8,
     "metadata": {},
     "output_type": "execute_result"
    }
   ],
   "source": [
    "let primer_mirror = mirror test_tree"
   ]
  },
  {
   "cell_type": "code",
   "execution_count": 13,
   "metadata": {
    "vscode": {
     "languageId": "ocaml"
    }
   },
   "outputs": [
    {
     "data": {
      "text/plain": [
       "val height : 'a tree -> int = <fun>\n"
      ]
     },
     "execution_count": 13,
     "metadata": {},
     "output_type": "execute_result"
    },
    {
     "data": {
      "text/plain": [
       "val size : 'a tree -> int = <fun>\n"
      ]
     },
     "execution_count": 13,
     "metadata": {},
     "output_type": "execute_result"
    }
   ],
   "source": [
    "let rec height drevo =\n",
    "  match drevo with\n",
    "  | Empty -> 0\n",
    "  | Node (l, x, d) -> 1 + max (height l) (height d) \n",
    "\n",
    "let rec size =\n",
    "  function\n",
    "  | Empty -> 0\n",
    "  | Node (l, x, r) -> 1 + (size l) + (size r)"
   ]
  },
  {
   "cell_type": "code",
   "execution_count": 16,
   "metadata": {
    "vscode": {
     "languageId": "ocaml"
    }
   },
   "outputs": [
    {
     "data": {
      "text/plain": [
       "- : int = 3\n"
      ]
     },
     "execution_count": 16,
     "metadata": {},
     "output_type": "execute_result"
    },
    {
     "data": {
      "text/plain": [
       "- : int = 6\n"
      ]
     },
     "execution_count": 16,
     "metadata": {},
     "output_type": "execute_result"
    }
   ],
   "source": [
    "height test_tree;;\n",
    "size test_tree"
   ]
  },
  {
   "cell_type": "code",
   "execution_count": 17,
   "metadata": {
    "vscode": {
     "languageId": "ocaml"
    }
   },
   "outputs": [
    {
     "data": {
      "text/plain": [
       "val map_tree : ('a -> 'b) -> 'a tree -> 'b tree = <fun>\n"
      ]
     },
     "execution_count": 17,
     "metadata": {},
     "output_type": "execute_result"
    }
   ],
   "source": [
    "let rec map_tree f drevo =\n",
    "  match drevo with \n",
    "  | Empty -> Empty\n",
    "  | Node (l, x, r) -> Node (map_tree f l, f x, map_tree f r)"
   ]
  },
  {
   "cell_type": "code",
   "execution_count": 18,
   "metadata": {
    "vscode": {
     "languageId": "ocaml"
    }
   },
   "outputs": [
    {
     "data": {
      "text/plain": [
       "- : bool tree =\n",
       "Node (Node (Node (Empty, false, Empty), false, Empty), true,\n",
       " Node (Node (Empty, true, Empty), true, Node (Empty, true, Empty)))\n"
      ]
     },
     "execution_count": 18,
     "metadata": {},
     "output_type": "execute_result"
    }
   ],
   "source": [
    "map_tree ((<)3) test_tree;;"
   ]
  },
  {
   "cell_type": "code",
   "execution_count": 19,
   "metadata": {
    "vscode": {
     "languageId": "ocaml"
    }
   },
   "outputs": [
    {
     "data": {
      "text/plain": [
       "val list_of_tree : 'a tree -> 'a list = <fun>\n"
      ]
     },
     "execution_count": 19,
     "metadata": {},
     "output_type": "execute_result"
    }
   ],
   "source": [
    "let rec list_of_tree drevo =\n",
    "  match drevo with\n",
    "  | Empty -> []\n",
    "  | Node (l, x, r) -> list_of_tree l @ [x] @ list_of_tree r"
   ]
  },
  {
   "cell_type": "code",
   "execution_count": 20,
   "metadata": {
    "vscode": {
     "languageId": "ocaml"
    }
   },
   "outputs": [
    {
     "data": {
      "text/plain": [
       "- : int list = [0; 2; 5; 6; 7; 11]\n"
      ]
     },
     "execution_count": 20,
     "metadata": {},
     "output_type": "execute_result"
    }
   ],
   "source": [
    "list_of_tree test_tree;;"
   ]
  },
  {
   "cell_type": "code",
   "execution_count": null,
   "metadata": {
    "vscode": {
     "languageId": "ocaml"
    }
   },
   "outputs": [
    {
     "data": {
      "text/plain": [
       "val is_bst : 'a tree -> bool = <fun>\n"
      ]
     },
     "execution_count": 25,
     "metadata": {},
     "output_type": "execute_result"
    }
   ],
   "source": [
    "let is_bst drevo =\n",
    "  let seznam = list_of_tree drevo in\n",
    "  let rec preveri sez =\n",
    "    match sez with\n",
    "    | [] -> true\n",
    "    | x0 :: x1 :: xs -> \n",
    "      if x0 >= x1 then false\n",
    "      else preveri (x1 :: xs)\n",
    "    | _ :: [] -> true\n",
    "    in\n",
    "    preveri seznam\n",
    "    "
   ]
  },
  {
   "cell_type": "code",
   "execution_count": 26,
   "metadata": {
    "vscode": {
     "languageId": "ocaml"
    }
   },
   "outputs": [
    {
     "data": {
      "text/plain": [
       "- : bool = true\n"
      ]
     },
     "execution_count": 26,
     "metadata": {},
     "output_type": "execute_result"
    },
    {
     "data": {
      "text/plain": [
       "- : bool = false\n"
      ]
     },
     "execution_count": 26,
     "metadata": {},
     "output_type": "execute_result"
    }
   ],
   "source": [
    "is_bst test_tree;;\n",
    "test_tree |> mirror |> is_bst;;"
   ]
  },
  {
   "cell_type": "code",
   "execution_count": 28,
   "metadata": {
    "vscode": {
     "languageId": "ocaml"
    }
   },
   "outputs": [
    {
     "data": {
      "text/plain": [
       "val member : 'a -> 'a tree -> bool = <fun>\n"
      ]
     },
     "execution_count": 28,
     "metadata": {},
     "output_type": "execute_result"
    }
   ],
   "source": [
    "let rec member elt =\n",
    "  function\n",
    "  | Empty -> false\n",
    "  | Node (l, x, r) ->\n",
    "    if elt = x then true\n",
    "    else \n",
    "      if elt < x then member elt l\n",
    "      else member elt r"
   ]
  },
  {
   "cell_type": "code",
   "execution_count": 31,
   "metadata": {
    "vscode": {
     "languageId": "ocaml"
    }
   },
   "outputs": [
    {
     "data": {
      "text/plain": [
       "- : bool = false\n"
      ]
     },
     "execution_count": 31,
     "metadata": {},
     "output_type": "execute_result"
    },
    {
     "data": {
      "text/plain": [
       "- : bool = true\n"
      ]
     },
     "execution_count": 31,
     "metadata": {},
     "output_type": "execute_result"
    }
   ],
   "source": [
    "member 3 test_tree;;\n",
    "member 2 test_tree;;"
   ]
  },
  {
   "cell_type": "code",
   "execution_count": 38,
   "metadata": {
    "vscode": {
     "languageId": "ocaml"
    }
   },
   "outputs": [
    {
     "data": {
      "text/plain": [
       "val insert : 'a -> 'a tree -> 'a tree = <fun>\n"
      ]
     },
     "execution_count": 38,
     "metadata": {},
     "output_type": "execute_result"
    }
   ],
   "source": [
    "let rec insert elt drevo =\n",
    "  match drevo with\n",
    "  | Empty -> leaf elt\n",
    "  | Node (l, x, r) -> \n",
    "    if elt = x then drevo \n",
    "    else\n",
    "      if elt < x then Node (insert elt l, x, r)\n",
    "      else Node (l, x, insert elt r)"
   ]
  },
  {
   "cell_type": "code",
   "execution_count": 39,
   "metadata": {
    "vscode": {
     "languageId": "ocaml"
    }
   },
   "outputs": [
    {
     "data": {
      "text/plain": [
       "- : int tree = Node (Node (Empty, 2, Empty), 4, Empty)\n"
      ]
     },
     "execution_count": 39,
     "metadata": {},
     "output_type": "execute_result"
    }
   ],
   "source": [
    "insert 2 (leaf 4);;"
   ]
  }
 ],
 "metadata": {
  "kernelspec": {
   "display_name": "OCaml 4.14",
   "language": "OCaml",
   "name": "ocaml-jupyter"
  },
  "language_info": {
   "codemirror_mode": "text/x-ocaml",
   "file_extension": ".ml",
   "mimetype": "text/x-ocaml",
   "name": "OCaml",
   "nbconverter_exporter": null,
   "pygments_lexer": "OCaml",
   "version": "4.14.2"
  }
 },
 "nbformat": 4,
 "nbformat_minor": 2
}
