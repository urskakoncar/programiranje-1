{
 "cells": [
  {
   "cell_type": "markdown",
   "metadata": {},
   "source": [
    "# 1. domača naloga"
   ]
  },
  {
   "cell_type": "markdown",
   "metadata": {},
   "source": [
    "## Ogrevanje"
   ]
  },
  {
   "cell_type": "markdown",
   "metadata": {},
   "source": [
    "### Števke"
   ]
  },
  {
   "cell_type": "markdown",
   "metadata": {},
   "source": [
    "Napišite funkcijo `stevke : int -> int -> int list`, ki sprejme pozitivni celi števili $b$ in $n$ ter vrne seznam števk števila $n$ v bazi $b$. Pri tem tudi za baze, ki so večje od $10$, uporabimo števke od $0$ do $b - 1$."
   ]
  },
  {
   "cell_type": "code",
   "execution_count": 75,
   "metadata": {
    "vscode": {
     "languageId": "ocaml"
    }
   },
   "outputs": [
    {
     "data": {
      "text/plain": [
       "val stevke : int -> int -> int list = <fun>\n"
      ]
     },
     "execution_count": 75,
     "metadata": {},
     "output_type": "execute_result"
    }
   ],
   "source": [
    "let stevke b n = \n",
    "  let rec stevke_pomozna b n sez =\n",
    "    match n with\n",
    "    | 0 -> sez\n",
    "    | _ -> stevke_pomozna b (n / b) ((n mod b)::sez)\n",
    "  in stevke_pomozna b n []"
   ]
  },
  {
   "cell_type": "code",
   "execution_count": 76,
   "metadata": {
    "vscode": {
     "languageId": "ocaml"
    }
   },
   "outputs": [
    {
     "data": {
      "text/plain": [
       "val primer_1_1 : int list = [1; 2; 3; 4; 5]\n"
      ]
     },
     "execution_count": 76,
     "metadata": {},
     "output_type": "execute_result"
    },
    {
     "data": {
      "text/plain": [
       "val primer_1_2 : int list = [1; 0; 1; 0; 1; 0]\n"
      ]
     },
     "execution_count": 76,
     "metadata": {},
     "output_type": "execute_result"
    },
    {
     "data": {
      "text/plain": [
       "val primer_1_3 : int list = [3; 14; 15; 9]\n"
      ]
     },
     "execution_count": 76,
     "metadata": {},
     "output_type": "execute_result"
    }
   ],
   "source": [
    "let primer_1_1 = stevke 10 12345\n",
    "let primer_1_2 = stevke 2 42\n",
    "let primer_1_3 = stevke 16 (3 * 16 * 16 * 16 + 14 * 16 * 16 + 15 * 16 + 9)"
   ]
  },
  {
   "cell_type": "code",
   "execution_count": 77,
   "metadata": {
    "vscode": {
     "languageId": "ocaml"
    }
   },
   "outputs": [
    {
     "data": {
      "text/plain": [
       "val primer_ogrevanje_1 : int list = [1; 2; 3; 4; 5]\n"
      ]
     },
     "execution_count": 77,
     "metadata": {},
     "output_type": "execute_result"
    }
   ],
   "source": [
    "let primer_ogrevanje_1 = stevke 10 12345"
   ]
  },
  {
   "cell_type": "code",
   "execution_count": 78,
   "metadata": {
    "vscode": {
     "languageId": "ocaml"
    }
   },
   "outputs": [
    {
     "data": {
      "text/plain": [
       "val primer_ogrevanje_2 : int list = [1; 0; 1; 0; 1; 0]\n"
      ]
     },
     "execution_count": 78,
     "metadata": {},
     "output_type": "execute_result"
    }
   ],
   "source": [
    "let primer_ogrevanje_2 = stevke 2 42"
   ]
  },
  {
   "cell_type": "code",
   "execution_count": 79,
   "metadata": {
    "vscode": {
     "languageId": "ocaml"
    }
   },
   "outputs": [
    {
     "data": {
      "text/plain": [
       "val primer_ogrevanje_3 : int list = [3; 14; 15; 9]\n"
      ]
     },
     "execution_count": 79,
     "metadata": {},
     "output_type": "execute_result"
    }
   ],
   "source": [
    "let primer_ogrevanje_3 = stevke 16 (3 * 16 * 16 * 16 + 14 * 16 * 16 + 15 * 16 + 9)"
   ]
  },
  {
   "cell_type": "markdown",
   "metadata": {},
   "source": [
    "### Začetek seznama"
   ]
  },
  {
   "cell_type": "markdown",
   "metadata": {},
   "source": [
    "Napišite funkcijo `take : int -> 'a list -> 'a list`, ki sprejme naravno število in vrne ustrezno število elementov z začetka danega seznama. Če je podani seznam krajši od zahtevane dolžine, naj funkcija vrne kar celoten seznam."
   ]
  },
  {
   "cell_type": "code",
   "execution_count": 153,
   "metadata": {
    "vscode": {
     "languageId": "ocaml"
    }
   },
   "outputs": [
    {
     "data": {
      "text/plain": [
       "val take : int -> 'a list -> 'a list = <fun>\n"
      ]
     },
     "execution_count": 153,
     "metadata": {},
     "output_type": "execute_result"
    }
   ],
   "source": [
    "let take n sez =\n",
    "  let rec take_pomozna n sez nov =\n",
    "    match sez, n with\n",
    "      | [], _ -> List.rev nov\n",
    "      | _, 0 -> List.rev nov\n",
    "      | x::xs, n when n >= List.length sez -> sez\n",
    "      | x::xs, _ ->  take_pomozna (n - 1) xs (x :: nov)\n",
    "  in\n",
    "  take_pomozna n sez []"
   ]
  },
  {
   "cell_type": "code",
   "execution_count": 81,
   "metadata": {
    "vscode": {
     "languageId": "ocaml"
    }
   },
   "outputs": [
    {
     "data": {
      "text/plain": [
       "val primer_1_4 : int list = [1; 2; 3]\n"
      ]
     },
     "execution_count": 81,
     "metadata": {},
     "output_type": "execute_result"
    },
    {
     "data": {
      "text/plain": [
       "val primer_1_5 : int list = [1; 2; 3; 4; 5]\n"
      ]
     },
     "execution_count": 81,
     "metadata": {},
     "output_type": "execute_result"
    }
   ],
   "source": [
    "let primer_1_4 = take 3 [1; 2; 3; 4; 5]\n",
    "let primer_1_5 = take 10 [1; 2; 3; 4; 5]"
   ]
  },
  {
   "cell_type": "code",
   "execution_count": 82,
   "metadata": {
    "vscode": {
     "languageId": "ocaml"
    }
   },
   "outputs": [
    {
     "data": {
      "text/plain": [
       "val primer_ogrevanje_4 : int list = [1; 2; 3]\n"
      ]
     },
     "execution_count": 82,
     "metadata": {},
     "output_type": "execute_result"
    }
   ],
   "source": [
    "let primer_ogrevanje_4 = take 3 [1; 2; 3; 4; 5]"
   ]
  },
  {
   "cell_type": "code",
   "execution_count": 83,
   "metadata": {
    "vscode": {
     "languageId": "ocaml"
    }
   },
   "outputs": [
    {
     "data": {
      "text/plain": [
       "val primer_ogrevanje_5 : int list = [1; 2; 3; 4; 5]\n"
      ]
     },
     "execution_count": 83,
     "metadata": {},
     "output_type": "execute_result"
    }
   ],
   "source": [
    "let primer_ogrevanje_5 = take 10 [1; 2; 3; 4; 5]"
   ]
  },
  {
   "cell_type": "markdown",
   "metadata": {
    "vscode": {
     "languageId": "ocaml"
    }
   },
   "source": [
    "### Odstranjevanje ujemajočih"
   ]
  },
  {
   "cell_type": "markdown",
   "metadata": {},
   "source": [
    "Napišite funkcijo `drop_while : ('a -> bool) -> 'a list -> 'a list`, ki z začetka seznama odstrani vse elemente, ki zadoščajo danemu predikatu. Ko najde element, ki predikatu ne zadošča, vrne preostanek seznama."
   ]
  },
  {
   "cell_type": "code",
   "execution_count": 84,
   "metadata": {
    "vscode": {
     "languageId": "ocaml"
    }
   },
   "outputs": [
    {
     "data": {
      "text/plain": [
       "val drop_while : ('a -> bool) -> 'a list -> 'a list = <fun>\n"
      ]
     },
     "execution_count": 84,
     "metadata": {},
     "output_type": "execute_result"
    }
   ],
   "source": [
    "let rec drop_while f sez =\n",
    "    match sez with\n",
    "        | [] -> []\n",
    "        | x::xs -> if f x then drop_while f xs else sez"
   ]
  },
  {
   "cell_type": "code",
   "execution_count": 85,
   "metadata": {
    "vscode": {
     "languageId": "ocaml"
    }
   },
   "outputs": [
    {
     "data": {
      "text/plain": [
       "val primer_1_6 : int list = [5; 9; 2; 6; 5; 3; 5]\n"
      ]
     },
     "execution_count": 85,
     "metadata": {},
     "output_type": "execute_result"
    },
    {
     "data": {
      "text/plain": [
       "val primer_1_7 : int list = [9; 8; 7; 6; 5; 4; 3; 2; 1; 0]\n"
      ]
     },
     "execution_count": 85,
     "metadata": {},
     "output_type": "execute_result"
    }
   ],
   "source": [
    "let primer_1_6 = drop_while (fun x -> x < 5) [3; 1; 4; 1; 5; 9; 2; 6; 5; 3; 5]\n",
    "let primer_1_7 = drop_while (fun x -> x < 5) [9; 8; 7; 6; 5; 4; 3; 2; 1; 0]"
   ]
  },
  {
   "cell_type": "code",
   "execution_count": 86,
   "metadata": {
    "vscode": {
     "languageId": "ocaml"
    }
   },
   "outputs": [
    {
     "data": {
      "text/plain": [
       "val primer_ogrevanje_6 : int list = [5; 9; 2; 6; 5; 3; 5]\n"
      ]
     },
     "execution_count": 86,
     "metadata": {},
     "output_type": "execute_result"
    }
   ],
   "source": [
    "let primer_ogrevanje_6 = drop_while (fun x -> x < 5) [3; 1; 4; 1; 5; 9; 2; 6; 5; 3; 5]"
   ]
  },
  {
   "cell_type": "code",
   "execution_count": 87,
   "metadata": {
    "vscode": {
     "languageId": "ocaml"
    }
   },
   "outputs": [
    {
     "data": {
      "text/plain": [
       "val primer_ogrevanje_7 : int list = [9; 8; 7; 6; 5; 4; 3; 2; 1; 0]\n"
      ]
     },
     "execution_count": 87,
     "metadata": {},
     "output_type": "execute_result"
    }
   ],
   "source": [
    "let primer_ogrevanje_7 = drop_while (fun x -> x < 5) [9; 8; 7; 6; 5; 4; 3; 2; 1; 0]"
   ]
  },
  {
   "cell_type": "markdown",
   "metadata": {},
   "source": [
    "### Funkcija `filter_mapi`"
   ]
  },
  {
   "cell_type": "markdown",
   "metadata": {},
   "source": [
    "Napišite funkcijo `filter_mapi : (int -> 'a -> 'b option) -> 'a list -> 'b list`, ki deluje tako kot `List.filter_map`, le da funkcija poleg elemenov dobi še njihove indekse."
   ]
  },
  {
   "cell_type": "code",
   "execution_count": 88,
   "metadata": {
    "vscode": {
     "languageId": "ocaml"
    }
   },
   "outputs": [
    {
     "data": {
      "text/plain": [
       "val filter_mapi : (int -> 'a -> 'b option) -> 'a list -> 'b list = <fun>\n"
      ]
     },
     "execution_count": 88,
     "metadata": {},
     "output_type": "execute_result"
    }
   ],
   "source": [
    "let filter_mapi f sez =\n",
    "  let rec filter_mapi_pomozna f sez i nov =\n",
    "    match sez with\n",
    "      | [] -> List.rev nov\n",
    "      | x::xs -> \n",
    "        match f i x with \n",
    "        | Some rezultat -> filter_mapi_pomozna f xs (i + 1) (rezultat :: nov) \n",
    "        | None -> filter_mapi_pomozna f xs (i + 1) nov\n",
    "  in\n",
    "  filter_mapi_pomozna f sez 0 []\n"
   ]
  },
  {
   "cell_type": "code",
   "execution_count": 89,
   "metadata": {
    "vscode": {
     "languageId": "ocaml"
    }
   },
   "outputs": [
    {
     "data": {
      "text/plain": [
       "val primer_1_8 : int list = [1; 9; 25; 49; 81]\n"
      ]
     },
     "execution_count": 89,
     "metadata": {},
     "output_type": "execute_result"
    }
   ],
   "source": [
    "let primer_1_8 =\n",
    "  filter_mapi\n",
    "    (fun i x -> if i mod 2 = 0 then Some (x * x) else None)\n",
    "    [1; 2; 3; 4; 5; 6; 7; 8; 9]\n",
    "    "
   ]
  },
  {
   "cell_type": "code",
   "execution_count": 90,
   "metadata": {
    "vscode": {
     "languageId": "ocaml"
    }
   },
   "outputs": [
    {
     "data": {
      "text/plain": [
       "val primer_ogrevanje_8 : int list = [1; 9; 25; 49; 81]\n"
      ]
     },
     "execution_count": 90,
     "metadata": {},
     "output_type": "execute_result"
    }
   ],
   "source": [
    "let primer_ogrevanje_8 =\n",
    "  filter_mapi\n",
    "    (fun i x -> if i mod 2 = 0 then Some (x * x) else None)\n",
    "    [1; 2; 3; 4; 5; 6; 7; 8; 9]"
   ]
  },
  {
   "cell_type": "markdown",
   "metadata": {},
   "source": [
    "## Izomorfizmi množic"
   ]
  },
  {
   "cell_type": "markdown",
   "metadata": {},
   "source": [
    "Na predavanjih smo videli, da funkciji `curry : ('a * 'b -> 'c) -> ('a -> ('b -> 'c))` in `uncurry : ('a -> ('b -> 'c)) -> ('a * 'b -> 'c)` predstavljata izomorfizem množic $C^{A \\times B} \\cong (C^B)^A$, če kartezični produkt predstavimo s produktnim, eksponent pa s funkcijskim tipom.\n",
    "\n",
    "Podobno velja tudi za ostale znane izomorfizme, če disjunktno unijo\n",
    "  $$A + B = \\{ \\mathrm{in}_1(a) \\mid a \\in A \\} \\cup \\{ \\mathrm{in}_2(b) \\mid b \\in B \\}$$\n",
    "predstavimo s tipom `('a, 'b) sum`, definiranim z:"
   ]
  },
  {
   "cell_type": "code",
   "execution_count": 91,
   "metadata": {
    "vscode": {
     "languageId": "ocaml"
    }
   },
   "outputs": [
    {
     "data": {
      "text/plain": [
       "type ('a, 'b) sum = In1 of 'a | In2 of 'b\n"
      ]
     },
     "execution_count": 91,
     "metadata": {},
     "output_type": "execute_result"
    }
   ],
   "source": [
    "type ('a, 'b) sum = In1 of 'a | In2 of 'b"
   ]
  },
  {
   "cell_type": "markdown",
   "metadata": {},
   "source": [
    "Napišite pare funkcij `phi1` & `psi1`, …, `phi7` & `psi7`, ki predstavljajo spodnje izomorfizme množic. Tega, da so si funkcije inverzne, ni treba dokazovati."
   ]
  },
  {
   "cell_type": "markdown",
   "metadata": {},
   "source": [
    "### $A \\times B \\cong B \\times A$"
   ]
  },
  {
   "cell_type": "code",
   "execution_count": 92,
   "metadata": {
    "vscode": {
     "languageId": "ocaml"
    }
   },
   "outputs": [
    {
     "data": {
      "text/plain": [
       "val phi1 : 'a * 'b -> 'b * 'a = <fun>\n"
      ]
     },
     "execution_count": 92,
     "metadata": {},
     "output_type": "execute_result"
    },
    {
     "data": {
      "text/plain": [
       "val psi1 : 'a * 'b -> 'b * 'a = <fun>\n"
      ]
     },
     "execution_count": 92,
     "metadata": {},
     "output_type": "execute_result"
    }
   ],
   "source": [
    "let phi1 (a, b) =\n",
    "  (b, a)\n",
    "\n",
    "let psi1 (b, a) =\n",
    "  (a, b)"
   ]
  },
  {
   "cell_type": "markdown",
   "metadata": {},
   "source": [
    "### $A + B \\cong B + A$"
   ]
  },
  {
   "cell_type": "code",
   "execution_count": 93,
   "metadata": {
    "vscode": {
     "languageId": "ocaml"
    }
   },
   "outputs": [
    {
     "data": {
      "text/plain": [
       "val phi2 : ('a, 'b) sum -> ('b, 'a) sum = <fun>\n"
      ]
     },
     "execution_count": 93,
     "metadata": {},
     "output_type": "execute_result"
    },
    {
     "data": {
      "text/plain": [
       "val psi2 : ('a, 'b) sum -> ('b, 'a) sum = <fun>\n"
      ]
     },
     "execution_count": 93,
     "metadata": {},
     "output_type": "execute_result"
    }
   ],
   "source": [
    "let phi2 =\n",
    "  function\n",
    "  | In1 a -> In2 a\n",
    "  | In2 b -> In1 b\n",
    "\n",
    "let psi2 =\n",
    "  function\n",
    "  | In1 b -> In2 b\n",
    "  | In2 a -> In1 a"
   ]
  },
  {
   "cell_type": "markdown",
   "metadata": {},
   "source": [
    "naredi en vsotni tip z \n",
    "match\n",
    "|a ->\n",
    "|b ->"
   ]
  },
  {
   "cell_type": "markdown",
   "metadata": {},
   "source": [
    "### $A \\times (B \\times C) \\cong (A \\times B) \\times C$"
   ]
  },
  {
   "cell_type": "code",
   "execution_count": 94,
   "metadata": {
    "vscode": {
     "languageId": "ocaml"
    }
   },
   "outputs": [
    {
     "data": {
      "text/plain": [
       "val phi3 : 'a * ('b * 'c) -> ('a * 'b) * 'c = <fun>\n"
      ]
     },
     "execution_count": 94,
     "metadata": {},
     "output_type": "execute_result"
    },
    {
     "data": {
      "text/plain": [
       "val psi3 : ('a * 'b) * 'c -> 'a * ('b * 'c) = <fun>\n"
      ]
     },
     "execution_count": 94,
     "metadata": {},
     "output_type": "execute_result"
    }
   ],
   "source": [
    "let phi3 (a, (b, c)) =\n",
    "  (a, b), c\n",
    "\n",
    "let psi3 ((a, b), c) =\n",
    "  a, (b, c)"
   ]
  },
  {
   "cell_type": "markdown",
   "metadata": {},
   "source": [
    "### $A + (B + C) \\cong (A + B) + C$"
   ]
  },
  {
   "cell_type": "code",
   "execution_count": 95,
   "metadata": {
    "vscode": {
     "languageId": "ocaml"
    }
   },
   "outputs": [
    {
     "data": {
      "text/plain": [
       "val phi4 : ('a, ('b, 'c) sum) sum -> (('a, 'b) sum, 'c) sum = <fun>\n"
      ]
     },
     "execution_count": 95,
     "metadata": {},
     "output_type": "execute_result"
    },
    {
     "data": {
      "text/plain": [
       "val psi4 : (('a, 'b) sum, 'c) sum -> ('a, ('b, 'c) sum) sum = <fun>\n"
      ]
     },
     "execution_count": 95,
     "metadata": {},
     "output_type": "execute_result"
    }
   ],
   "source": [
    "let phi4  =\n",
    "  function\n",
    "  | In1 a -> In1 (In1 a)\n",
    "  | In2 (In1 b) -> In1 (In2 b)\n",
    "  | In2 (In2 c) -> In2 c\n",
    "\n",
    "let psi4  =\n",
    "  function\n",
    "  | In1 (In1 a) -> In1 a\n",
    "  | In1 (In2 b) -> In2 (In1 b)\n",
    "  | In2 c -> In2 (In2 c)"
   ]
  },
  {
   "cell_type": "markdown",
   "metadata": {},
   "source": [
    "### $A \\times (B + C) \\cong (A \\times B) + (A \\times C)$"
   ]
  },
  {
   "cell_type": "code",
   "execution_count": 96,
   "metadata": {
    "vscode": {
     "languageId": "ocaml"
    }
   },
   "outputs": [
    {
     "data": {
      "text/plain": [
       "val phi5 : 'a * ('b, 'c) sum -> ('a * 'b, 'a * 'c) sum = <fun>\n"
      ]
     },
     "execution_count": 96,
     "metadata": {},
     "output_type": "execute_result"
    },
    {
     "data": {
      "text/plain": [
       "val psi5 : ('a * 'b, 'a * 'c) sum -> 'a * ('b, 'c) sum = <fun>\n"
      ]
     },
     "execution_count": 96,
     "metadata": {},
     "output_type": "execute_result"
    }
   ],
   "source": [
    "let phi5 (a, vsota) =\n",
    "  match vsota with\n",
    "  | In1 b -> In1 (a, b)\n",
    "  | In2 c -> In2 (a, c)\n",
    "\n",
    "let psi5 =\n",
    "  function\n",
    "  | In1 (a, b) -> (a, In1 b)\n",
    "  | In2 (a, c) -> (a, In2 c)\n",
    "  "
   ]
  },
  {
   "cell_type": "code",
   "execution_count": 97,
   "metadata": {
    "vscode": {
     "languageId": "ocaml"
    }
   },
   "outputs": [
    {
     "data": {
      "text/plain": [
       "type ('a, 'b) sum = In1 of 'a | In2 of 'b\n"
      ]
     },
     "execution_count": 97,
     "metadata": {},
     "output_type": "execute_result"
    }
   ],
   "source": [
    "type ('a, 'b) sum = In1 of 'a | In2 of 'b"
   ]
  },
  {
   "cell_type": "markdown",
   "metadata": {},
   "source": [
    "### $A^{B + C} \\cong A^B \\times A^C$"
   ]
  },
  {
   "cell_type": "markdown",
   "metadata": {},
   "source": [
    " $C^{A + B} \\cong C^A \\times C^B$ ta je enaka kot zgornja le zamemane cke"
   ]
  },
  {
   "cell_type": "code",
   "execution_count": 98,
   "metadata": {
    "vscode": {
     "languageId": "ocaml"
    }
   },
   "outputs": [
    {
     "data": {
      "text/plain": [
       "val phi6 : (('a, 'b) sum -> 'c) -> 'a -> 'c * ('b -> 'c) = <fun>\n"
      ]
     },
     "execution_count": 98,
     "metadata": {},
     "output_type": "execute_result"
    },
    {
     "data": {
      "text/plain": [
       "val psi6 : ('a -> 'b) * ('c -> 'b) -> ('a, 'c) sum -> 'b = <fun>\n"
      ]
     },
     "execution_count": 98,
     "metadata": {},
     "output_type": "execute_result"
    }
   ],
   "source": [
    "let phi6 f = (fun b -> f (In1 b), fun c -> f (In2 c))\n",
    "\n",
    "let psi6 (f, g) vsota_b_in_c = \n",
    "  match vsota_b_in_c with\n",
    "  | In1 a -> f a \n",
    "  | In2 b -> g b"
   ]
  },
  {
   "cell_type": "markdown",
   "metadata": {
    "vscode": {
     "languageId": "ocaml"
    }
   },
   "source": [
    "let psi6 (f, g) = (fun bpc -> failwith \"\") je enako kot \n",
    "let psi6 (f, g) bpc = failwith \"\" \n",
    "razlika med njima je le hitrost izvajanja"
   ]
  },
  {
   "cell_type": "markdown",
   "metadata": {},
   "source": [
    "mimgrede : funkcija failwith je oblike string -> 'a. to je zelo koristno ker podas niz, amapk deluje za vse ostale oblike. "
   ]
  },
  {
   "cell_type": "markdown",
   "metadata": {},
   "source": [
    "### $(A \\times B)^C \\cong A^C \\times B^C$"
   ]
  },
  {
   "cell_type": "code",
   "execution_count": 135,
   "metadata": {
    "vscode": {
     "languageId": "ocaml"
    }
   },
   "outputs": [
    {
     "data": {
      "text/plain": [
       "val phi7 : ('a -> 'b * 'c) -> ('a -> 'b) * ('a -> 'c) = <fun>\n"
      ]
     },
     "execution_count": 135,
     "metadata": {},
     "output_type": "execute_result"
    },
    {
     "data": {
      "text/plain": [
       "val psi7 : ('a -> 'b) * ('a -> 'c) -> 'a -> 'b * 'c = <fun>\n"
      ]
     },
     "execution_count": 135,
     "metadata": {},
     "output_type": "execute_result"
    }
   ],
   "source": [
    "let phi7 f = ((fun c -> fst (f c)), (fun c-> snd (f c)))\n",
    "let psi7 (f, g) = fun a -> (f a, g a)\n"
   ]
  },
  {
   "cell_type": "markdown",
   "metadata": {},
   "source": [
    "ce zelimo:\n",
    "f: (a, b) -> c\n",
    "g: (a -> b) -> c"
   ]
  },
  {
   "cell_type": "code",
   "execution_count": null,
   "metadata": {
    "vscode": {
     "languageId": "ocaml"
    }
   },
   "outputs": [
    {
     "data": {
      "text/plain": [
       "val curry : ('a * 'b -> 'c) -> 'a -> 'b -> 'c = <fun>\n"
      ]
     },
     "execution_count": 36,
     "metadata": {},
     "output_type": "execute_result"
    },
    {
     "data": {
      "text/plain": [
       "val uncurry : ('a -> 'b -> 'c) -> 'a * 'b -> 'c = <fun>\n"
      ]
     },
     "execution_count": 36,
     "metadata": {},
     "output_type": "execute_result"
    }
   ],
   "source": [
    "let curry f = fun x y -> f (x, y)\n",
    "let uncurry f = fun (x, y) -> f x y"
   ]
  },
  {
   "cell_type": "markdown",
   "metadata": {},
   "source": [
    "## Polinomi"
   ]
  },
  {
   "cell_type": "markdown",
   "metadata": {},
   "source": [
    "Polinome $a_0 + a_1 x + \\cdots + a_n x^n$ predstavimo s seznami celoštevilskih koeficientov od prostega do vodilnega člena. Na primer, polinom $1 - 2 x + 3 x^2$ predstavimo s seznamom `[1; -2; 3]`."
   ]
  },
  {
   "cell_type": "code",
   "execution_count": null,
   "metadata": {
    "vscode": {
     "languageId": "ocaml"
    }
   },
   "outputs": [
    {
     "data": {
      "text/plain": [
       "type polinom = int list\n"
      ]
     },
     "execution_count": 5,
     "metadata": {},
     "output_type": "execute_result"
    }
   ],
   "source": [
    "type polinom = int list"
   ]
  },
  {
   "cell_type": "markdown",
   "metadata": {},
   "source": [
    "### Odstranjevanje odvečnih ničel"
   ]
  },
  {
   "cell_type": "markdown",
   "metadata": {},
   "source": [
    "Napišite funkcijo `pocisti : polinom -> polinom`, ki s konca seznama koeficientov odstrani odvečne ničle."
   ]
  },
  {
   "cell_type": "code",
   "execution_count": null,
   "metadata": {
    "vscode": {
     "languageId": "ocaml"
    }
   },
   "outputs": [
    {
     "data": {
      "text/plain": [
       "val pocisti : polinom -> polinom = <fun>\n"
      ]
     },
     "execution_count": 7,
     "metadata": {},
     "output_type": "execute_result"
    }
   ],
   "source": [
    "let rec pocisti sez : polinom = \n",
    "  match List.rev sez with\n",
    "    |[] -> sez\n",
    "    |x::xs -> if x = 0 then pocisti (List.rev xs) else sez\n"
   ]
  },
  {
   "cell_type": "code",
   "execution_count": null,
   "metadata": {
    "vscode": {
     "languageId": "ocaml"
    }
   },
   "outputs": [
    {
     "data": {
      "text/plain": [
       "val primer_3_1 : polinom = [1; -2; 3]\n"
      ]
     },
     "execution_count": 13,
     "metadata": {},
     "output_type": "execute_result"
    },
    {
     "data": {
      "text/plain": [
       "val primer_3_2 : polinom = [1; 3; 5; 0; 2; 2]\n"
      ]
     },
     "execution_count": 13,
     "metadata": {},
     "output_type": "execute_result"
    },
    {
     "data": {
      "text/plain": [
       "val primer_3_33 : polinom = [1; 2; 3]\n"
      ]
     },
     "execution_count": 13,
     "metadata": {},
     "output_type": "execute_result"
    },
    {
     "data": {
      "text/plain": [
       "val primer_3_34 : polinom = []\n"
      ]
     },
     "execution_count": 13,
     "metadata": {},
     "output_type": "execute_result"
    }
   ],
   "source": [
    "let primer_3_1 = pocisti [1; -2; 3; 0; 0]\n",
    "let primer_3_2 = pocisti [1; 3; 5; 0; 2; 2; 0]\n",
    "let primer_3_33 = pocisti [1; 2; 3]\n",
    "let primer_3_34 = pocisti [0; 0]"
   ]
  },
  {
   "cell_type": "code",
   "execution_count": null,
   "metadata": {
    "vscode": {
     "languageId": "ocaml"
    }
   },
   "outputs": [
    {
     "data": {
      "text/plain": [
       "val primer_polinomi_1 : int list = [1; -2; 3]\n"
      ]
     },
     "execution_count": 54,
     "metadata": {},
     "output_type": "execute_result"
    },
    {
     "data": {
      "text/plain": [
       "val primer_3_1 : int list = [1; -2; 3]\n"
      ]
     },
     "execution_count": 54,
     "metadata": {},
     "output_type": "execute_result"
    },
    {
     "data": {
      "text/plain": [
       "val primer_3_2 : int list = [1; 3; 5; 0; 2; 2]\n"
      ]
     },
     "execution_count": 54,
     "metadata": {},
     "output_type": "execute_result"
    }
   ],
   "source": [
    "let primer_polinomi_1 = pocisti [1; -2; 3; 0; 0]\n",
    "let primer_3_1 = pocisti [1; -2; 3; 0; 0]\n",
    "let primer_3_2 = pocisti [1; 3; 5; 0; 2; 2; 0]"
   ]
  },
  {
   "cell_type": "markdown",
   "metadata": {},
   "source": [
    "### Seštevanje"
   ]
  },
  {
   "cell_type": "markdown",
   "metadata": {},
   "source": [
    "Napišite funkcijo `( +++ ) : polinom -> polinom -> polinom`, ki sešteje dva polinoma."
   ]
  },
  {
   "cell_type": "code",
   "execution_count": null,
   "metadata": {
    "vscode": {
     "languageId": "ocaml"
    }
   },
   "outputs": [
    {
     "data": {
      "text/plain": [
       "val ( +++ ) : polinom -> polinom -> polinom = <fun>\n"
      ]
     },
     "execution_count": 8,
     "metadata": {},
     "output_type": "execute_result"
    }
   ],
   "source": [
    "let rec ( +++ ) polinom1 polinom2 : polinom =\n",
    "  match polinom1, polinom2 with\n",
    "  | [], [] -> []\n",
    "  | [], _ -> pocisti polinom2\n",
    "  | _, [] -> pocisti polinom1\n",
    "  | x::xs, y::ys -> (x + y) :: pocisti (xs +++ ys)"
   ]
  },
  {
   "cell_type": "code",
   "execution_count": null,
   "metadata": {
    "vscode": {
     "languageId": "ocaml"
    }
   },
   "outputs": [
    {
     "data": {
      "text/plain": [
       "val primer_3_2 : int list = [2; 0; 3]\n"
      ]
     },
     "execution_count": 21,
     "metadata": {},
     "output_type": "execute_result"
    },
    {
     "data": {
      "text/plain": [
       "val primer_3_3 : int list = [2]\n"
      ]
     },
     "execution_count": 21,
     "metadata": {},
     "output_type": "execute_result"
    }
   ],
   "source": [
    "let primer_3_2 = [1; -2; 3] +++ [1; 2]\n",
    "let primer_3_3 = [1; -2; 3] +++ [1; 2; -3]"
   ]
  },
  {
   "cell_type": "code",
   "execution_count": null,
   "metadata": {
    "vscode": {
     "languageId": "ocaml"
    }
   },
   "outputs": [
    {
     "data": {
      "text/plain": [
       "val primer_polinomi_2 : int list = [2; 0; 3]\n"
      ]
     },
     "execution_count": 25,
     "metadata": {},
     "output_type": "execute_result"
    }
   ],
   "source": [
    "let primer_polinomi_2 = [1; -2; 3] +++ [1; 2]"
   ]
  },
  {
   "cell_type": "code",
   "execution_count": null,
   "metadata": {
    "vscode": {
     "languageId": "ocaml"
    }
   },
   "outputs": [
    {
     "data": {
      "text/plain": [
       "val primer_polinomi_3 : int list = [2]\n"
      ]
     },
     "execution_count": 26,
     "metadata": {},
     "output_type": "execute_result"
    }
   ],
   "source": [
    "let primer_polinomi_3 = [1; -2; 3] +++ [1; 2; -3]"
   ]
  },
  {
   "cell_type": "markdown",
   "metadata": {},
   "source": [
    "### Množenje"
   ]
  },
  {
   "cell_type": "markdown",
   "metadata": {},
   "source": [
    "Napišite funkcijo `( *** ) : polinom -> polinom -> polinom`, ki zmnoži dva polinoma."
   ]
  },
  {
   "cell_type": "code",
   "execution_count": null,
   "metadata": {
    "vscode": {
     "languageId": "ocaml"
    }
   },
   "outputs": [
    {
     "data": {
      "text/plain": [
       "val ( *** ) : polinom -> polinom -> polinom = <fun>\n"
      ]
     },
     "execution_count": 10,
     "metadata": {},
     "output_type": "execute_result"
    }
   ],
   "source": [
    "let rec ( *** ) (polinom1: polinom) (polinom2: polinom) : polinom = \n",
    "  match polinom1, polinom2 with\n",
    "  | [], [] -> []\n",
    "  | _, [] -> []\n",
    "  | [], _ -> []\n",
    "  | x::xs, y::ys-> (x * y) :: (([x] *** ys ) +++ (xs *** polinom2))\n"
   ]
  },
  {
   "cell_type": "code",
   "execution_count": null,
   "metadata": {
    "vscode": {
     "languageId": "ocaml"
    }
   },
   "outputs": [
    {
     "data": {
      "text/plain": [
       "val primer_3_4 : int list = [1; 3; 3; 1]\n"
      ]
     },
     "execution_count": 55,
     "metadata": {},
     "output_type": "execute_result"
    },
    {
     "data": {
      "text/plain": [
       "val primer_3_5 : int list = [1; 0; -1]\n"
      ]
     },
     "execution_count": 55,
     "metadata": {},
     "output_type": "execute_result"
    }
   ],
   "source": [
    "let primer_3_4 = [1; 1] *** [1; 1] *** [1; 1]\n",
    "let primer_3_5 = [1; 1] *** [1; -1]"
   ]
  },
  {
   "cell_type": "code",
   "execution_count": null,
   "metadata": {
    "vscode": {
     "languageId": "ocaml"
    }
   },
   "outputs": [
    {
     "data": {
      "text/plain": [
       "val primer_polinomi_4 : int list = [1; 3; 3; 1]\n"
      ]
     },
     "execution_count": 28,
     "metadata": {},
     "output_type": "execute_result"
    }
   ],
   "source": [
    "let primer_polinomi_4 = [1; 1] *** [1; 1] *** [1; 1]"
   ]
  },
  {
   "cell_type": "code",
   "execution_count": null,
   "metadata": {
    "vscode": {
     "languageId": "ocaml"
    }
   },
   "outputs": [
    {
     "data": {
      "text/plain": [
       "val primer_polinomi_5 : int list = [1; 0; -1]\n"
      ]
     },
     "execution_count": 29,
     "metadata": {},
     "output_type": "execute_result"
    }
   ],
   "source": [
    "let primer_polinomi_5 = [1; 1] *** [1; -1]"
   ]
  },
  {
   "cell_type": "markdown",
   "metadata": {},
   "source": [
    "### Izračun vrednosti v točki"
   ]
  },
  {
   "cell_type": "markdown",
   "metadata": {},
   "source": [
    "Napišite funkcijo `vrednost : polinom -> int -> int`, ki izračuna vrednost polinoma v danem argumentu."
   ]
  },
  {
   "cell_type": "code",
   "execution_count": null,
   "metadata": {
    "vscode": {
     "languageId": "ocaml"
    }
   },
   "outputs": [
    {
     "data": {
      "text/plain": [
       "val vrednost : polinom -> int -> int = <fun>\n"
      ]
     },
     "execution_count": 18,
     "metadata": {},
     "output_type": "execute_result"
    }
   ],
   "source": [
    "let vrednost (polinom: polinom) tocka =\n",
    "  let rec vrednost_pomozna polinom tocka indeks =\n",
    "    let rec potenca st pot =\n",
    "      match pot with\n",
    "      | 0 -> 1\n",
    "      | _ -> st * potenca st (pot - 1)\n",
    "    in \n",
    "    match polinom with\n",
    "    | [] -> 0\n",
    "    | x :: xs -> (x * potenca tocka indeks) + vrednost_pomozna xs tocka (indeks + 1)\n",
    "in\n",
    "vrednost_pomozna polinom tocka 0\n"
   ]
  },
  {
   "cell_type": "code",
   "execution_count": null,
   "metadata": {
    "vscode": {
     "languageId": "ocaml"
    }
   },
   "outputs": [
    {
     "data": {
      "text/plain": [
       "val primer_3_6 : int = 9\n"
      ]
     },
     "execution_count": 17,
     "metadata": {},
     "output_type": "execute_result"
    },
    {
     "data": {
      "text/plain": [
       "val primer_3_61 : int = 0\n"
      ]
     },
     "execution_count": 17,
     "metadata": {},
     "output_type": "execute_result"
    },
    {
     "data": {
      "text/plain": [
       "val primer_3_62 : int = 1\n"
      ]
     },
     "execution_count": 17,
     "metadata": {},
     "output_type": "execute_result"
    }
   ],
   "source": [
    "let primer_3_6 = vrednost [1; -2; 3] 2\n",
    "let primer_3_61 = vrednost [] 3\n",
    "let primer_3_62 = vrednost [1] 3"
   ]
  },
  {
   "cell_type": "code",
   "execution_count": null,
   "metadata": {
    "vscode": {
     "languageId": "ocaml"
    }
   },
   "outputs": [
    {
     "data": {
      "text/plain": [
       "val primer_polinomi_6 : int = 9\n"
      ]
     },
     "execution_count": 31,
     "metadata": {},
     "output_type": "execute_result"
    }
   ],
   "source": [
    "let primer_polinomi_6 = vrednost [1; -2; 3] 2"
   ]
  },
  {
   "cell_type": "markdown",
   "metadata": {},
   "source": [
    "### Odvajanje"
   ]
  },
  {
   "cell_type": "markdown",
   "metadata": {},
   "source": [
    "Napišite funkcijo `odvod : polinom -> polinom`, ki izračuna odvod polinoma."
   ]
  },
  {
   "cell_type": "code",
   "execution_count": null,
   "metadata": {
    "vscode": {
     "languageId": "ocaml"
    }
   },
   "outputs": [
    {
     "data": {
      "text/plain": [
       "val odvod : polinom -> polinom = <fun>\n"
      ]
     },
     "execution_count": 20,
     "metadata": {},
     "output_type": "execute_result"
    }
   ],
   "source": [
    "let odvod (polinom: polinom) : polinom  =\n",
    "  let rec odvod_pomozna polinom indeks = \n",
    "    match polinom, indeks with\n",
    "    | [], _ -> []\n",
    "    | x::xs, 0 -> odvod_pomozna xs (indeks + 1)\n",
    "    | x::xs, _ -> (x * indeks) :: odvod_pomozna xs (indeks + 1)\n",
    "  in\n",
    "  odvod_pomozna polinom 0"
   ]
  },
  {
   "cell_type": "code",
   "execution_count": null,
   "metadata": {
    "vscode": {
     "languageId": "ocaml"
    }
   },
   "outputs": [
    {
     "data": {
      "text/plain": [
       "val primer_3_7 : polinom = [-2; 6]\n"
      ]
     },
     "execution_count": 26,
     "metadata": {},
     "output_type": "execute_result"
    },
    {
     "data": {
      "text/plain": [
       "val primer_3_71 : polinom = [3; -8; 0; 20]\n"
      ]
     },
     "execution_count": 26,
     "metadata": {},
     "output_type": "execute_result"
    },
    {
     "data": {
      "text/plain": [
       "val primer_3_72 : polinom = [0; 4]\n"
      ]
     },
     "execution_count": 26,
     "metadata": {},
     "output_type": "execute_result"
    }
   ],
   "source": [
    "let primer_3_7 = odvod [1; -2; 3]\n",
    "let primer_3_71 = odvod [2; 3; -4; 0; 5]\n",
    "let primer_3_72 = odvod [0; 0; 2]"
   ]
  },
  {
   "cell_type": "code",
   "execution_count": null,
   "metadata": {
    "vscode": {
     "languageId": "ocaml"
    }
   },
   "outputs": [
    {
     "data": {
      "text/plain": [
       "val primer_polinomi_7 : int list = [-2; 6]\n"
      ]
     },
     "execution_count": 33,
     "metadata": {},
     "output_type": "execute_result"
    }
   ],
   "source": [
    "let primer_polinomi_7 = odvod [1; -2; 3]"
   ]
  },
  {
   "cell_type": "markdown",
   "metadata": {},
   "source": [
    "### Lep izpis"
   ]
  },
  {
   "cell_type": "markdown",
   "metadata": {},
   "source": [
    "Napišite funkcijo `izpis : polinom -> string`, ki polinom lepo izpiše. Na primer, `izpis [1; -2; 3]` vrne `\"3 x^2 - 2 x + 1\"` oziroma še bolje kot `\"3 x² - 2 x + 1\"`. Pozorni bodite, da izpis začnete z vodilnim členom."
   ]
  },
  {
   "cell_type": "code",
   "execution_count": null,
   "metadata": {
    "vscode": {
     "languageId": "ocaml"
    }
   },
   "outputs": [],
   "source": []
  },
  {
   "cell_type": "code",
   "execution_count": null,
   "metadata": {
    "vscode": {
     "languageId": "ocaml"
    }
   },
   "outputs": [
    {
     "data": {
      "text/plain": [
       "val primer_polinomi_8 : string = \"x² + 2 x + 1\"\n"
      ]
     },
     "execution_count": 35,
     "metadata": {},
     "output_type": "execute_result"
    }
   ],
   "source": [
    "let primer_polinomi_8 = izpis [1; 2; 1]"
   ]
  },
  {
   "cell_type": "code",
   "execution_count": null,
   "metadata": {
    "vscode": {
     "languageId": "ocaml"
    }
   },
   "outputs": [
    {
     "data": {
      "text/plain": [
       "val primer_polinomi_9 : string =\n",
       "  \"x¹² - x¹⁰ + x⁸ - x⁶ + x⁴ - x² + 1\"\n"
      ]
     },
     "execution_count": 36,
     "metadata": {},
     "output_type": "execute_result"
    }
   ],
   "source": [
    "let primer_polinomi_9 = izpis [1; 0; -1; 0; 1; 0; -1; 0; 1; 0; -1; 0; 1]"
   ]
  },
  {
   "cell_type": "code",
   "execution_count": null,
   "metadata": {
    "vscode": {
     "languageId": "ocaml"
    }
   },
   "outputs": [
    {
     "data": {
      "text/plain": [
       "val primer_polinomi_10 : string = \"-x³ + 3 x² - 3 x\"\n"
      ]
     },
     "execution_count": 37,
     "metadata": {},
     "output_type": "execute_result"
    }
   ],
   "source": [
    "let primer_polinomi_10 = izpis [0; -3; 3; -1]"
   ]
  },
  {
   "cell_type": "markdown",
   "metadata": {},
   "source": [
    "## Samodejno odvajanje"
   ]
  },
  {
   "cell_type": "markdown",
   "metadata": {},
   "source": [
    "Ob razmahu strojnega učenja, ki optimalno rešitev išče s pomočjo gradientnega spusta, si želimo čim bolj enostavno računati odvode. Odvod funkcije $f$ v točki $x_0$ lahko seveda ocenimo tako, da v\n",
    "\n",
    "$$\\frac{f (x_0 + h) - f(x_0)}{h}$$\n",
    "\n",
    "vstavimo dovolj majhno število $h$."
   ]
  },
  {
   "cell_type": "code",
   "execution_count": null,
   "metadata": {
    "vscode": {
     "languageId": "ocaml"
    }
   },
   "outputs": [
    {
     "data": {
      "text/plain": [
       "val priblizek_odvoda : (float -> float) -> float -> float -> float = <fun>\n"
      ]
     },
     "execution_count": 41,
     "metadata": {},
     "output_type": "execute_result"
    }
   ],
   "source": [
    "let priblizek_odvoda f x0 h =\n",
    "  (f (x0 +. h) -. f x0) /. h"
   ]
  },
  {
   "cell_type": "code",
   "execution_count": null,
   "metadata": {
    "vscode": {
     "languageId": "ocaml"
    }
   },
   "outputs": [
    {
     "data": {
      "text/plain": [
       "val primer_odvajanje_1 : float list =\n",
       "  [2.48914386298364931; 2.42384618742050861; 2.41778190719976749;\n",
       "   2.41717997997881184; 2.41711983210990411]\n"
      ]
     },
     "execution_count": 42,
     "metadata": {},
     "output_type": "execute_result"
    }
   ],
   "source": [
    "let primer_odvajanje_1 =\n",
    "  let f x = sin x +. cos x +. exp x in\n",
    "  List.map (priblizek_odvoda f 1.) [0.1; 0.01; 0.001; 0.0001; 0.00001]"
   ]
  },
  {
   "cell_type": "markdown",
   "metadata": {
    "vscode": {
     "languageId": "ocaml"
    }
   },
   "source": [
    "Pri samodejnem odvajanju izkoristimo to, da poznamo odvode elementarnih funkcij, odvode sestavljenih funkcij pa lahko izračunamo iz posameznih odvodov. Tako bomo vsako funkcijo predstavili s parom: prvotno funkcijo in njenim odvodom."
   ]
  },
  {
   "cell_type": "code",
   "execution_count": null,
   "metadata": {
    "vscode": {
     "languageId": "ocaml"
    }
   },
   "outputs": [
    {
     "data": {
      "text/plain": [
       "type odvedljiva = (float -> float) * (float -> float)\n"
      ]
     },
     "execution_count": 43,
     "metadata": {},
     "output_type": "execute_result"
    }
   ],
   "source": [
    "type odvedljiva = (float -> float) * (float -> float)"
   ]
  },
  {
   "cell_type": "code",
   "execution_count": null,
   "metadata": {
    "vscode": {
     "languageId": "ocaml"
    }
   },
   "outputs": [
    {
     "data": {
      "text/plain": [
       "val sinus : odvedljiva = (<fun>, <fun>)\n"
      ]
     },
     "execution_count": 44,
     "metadata": {},
     "output_type": "execute_result"
    },
    {
     "data": {
      "text/plain": [
       "val kosinus : odvedljiva = (<fun>, <fun>)\n"
      ]
     },
     "execution_count": 44,
     "metadata": {},
     "output_type": "execute_result"
    },
    {
     "data": {
      "text/plain": [
       "val eksp : odvedljiva = (<fun>, <fun>)\n"
      ]
     },
     "execution_count": 44,
     "metadata": {},
     "output_type": "execute_result"
    },
    {
     "data": {
      "text/plain": [
       "val ( ++. ) : odvedljiva -> odvedljiva -> odvedljiva = <fun>\n"
      ]
     },
     "execution_count": 44,
     "metadata": {},
     "output_type": "execute_result"
    }
   ],
   "source": [
    "let sinus : odvedljiva = (sin, cos)\n",
    "let kosinus : odvedljiva = (cos, (fun x -> -. sin x))\n",
    "let eksp : odvedljiva = (exp, exp)\n",
    "let ( ++. ) : odvedljiva -> odvedljiva -> odvedljiva =\n",
    "  (* pozorni bodite, da anonimni funkciji v paru date med oklepaje *)\n",
    "  fun (f, f') (g, g') -> ((fun x -> f x +. g x), (fun x -> f' x +. g' x))"
   ]
  },
  {
   "cell_type": "code",
   "execution_count": null,
   "metadata": {
    "vscode": {
     "languageId": "ocaml"
    }
   },
   "outputs": [
    {
     "data": {
      "text/plain": [
       "val primer_odvajanje_2 : float = 2.41711314951928813\n"
      ]
     },
     "execution_count": 45,
     "metadata": {},
     "output_type": "execute_result"
    }
   ],
   "source": [
    "let primer_odvajanje_2 =\n",
    "  let (_, f') = sinus ++. kosinus ++. eksp in\n",
    "  f' 1."
   ]
  },
  {
   "cell_type": "markdown",
   "metadata": {},
   "source": [
    "### Vrednost odvoda"
   ]
  },
  {
   "cell_type": "markdown",
   "metadata": {},
   "source": [
    "Napišite funkciji `vrednost : odvedljiva -> float -> float` in `odvod : odvedljiva -> float -> float`, ki izračunata vrednost funkcije in njenega odvoda v danem argumentu."
   ]
  },
  {
   "cell_type": "code",
   "execution_count": null,
   "metadata": {
    "vscode": {
     "languageId": "ocaml"
    }
   },
   "outputs": [
    {
     "data": {
      "text/plain": [
       "val vrednost : odvedljiva -> float -> float = <fun>\n"
      ]
     },
     "execution_count": 46,
     "metadata": {},
     "output_type": "execute_result"
    },
    {
     "data": {
      "text/plain": [
       "val odvod : odvedljiva -> float -> float = <fun>\n"
      ]
     },
     "execution_count": 46,
     "metadata": {},
     "output_type": "execute_result"
    }
   ],
   "source": [
    "let vrednost ((f, f') : odvedljiva) x = f x\n",
    "\n",
    "let odvod ((f, f') : odvedljiva) x = f' x"
   ]
  },
  {
   "cell_type": "markdown",
   "metadata": {},
   "source": [
    "### Osnovne funkcije"
   ]
  },
  {
   "cell_type": "markdown",
   "metadata": {},
   "source": [
    "Napišite funkciji `konstanta : float -> odvedljiva` in `identiteta : odvedljiva`, ki predstavljata konstantno in identično funkcijo."
   ]
  },
  {
   "cell_type": "code",
   "execution_count": null,
   "metadata": {
    "vscode": {
     "languageId": "ocaml"
    }
   },
   "outputs": [
    {
     "data": {
      "text/plain": [
       "val konstanta : float -> odvedljiva = <fun>\n"
      ]
     },
     "execution_count": 47,
     "metadata": {},
     "output_type": "execute_result"
    },
    {
     "data": {
      "text/plain": [
       "val identiteta : odvedljiva = (<fun>, <fun>)\n"
      ]
     },
     "execution_count": 47,
     "metadata": {},
     "output_type": "execute_result"
    }
   ],
   "source": [
    "let konstanta (c : float) : odvedljiva =\n",
    "  ((fun x -> c), (fun x -> 0.0))\n",
    "\n",
    "let identiteta : odvedljiva =\n",
    "  ((fun x -> x), (fun x -> 1.))\n"
   ]
  },
  {
   "cell_type": "markdown",
   "metadata": {},
   "source": [
    "### Produkt in kvocient"
   ]
  },
  {
   "cell_type": "markdown",
   "metadata": {},
   "source": [
    "Napišite funkciji `( **. ) : odvedljiva -> odvedljiva -> odvedljiva` in `( //. ) : odvedljiva -> odvedljiva -> odvedljiva`, ki predstavljata produkt in kvocient dveh odvedljivih funkcij."
   ]
  },
  {
   "cell_type": "code",
   "execution_count": null,
   "metadata": {
    "vscode": {
     "languageId": "ocaml"
    }
   },
   "outputs": [
    {
     "data": {
      "text/plain": [
       "val ( **. ) : odvedljiva -> odvedljiva -> odvedljiva = <fun>\n"
      ]
     },
     "execution_count": 48,
     "metadata": {},
     "output_type": "execute_result"
    },
    {
     "data": {
      "text/plain": [
       "val ( //. ) : odvedljiva -> odvedljiva -> odvedljiva = <fun>\n"
      ]
     },
     "execution_count": 48,
     "metadata": {},
     "output_type": "execute_result"
    }
   ],
   "source": [
    "let ( **. ) ((f, f'): odvedljiva) ((g, g'): odvedljiva) : odvedljiva = \n",
    "  ((fun x -> f x *. g x), (fun x -> f' x *. g x +. f x *. g' x))\n",
    "\n",
    "let ( //. ) ((f, f'): odvedljiva) ((g, g'): odvedljiva) : odvedljiva = \n",
    "  ((fun x -> f x /. g x), (fun x -> (f' x *. g x -. f x *. g' x) /. (g x *. g x)))"
   ]
  },
  {
   "cell_type": "code",
   "execution_count": null,
   "metadata": {
    "vscode": {
     "languageId": "ocaml"
    }
   },
   "outputs": [
    {
     "data": {
      "text/plain": [
       "val kvadrat : odvedljiva = (<fun>, <fun>)\n"
      ]
     },
     "execution_count": 37,
     "metadata": {},
     "output_type": "execute_result"
    }
   ],
   "source": [
    "let kvadrat = identiteta **. identiteta"
   ]
  },
  {
   "cell_type": "markdown",
   "metadata": {},
   "source": [
    "### Kompozitum"
   ]
  },
  {
   "cell_type": "markdown",
   "metadata": {
    "vscode": {
     "languageId": "ocaml"
    }
   },
   "source": [
    "Napišite funkcijo `( @@. ) : odvedljiva -> odvedljiva -> odvedljiva`, ki predstavlja kompozitum dveh odvedljivih funkcij."
   ]
  },
  {
   "cell_type": "code",
   "execution_count": null,
   "metadata": {
    "vscode": {
     "languageId": "ocaml"
    }
   },
   "outputs": [
    {
     "data": {
      "text/plain": [
       "val ( @@. ) : odvedljiva -> odvedljiva -> odvedljiva = <fun>\n"
      ]
     },
     "execution_count": 49,
     "metadata": {},
     "output_type": "execute_result"
    }
   ],
   "source": [
    "let ( @@. ) ((f, f'): odvedljiva) ((g, g'): odvedljiva) : odvedljiva = \n",
    "  ((fun x -> f (g x)), (fun x -> f' (g x) *. g' x))"
   ]
  },
  {
   "cell_type": "code",
   "execution_count": null,
   "metadata": {
    "vscode": {
     "languageId": "ocaml"
    }
   },
   "outputs": [
    {
     "data": {
      "text/plain": [
       "val vedno_ena : odvedljiva = (<fun>, <fun>)\n"
      ]
     },
     "execution_count": 51,
     "metadata": {},
     "output_type": "execute_result"
    },
    {
     "data": {
      "text/plain": [
       "val primer_odvajanje_3 : float = 0.999999999999999889\n"
      ]
     },
     "execution_count": 51,
     "metadata": {},
     "output_type": "execute_result"
    },
    {
     "data": {
      "text/plain": [
       "val primer_odvajanje_4 : float = 0.\n"
      ]
     },
     "execution_count": 51,
     "metadata": {},
     "output_type": "execute_result"
    }
   ],
   "source": [
    "let vedno_ena = (kvadrat @@. sinus) ++. (kvadrat @@. kosinus)\n",
    "let primer_odvajanje_3 = vrednost vedno_ena 12345.\n",
    "let primer_odvajanje_4 = odvod vedno_ena 12345."
   ]
  },
  {
   "cell_type": "code",
   "execution_count": null,
   "metadata": {
    "vscode": {
     "languageId": "ocaml"
    }
   },
   "outputs": [
    {
     "data": {
      "text/plain": [
       "val vedno_ena : odvedljiva = (<fun>, <fun>)\n"
      ]
     },
     "execution_count": 48,
     "metadata": {},
     "output_type": "execute_result"
    }
   ],
   "source": [
    "let vedno_ena = (kvadrat @@. sinus) ++. (kvadrat @@. kosinus)"
   ]
  },
  {
   "cell_type": "code",
   "execution_count": null,
   "metadata": {
    "vscode": {
     "languageId": "ocaml"
    }
   },
   "outputs": [
    {
     "data": {
      "text/plain": [
       "val primer_odvajanje_3 : float = 0.999999999999999889\n"
      ]
     },
     "execution_count": 49,
     "metadata": {},
     "output_type": "execute_result"
    }
   ],
   "source": [
    "let primer_odvajanje_3 = vrednost vedno_ena 12345."
   ]
  },
  {
   "cell_type": "code",
   "execution_count": null,
   "metadata": {
    "vscode": {
     "languageId": "ocaml"
    }
   },
   "outputs": [
    {
     "data": {
      "text/plain": [
       "val primer_odvajanje_4 : float = 0.\n"
      ]
     },
     "execution_count": 50,
     "metadata": {},
     "output_type": "execute_result"
    }
   ],
   "source": [
    "let primer_odvajanje_4 = odvod vedno_ena 12345."
   ]
  },
  {
   "cell_type": "markdown",
   "metadata": {},
   "source": [
    "## Substitucijska šifra"
   ]
  },
  {
   "cell_type": "markdown",
   "metadata": {},
   "source": [
    "Substitucijska šifra je preprosta šifra, pri kateri črke abecede med seboj permutiramo. Na primer, če bi (angleško) abecedo permutirali kot\n",
    "\n",
    "```\n",
    "A B C D E F G H I J K L M N O P Q R S T U V W X Y Z\n",
    "T H E Q U I C K B R W N F X J M P S O V L A Z Y D G\n",
    "```\n",
    "\n",
    "bi besedo `HELLO` šifrirali kot `KUNNJ`. Ključe, s katerimi šifriramo besedila bomo predstavili kar z nizi črk, v katere se slikajo črke abecede."
   ]
  },
  {
   "cell_type": "code",
   "execution_count": 136,
   "metadata": {
    "vscode": {
     "languageId": "ocaml"
    }
   },
   "outputs": [
    {
     "data": {
      "text/plain": [
       "val quick_brown_fox : string = \"THEQUICKBRWNFXJMPSOVLAZYDG\"\n"
      ]
     },
     "execution_count": 136,
     "metadata": {},
     "output_type": "execute_result"
    },
    {
     "data": {
      "text/plain": [
       "val rot13 : string = \"NOPQRSTUVWXYZABCDEFGHIJKLM\"\n"
      ]
     },
     "execution_count": 136,
     "metadata": {},
     "output_type": "execute_result"
    }
   ],
   "source": [
    "let quick_brown_fox = \"THEQUICKBRWNFXJMPSOVLAZYDG\"\n",
    "let rot13 = \"NOPQRSTUVWXYZABCDEFGHIJKLM\""
   ]
  },
  {
   "cell_type": "markdown",
   "metadata": {},
   "source": [
    "Včasih bomo v primerih uporabljali tudi krajše ključe, a vedno lahko predpostavite, da bodo ključi permutacije začetnega dela abecede. Prav tako si pri delu lahko pomagate s funkcijama `indeks` in `crka`:"
   ]
  },
  {
   "cell_type": "code",
   "execution_count": 137,
   "metadata": {
    "vscode": {
     "languageId": "ocaml"
    }
   },
   "outputs": [
    {
     "data": {
      "text/plain": [
       "val indeks : char -> int = <fun>\n"
      ]
     },
     "execution_count": 137,
     "metadata": {},
     "output_type": "execute_result"
    },
    {
     "data": {
      "text/plain": [
       "val crka : int -> char = <fun>\n"
      ]
     },
     "execution_count": 137,
     "metadata": {},
     "output_type": "execute_result"
    }
   ],
   "source": [
    "let indeks c = Char.code c - Char.code 'A'\n",
    "let crka i = Char.chr (i + Char.code 'A') "
   ]
  },
  {
   "cell_type": "markdown",
   "metadata": {},
   "source": [
    "### Šifriranje"
   ]
  },
  {
   "cell_type": "markdown",
   "metadata": {},
   "source": [
    "Napišite funkcijo `sifriraj : string -> string -> string`, ki besedilo šifrira z danim ključem. Vse znake, ki niso velike tiskane črke, pustimo pri miru."
   ]
  },
  {
   "cell_type": "code",
   "execution_count": 138,
   "metadata": {
    "vscode": {
     "languageId": "ocaml"
    }
   },
   "outputs": [
    {
     "data": {
      "text/plain": [
       "val sifriraj : string -> string -> string = <fun>\n"
      ]
     },
     "execution_count": 138,
     "metadata": {},
     "output_type": "execute_result"
    }
   ],
   "source": [
    "let sifriraj kljuc niz = \n",
    "  let sifriraj_crka kljuc znak =\n",
    "    if 'A' <= znak && znak <= 'Z'\n",
    "      then String.get kljuc (indeks znak)\n",
    "    else znak\n",
    "  in\n",
    "  String.map (sifriraj_crka kljuc) niz\n"
   ]
  },
  {
   "cell_type": "code",
   "execution_count": null,
   "metadata": {
    "vscode": {
     "languageId": "ocaml"
    }
   },
   "outputs": [
    {
     "data": {
      "text/plain": [
       "- : int = 13\n"
      ]
     },
     "execution_count": 74,
     "metadata": {},
     "output_type": "execute_result"
    }
   ],
   "source": [
    "String.index rot13 'A'"
   ]
  },
  {
   "cell_type": "code",
   "execution_count": null,
   "metadata": {
    "vscode": {
     "languageId": "ocaml"
    }
   },
   "outputs": [
    {
     "data": {
      "text/plain": [
       "val primer_5_1 : string = \"KUNNJ, ZJSNQ!\"\n"
      ]
     },
     "execution_count": 58,
     "metadata": {},
     "output_type": "execute_result"
    },
    {
     "data": {
      "text/plain": [
       "val primer_5_2 : string = \"IRAV, IVQV, IVPV\"\n"
      ]
     },
     "execution_count": 58,
     "metadata": {},
     "output_type": "execute_result"
    },
    {
     "data": {
      "text/plain": [
       "val primer_5_3 : string = \"VENI, VIDI, VICI\"\n"
      ]
     },
     "execution_count": 58,
     "metadata": {},
     "output_type": "execute_result"
    }
   ],
   "source": [
    "let primer_5_1 = sifriraj quick_brown_fox \"HELLO, WORLD!\"\n",
    "let primer_5_2 = \"VENI, VIDI, VICI\" |> sifriraj rot13\n",
    "let primer_5_3 = \"VENI, VIDI, VICI\" |> sifriraj rot13 |> sifriraj rot13\n"
   ]
  },
  {
   "cell_type": "code",
   "execution_count": null,
   "metadata": {
    "vscode": {
     "languageId": "ocaml"
    }
   },
   "outputs": [
    {
     "data": {
      "text/plain": [
       "val primer_sifriranje_1 : string = \"KUNNJ, ZJSNQ!\"\n"
      ]
     },
     "execution_count": 54,
     "metadata": {},
     "output_type": "execute_result"
    }
   ],
   "source": [
    "let primer_sifriranje_1 = sifriraj quick_brown_fox \"HELLO, WORLD!\""
   ]
  },
  {
   "cell_type": "code",
   "execution_count": null,
   "metadata": {
    "vscode": {
     "languageId": "ocaml"
    }
   },
   "outputs": [
    {
     "data": {
      "text/plain": [
       "val primer_sifriranje_2 : string = \"IRAV, IVQV, IVPV\"\n"
      ]
     },
     "execution_count": 55,
     "metadata": {},
     "output_type": "execute_result"
    }
   ],
   "source": [
    "let primer_sifriranje_2 = \"VENI, VIDI, VICI\" |> sifriraj rot13"
   ]
  },
  {
   "cell_type": "code",
   "execution_count": null,
   "metadata": {
    "vscode": {
     "languageId": "ocaml"
    }
   },
   "outputs": [
    {
     "data": {
      "text/plain": [
       "val primer_sifriranje_3 : string = \"VENI, VIDI, VICI\"\n"
      ]
     },
     "execution_count": 56,
     "metadata": {},
     "output_type": "execute_result"
    }
   ],
   "source": [
    "let primer_sifriranje_3 = \"VENI, VIDI, VICI\" |> sifriraj rot13 |> sifriraj rot13"
   ]
  },
  {
   "cell_type": "markdown",
   "metadata": {},
   "source": [
    "### Inverzni ključ"
   ]
  },
  {
   "cell_type": "markdown",
   "metadata": {},
   "source": [
    "Napišite funkcijo `inverz : string -> string`, ki iz ključa izračuna njegov inverz."
   ]
  },
  {
   "cell_type": "code",
   "execution_count": 139,
   "metadata": {
    "vscode": {
     "languageId": "ocaml"
    }
   },
   "outputs": [
    {
     "data": {
      "text/plain": [
       "val inverz : string -> string = <fun>\n"
      ]
     },
     "execution_count": 139,
     "metadata": {},
     "output_type": "execute_result"
    }
   ],
   "source": [
    "let inverz kljuc =\n",
    "  let po_abecedi =\n",
    "    let dolzina_abecede = String.length kljuc in\n",
    "    let rec prvi_del_abecede_dolzine_n n nov =\n",
    "      match n with\n",
    "      | -1 -> String.concat \"\" nov\n",
    "      | _ -> prvi_del_abecede_dolzine_n (n - 1) (String.make 1 (crka n) :: nov)\n",
    "    in\n",
    "    prvi_del_abecede_dolzine_n (dolzina_abecede - 1) []\n",
    "  in  \n",
    "  let inverz_crka kljuc znak =\n",
    "    crka (String.index kljuc znak)\n",
    "  in\n",
    "  String.map (inverz_crka kljuc) po_abecedi\n",
    "       "
   ]
  },
  {
   "cell_type": "code",
   "execution_count": 104,
   "metadata": {
    "vscode": {
     "languageId": "ocaml"
    }
   },
   "outputs": [
    {
     "data": {
      "text/plain": [
       "val po_abecedi : string -> string = <fun>\n"
      ]
     },
     "execution_count": 104,
     "metadata": {},
     "output_type": "execute_result"
    }
   ],
   "source": [
    "let po_abecedi kljuc =\n",
    "  let dolzina_abecede = String.length kljuc in\n",
    "  let rec pomozna n nov =\n",
    "    match n with\n",
    "    | -1 -> String.concat \"\" nov\n",
    "    | _ -> pomozna (n - 1) (String.make 1 (crka n) :: nov)\n",
    "  in\n",
    "  pomozna (dolzina_abecede - 1) []\n"
   ]
  },
  {
   "cell_type": "code",
   "execution_count": 29,
   "metadata": {
    "vscode": {
     "languageId": "ocaml"
    }
   },
   "outputs": [
    {
     "data": {
      "text/plain": [
       "- : string = \"ABCDE\"\n"
      ]
     },
     "execution_count": 29,
     "metadata": {},
     "output_type": "execute_result"
    }
   ],
   "source": [
    "po_abecedi \"CDABE\""
   ]
  },
  {
   "cell_type": "code",
   "execution_count": 113,
   "metadata": {
    "vscode": {
     "languageId": "ocaml"
    }
   },
   "outputs": [
    {
     "data": {
      "text/plain": [
       "- : string = \"BCAD\"\n"
      ]
     },
     "execution_count": 113,
     "metadata": {},
     "output_type": "execute_result"
    }
   ],
   "source": [
    "inverz \"CABD\""
   ]
  },
  {
   "cell_type": "code",
   "execution_count": 140,
   "metadata": {
    "vscode": {
     "languageId": "ocaml"
    }
   },
   "outputs": [
    {
     "data": {
      "text/plain": [
       "val quick_brown_fox : string = \"THEQUICKBRWNFXJMPSOVLAZYDG\"\n"
      ]
     },
     "execution_count": 140,
     "metadata": {},
     "output_type": "execute_result"
    },
    {
     "data": {
      "text/plain": [
       "val rot13 : string = \"NOPQRSTUVWXYZABCDEFGHIJKLM\"\n"
      ]
     },
     "execution_count": 140,
     "metadata": {},
     "output_type": "execute_result"
    },
    {
     "data": {
      "text/plain": [
       "val abeceda : string = \"ABCDEFGHIJKLMNOPQRSTUVWXYZ\"\n"
      ]
     },
     "execution_count": 140,
     "metadata": {},
     "output_type": "execute_result"
    },
    {
     "data": {
      "text/plain": [
       "val indeks : char -> int = <fun>\n"
      ]
     },
     "execution_count": 140,
     "metadata": {},
     "output_type": "execute_result"
    },
    {
     "data": {
      "text/plain": [
       "val crka : int -> char = <fun>\n"
      ]
     },
     "execution_count": 140,
     "metadata": {},
     "output_type": "execute_result"
    }
   ],
   "source": [
    "let quick_brown_fox = \"THEQUICKBRWNFXJMPSOVLAZYDG\"\n",
    "let rot13 = \"NOPQRSTUVWXYZABCDEFGHIJKLM\"\n",
    "let abeceda = \"ABCDEFGHIJKLMNOPQRSTUVWXYZ\"\n",
    "let indeks c = Char.code c - Char.code 'A'\n",
    "let crka i = Char.chr (i + Char.code 'A') "
   ]
  },
  {
   "cell_type": "code",
   "execution_count": 35,
   "metadata": {
    "vscode": {
     "languageId": "ocaml"
    }
   },
   "outputs": [
    {
     "data": {
      "text/plain": [
       "val primer_5_4 : string = \"VIGYCMZBFOHUPLSQDJRAETKNXW\"\n"
      ]
     },
     "execution_count": 35,
     "metadata": {},
     "output_type": "execute_result"
    },
    {
     "data": {
      "text/plain": [
       "val primer_5_5 : bool = true\n"
      ]
     },
     "execution_count": 35,
     "metadata": {},
     "output_type": "execute_result"
    },
    {
     "data": {
      "text/plain": [
       "val primer_sifriranje_6 : string = \"EABCD\"\n"
      ]
     },
     "execution_count": 35,
     "metadata": {},
     "output_type": "execute_result"
    },
    {
     "data": {
      "text/plain": [
       "val primer_sifriranje_5 : string = \"NOPQRSTUVWXYZABCDEFGHIJKLM\"\n"
      ]
     },
     "execution_count": 35,
     "metadata": {},
     "output_type": "execute_result"
    }
   ],
   "source": [
    "let primer_5_4 = inverz quick_brown_fox\n",
    "let primer_5_5 = inverz rot13 = rot13\n",
    "let primer_sifriranje_6 = inverz \"BCDEA\"\n",
    "let primer_sifriranje_5 = inverz rot13"
   ]
  },
  {
   "cell_type": "code",
   "execution_count": 58,
   "metadata": {
    "vscode": {
     "languageId": "ocaml"
    }
   },
   "outputs": [
    {
     "data": {
      "text/plain": [
       "val primer_sifriranje_4 : string = \"VIGYCMZBFOHUPLSQDJRAETKNXW\"\n"
      ]
     },
     "execution_count": 58,
     "metadata": {},
     "output_type": "execute_result"
    }
   ],
   "source": [
    "let primer_sifriranje_4 = inverz quick_brown_fox"
   ]
  },
  {
   "cell_type": "code",
   "execution_count": 59,
   "metadata": {
    "vscode": {
     "languageId": "ocaml"
    }
   },
   "outputs": [
    {
     "data": {
      "text/plain": [
       "val primer_sifriranje_5 : string = \"NOPQRSTUVWXYZABCDEFGHIJKLM\"\n"
      ]
     },
     "execution_count": 59,
     "metadata": {},
     "output_type": "execute_result"
    }
   ],
   "source": [
    "let primer_sifriranje_5 = inverz rot13"
   ]
  },
  {
   "cell_type": "code",
   "execution_count": 60,
   "metadata": {
    "vscode": {
     "languageId": "ocaml"
    }
   },
   "outputs": [
    {
     "data": {
      "text/plain": [
       "val primer_sifriranje_6 : string = \"EABCD\"\n"
      ]
     },
     "execution_count": 60,
     "metadata": {},
     "output_type": "execute_result"
    }
   ],
   "source": [
    "let primer_sifriranje_6 = inverz \"BCDEA\""
   ]
  },
  {
   "cell_type": "markdown",
   "metadata": {},
   "source": [
    "### Ugibanje ključa"
   ]
  },
  {
   "cell_type": "markdown",
   "metadata": {
    "vscode": {
     "languageId": "ocaml"
    }
   },
   "source": [
    "Včasih seveda ne poznamo ključa, a vemo, da je besedilo v angleščini. Tako lahko ključ poskusimo uganiti tako, da šifrirane besede paroma primerjamo z besedami iz slovarja, ki smo si ga sposodili [s spleta](https://gist.github.com/deekayen/4148741)."
   ]
  },
  {
   "cell_type": "code",
   "execution_count": 141,
   "metadata": {
    "vscode": {
     "languageId": "ocaml"
    }
   },
   "outputs": [
    {
     "data": {
      "text/plain": [
       "val besede : string =\n",
       "  \"the of to and a in is it you that he was for on are with as i his they be at one have this from or had by word but what some we can out other were all there when up use your how said an each she which do their time if will way about many then them write would like so these her long make thing see h\"... (* string length 5837; truncated *)\n"
      ]
     },
     "execution_count": 141,
     "metadata": {},
     "output_type": "execute_result"
    }
   ],
   "source": [
    "let besede = \"the of to and a in is it you that he was for on are with as i his they be at one have this from or had by word but what some we can out other were all there when up use your how said an each she which do their time if will way about many then them write would like so these her long make thing see him two has look more day could go come did number sound no most people my over know water than call first who may down side been now find any new work part take get place made live where after back little only round man year came show every good me give our under name very through just form sentence great think say help low line differ turn cause much mean before move right boy old too same tell does set three want air well also play small end put home read hand port large spell add even land here must big high such follow act why ask men change went light kind off need house picture try us again animal point mother world near build self earth father head stand own page should country found answer school grow study still learn plant cover food sun four between state keep eye never last let thought city tree cross farm hard start might story saw far sea draw left late run don't while press close night real life few north open seem together next white children begin got walk example ease paper group always music those both mark often letter until mile river car feet care second book carry took science eat room friend began idea fish mountain stop once base hear horse cut sure watch color face wood main enough plain girl usual young ready above ever red list though feel talk bird soon body dog family direct pose leave song measure door product black short numeral class wind question happen complete ship area half rock order fire south problem piece told knew pass since top whole king space heard best hour better true . during hundred five remember step early hold west ground interest reach fast verb sing listen six table travel less morning ten simple several vowel toward war lay against pattern slow center love person money serve appear road map rain rule govern pull cold notice voice unit power town fine certain fly fall lead cry dark machine note wait plan figure star box noun field rest correct able pound done beauty drive stood contain front teach week final gave green oh quick develop ocean warm free minute strong special mind behind clear tail produce fact street inch multiply nothing course stay wheel full force blue object decide surface deep moon island foot system busy test record boat common gold possible plane stead dry wonder laugh thousand ago ran check game shape equate hot miss brought heat snow tire bring yes distant fill east paint language among grand ball yet wave drop heart am present heavy dance engine position arm wide sail material size vary settle speak weight general ice matter circle pair include divide syllable felt perhaps pick sudden count square reason length represent art subject region energy hunt probable bed brother egg ride cell believe fraction forest sit race window store summer train sleep prove lone leg exercise wall catch mount wish sky board joy winter sat written wild instrument kept glass grass cow job edge sign visit past soft fun bright gas weather month million bear finish happy hope flower clothe strange gone jump baby eight village meet root buy raise solve metal whether push seven paragraph third shall held hair describe cook floor either result burn hill safe cat century consider type law bit coast copy phrase silent tall sand soil roll temperature finger industry value fight lie beat excite natural view sense ear else quite broke case middle kill son lake moment scale loud spring observe child straight consonant nation dictionary milk speed method organ pay age section dress cloud surprise quiet stone tiny climb cool design poor lot experiment bottom key iron single stick flat twenty skin smile crease hole trade melody trip office receive row mouth exact symbol die least trouble shout except wrote seed tone join suggest clean break lady yard rise bad blow oil blood touch grew cent mix team wire cost lost brown wear garden equal sent choose fell fit flow fair bank collect save control decimal gentle woman captain practice separate difficult doctor please protect noon whose locate ring character insect caught period indicate radio spoke atom human history effect electric expect crop modern element hit student corner party supply bone rail imagine provide agree thus capital won't chair danger fruit rich thick soldier process operate guess necessary sharp wing create neighbor wash bat rather crowd corn compare poem string bell depend meat rub tube famous dollar stream fear sight thin triangle planet hurry chief colony clock mine tie enter major fresh search send yellow gun allow print dead spot desert suit current lift rose continue block chart hat sell success company subtract event particular deal swim term opposite wife shoe shoulder spread arrange camp invent cotton born determine quart nine truck noise level chance gather shop stretch throw shine property column molecule select wrong gray repeat require broad prepare salt nose plural anger claim continent oxygen sugar death pretty skill women season solution magnet silver thank branch match suffix especially fig afraid huge sister steel discuss forward similar guide experience score apple bought led pitch coat mass card band rope slip win dream evening condition feed tool total basic smell valley nor double seat arrive master track parent shore division sheet substance favor connect post spend chord fat glad original share station dad bread charge proper bar offer segment slave duck instant market degree populate chick dear enemy reply drink occur support speech nature range steam motion path liquid log meant quotient teeth shell neck\""
   ]
  },
  {
   "cell_type": "markdown",
   "metadata": {},
   "source": [
    "Sestavite vrednost `slovar : string list`, ki vsebuje vse besede iz slovarja, pretvorjene v velike tiskane črke."
   ]
  },
  {
   "cell_type": "code",
   "execution_count": 142,
   "metadata": {
    "vscode": {
     "languageId": "ocaml"
    }
   },
   "outputs": [
    {
     "data": {
      "text/plain": [
       "val slovar : string list =\n",
       "  [\"THE\"; \"OF\"; \"TO\"; \"AND\"; \"A\"; \"IN\"; \"IS\"; \"IT\"; \"YOU\"; \"THAT\"; \"HE\";\n",
       "   \"WAS\"; \"FOR\"; \"ON\"; \"ARE\"; \"WITH\"; \"AS\"; \"I\"; \"HIS\"; \"THEY\"; \"BE\"; \"AT\";\n",
       "   \"ONE\"; \"HAVE\"; \"THIS\"; \"FROM\"; \"OR\"; \"HAD\"; \"BY\"; \"WORD\"; \"BUT\"; \"WHAT\";\n",
       "   \"SOME\"; \"WE\"; \"CAN\"; \"OUT\"; \"OTHER\"; \"WERE\"; \"ALL\"; \"THERE\"; \"WHEN\"; \"UP\";\n",
       "   \"USE\"; \"YOUR\"; \"HOW\"; \"SAID\"; \"AN\"; \"EACH\"; \"SHE\"; \"WHICH\"; \"DO\"; \"THEIR\";\n",
       "   \"TIME\"; \"IF\"; \"WILL\"; \"WAY\"; \"ABOUT\"; \"MANY\"; \"THEN\"; \"THEM\"; \"WRITE\";\n",
       "   \"WOULD\"; \"LIKE\"; \"SO\"; \"THESE\"; \"HER\"; \"LONG\"; \"MAKE\"; \"THING\"; \"SEE\";\n",
       "   \"HIM\"; \"TWO\"; \"HAS\"; \"LOOK\"; \"MORE\"; \"DAY\"; \"COULD\"; \"GO\"; \"COME\"; \"DID\";\n",
       "   \"NUMBER\"; \"SOUND\"; \"NO\"; \"MOST\"; \"PEOPLE\"; \"MY\"; \"OVER\"; \"KNOW\"; \"WATER\";\n",
       "   \"THAN\"; \"CALL\"; \"FIRST\"; \"WHO\"; \"MAY\"; \"DOWN\"; \"SIDE\"; \"BEEN\"; \"NOW\";\n",
       "   \"FIND\"; \"ANY\"; \"NEW\"; \"WORK\"; \"PART\"; \"TAKE\"; \"GET\"; \"PLACE\"; \"MADE\";\n",
       "   \"LIVE\"; \"WHERE\"; \"AFTER\"; \"BACK\"; \"LITTLE\"; \"ONLY\"; \"ROUND\"; \"MAN\";\n",
       "   \"YEAR\"; \"CAME\"; \"SHOW\"; \"EVERY\"; \"GOOD\"; \"ME\"; \"GIVE\"; \"OUR\"; \"UNDER\";\n",
       "   \"NAME\"; \"VERY\"; \"THROUGH\"; \"JUST\"; \"FORM\"; \"SENTENCE\"; \"GREAT\"; \"THINK\";\n",
       "   \"SAY\"; \"HELP\"; \"LOW\"; \"LINE\"; \"DIFFER\"; \"TURN\"; \"CAUSE\"; \"MUCH\"; \"MEAN\";\n",
       "   \"BEFORE\"; \"MOVE\"; \"RIGHT\"; \"BOY\"; \"OLD\"; \"TOO\"; \"SAME\"; \"TELL\"; \"DOES\";\n",
       "   \"SET\"; \"THREE\"; \"WANT\"; \"AIR\"; \"WELL\"; \"ALSO\"; \"PLAY\"; \"SMALL\"; \"END\";\n",
       "   \"PUT\"; \"HOME\"; \"READ\"; \"HAND\"; \"PORT\"; \"LARGE\"; \"SPELL\"; \"ADD\"; \"EVEN\";\n",
       "   \"LAND\"; \"HERE\"; \"MUST\"; \"BIG\"; \"HIGH\"; \"SUCH\"; \"FOLLOW\"; \"ACT\"; \"WHY\";\n",
       "   \"ASK\"; \"MEN\"; \"CHANGE\"; \"WENT\"; \"LIGHT\"; \"KIND\"; \"OFF\"; \"NEED\"; \"HOUSE\";\n",
       "   \"PICTURE\"; \"TRY\"; \"US\"; \"AGAIN\"; \"ANIMAL\"; \"POINT\"; \"MOTHER\"; \"WORLD\";\n",
       "   \"NEAR\"; \"BUILD\"; \"SELF\"; \"EARTH\"; \"FATHER\"; \"HEAD\"; \"STAND\"; \"OWN\";\n",
       "   \"PAGE\"; \"SHOULD\"; \"COUNTRY\"; \"FOUND\"; \"ANSWER\"; \"SCHOOL\"; \"GROW\"; \"STUDY\";\n",
       "   \"STILL\"; \"LEARN\"; \"PLANT\"; \"COVER\"; \"FOOD\"; \"SUN\"; \"FOUR\"; \"BETWEEN\";\n",
       "   \"STATE\"; \"KEEP\"; \"EYE\"; \"NEVER\"; \"LAST\"; \"LET\"; \"THOUGHT\"; \"CITY\"; \"TREE\";\n",
       "   \"CROSS\"; \"FARM\"; \"HARD\"; \"START\"; \"MIGHT\"; \"STORY\"; \"SAW\"; \"FAR\"; \"SEA\";\n",
       "   \"DRAW\"; \"LEFT\"; \"LATE\"; \"RUN\"; \"DON'T\"; \"WHILE\"; \"PRESS\"; \"CLOSE\";\n",
       "   \"NIGHT\"; \"REAL\"; \"LIFE\"; \"FEW\"; \"NORTH\"; \"OPEN\"; \"SEEM\"; \"TOGETHER\";\n",
       "   \"NEXT\"; \"WHITE\"; \"CHILDREN\"; \"BEGIN\"; \"GOT\"; \"WALK\"; \"EXAMPLE\"; \"EASE\";\n",
       "   \"PAPER\"; \"GROUP\"; \"ALWAYS\"; \"MUSIC\"; \"THOSE\"; \"BOTH\"; \"MARK\"; \"OFTEN\";\n",
       "   \"LETTER\"; \"UNTIL\"; \"MILE\"; \"RIVER\"; \"CAR\"; \"FEET\"; \"CARE\"; \"SECOND\";\n",
       "   \"BOOK\"; \"CARRY\"; \"TOOK\"; \"SCIENCE\"; \"EAT\"; \"ROOM\"; \"FRIEND\"; \"BEGAN\";\n",
       "   \"IDEA\"; \"FISH\"; \"MOUNTAIN\"; \"STOP\"; \"ONCE\"; \"BASE\"; \"HEAR\"; \"HORSE\";\n",
       "   \"CUT\"; \"SURE\"; \"WATCH\"; \"COLOR\"; \"FACE\"; \"WOOD\"; \"MAIN\"; ...]\n"
      ]
     },
     "execution_count": 142,
     "metadata": {},
     "output_type": "execute_result"
    }
   ],
   "source": [
    "let slovar = \n",
    "  String.split_on_char ' ' (String.uppercase_ascii besede)"
   ]
  },
  {
   "cell_type": "code",
   "execution_count": 8,
   "metadata": {
    "vscode": {
     "languageId": "ocaml"
    }
   },
   "outputs": [
    {
     "data": {
      "text/plain": [
       "val primer_5_8 : string = \"MEASURE\"\n"
      ]
     },
     "execution_count": 8,
     "metadata": {},
     "output_type": "execute_result"
    },
    {
     "data": {
      "text/plain": [
       "val primer_5_7 : string list =\n",
       "  [\"THE\"; \"OF\"; \"TO\"; \"AND\"; \"A\"; \"IN\"; \"IS\"; \"IT\"; \"YOU\"; \"THAT\"; \"HE\";\n",
       "   \"WAS\"; \"FOR\"; \"ON\"; \"ARE\"; \"WITH\"; \"AS\"; \"I\"; \"HIS\"; \"THEY\"; \"BE\"; \"AT\";\n",
       "   \"ONE\"; \"HAVE\"; \"THIS\"; \"FROM\"; \"OR\"; \"HAD\"; \"BY\"; \"WORD\"; \"BUT\"; \"WHAT\";\n",
       "   \"SOME\"; \"WE\"; \"CAN\"; \"OUT\"; \"OTHER\"; \"WERE\"; \"ALL\"; \"THERE\"; \"WHEN\"; \"UP\"]\n"
      ]
     },
     "execution_count": 8,
     "metadata": {},
     "output_type": "execute_result"
    }
   ],
   "source": [
    "let primer_5_8 = List.nth slovar 321\n",
    "let primer_5_7 = take 42 slovar"
   ]
  },
  {
   "cell_type": "code",
   "execution_count": 63,
   "metadata": {
    "vscode": {
     "languageId": "ocaml"
    }
   },
   "outputs": [
    {
     "data": {
      "text/plain": [
       "val primer_sifriranje_7 : string list =\n",
       "  [\"THE\"; \"OF\"; \"TO\"; \"AND\"; \"A\"; \"IN\"; \"IS\"; \"IT\"; \"YOU\"; \"THAT\"; \"HE\";\n",
       "   \"WAS\"; \"FOR\"; \"ON\"; \"ARE\"; \"WITH\"; \"AS\"; \"I\"; \"HIS\"; \"THEY\"; \"BE\"; \"AT\";\n",
       "   \"ONE\"; \"HAVE\"; \"THIS\"; \"FROM\"; \"OR\"; \"HAD\"; \"BY\"; \"WORD\"; \"BUT\"; \"WHAT\";\n",
       "   \"SOME\"; \"WE\"; \"CAN\"; \"OUT\"; \"OTHER\"; \"WERE\"; \"ALL\"; \"THERE\"; \"WHEN\"; \"UP\"]\n"
      ]
     },
     "execution_count": 63,
     "metadata": {},
     "output_type": "execute_result"
    }
   ],
   "source": [
    "let primer_sifriranje_7 = take 42 slovar"
   ]
  },
  {
   "cell_type": "code",
   "execution_count": 64,
   "metadata": {
    "vscode": {
     "languageId": "ocaml"
    }
   },
   "outputs": [
    {
     "data": {
      "text/plain": [
       "val primer_sifriranje_8 : string = \"MEASURE\"\n"
      ]
     },
     "execution_count": 64,
     "metadata": {},
     "output_type": "execute_result"
    }
   ],
   "source": [
    "let primer_sifriranje_8 = List.nth slovar 321"
   ]
  },
  {
   "cell_type": "markdown",
   "metadata": {},
   "source": [
    "### Razširjanje ključa s črko"
   ]
  },
  {
   "cell_type": "markdown",
   "metadata": {},
   "source": [
    "Med ugibanjem seveda ne bomo poznali celotnega ključa. V tem primeru bomo za neznane črke uporabili znak `_`. Na primer, če bi vedeli, da je črka `A` v besedilu šifrirana kot `X`, črka `C` pa kot `Y`, bi ključ zapisali kot `\"X_Y_______________________\"`.\n",
    "\n",
    "Napišite funkcijo `dodaj_zamenjavo : string -> char * char -> string option`, ki sprejme ključ ter ga poskusi razširiti z zamenjavo dane črke. Funkcija naj vrne `None`, če razširitev vodi v ključ, ki ni bijektiven (torej če ima črka že dodeljeno drugo zamenjavo ali če smo isto zamenjavo dodelili dvema različnima črkama)."
   ]
  },
  {
   "cell_type": "code",
   "execution_count": 143,
   "metadata": {
    "vscode": {
     "languageId": "ocaml"
    }
   },
   "outputs": [
    {
     "data": {
      "text/plain": [
       "val quick_brown_fox : string = \"THEQUICKBRWNFXJMPSOVLAZYDG\"\n"
      ]
     },
     "execution_count": 143,
     "metadata": {},
     "output_type": "execute_result"
    },
    {
     "data": {
      "text/plain": [
       "val rot13 : string = \"NOPQRSTUVWXYZABCDEFGHIJKLM\"\n"
      ]
     },
     "execution_count": 143,
     "metadata": {},
     "output_type": "execute_result"
    },
    {
     "data": {
      "text/plain": [
       "val abeceda : string = \"ABCDEFGHIJKLMNOPQRSTUVWXYZ\"\n"
      ]
     },
     "execution_count": 143,
     "metadata": {},
     "output_type": "execute_result"
    },
    {
     "data": {
      "text/plain": [
       "val indeks : char -> int = <fun>\n"
      ]
     },
     "execution_count": 143,
     "metadata": {},
     "output_type": "execute_result"
    },
    {
     "data": {
      "text/plain": [
       "val crka : int -> char = <fun>\n"
      ]
     },
     "execution_count": 143,
     "metadata": {},
     "output_type": "execute_result"
    }
   ],
   "source": [
    "let quick_brown_fox = \"THEQUICKBRWNFXJMPSOVLAZYDG\"\n",
    "let rot13 = \"NOPQRSTUVWXYZABCDEFGHIJKLM\"\n",
    "let abeceda = \"ABCDEFGHIJKLMNOPQRSTUVWXYZ\"\n",
    "let indeks c = Char.code c - Char.code 'A'\n",
    "let crka i = Char.chr (i + Char.code 'A') "
   ]
  },
  {
   "cell_type": "code",
   "execution_count": 87,
   "metadata": {
    "vscode": {
     "languageId": "ocaml"
    }
   },
   "outputs": [
    {
     "data": {
      "text/plain": [
       "val zamenjava_crke_v_nizu :\n",
       "  string -> char -> int -> char list -> int -> char list = <fun>\n"
      ]
     },
     "execution_count": 87,
     "metadata": {},
     "output_type": "execute_result"
    }
   ],
   "source": [
    "let rec zamenjava_crke_v_nizu niz (crka: char) i (nov_sez: char list) n =\n",
    "  if n >= String.length niz then nov_sez\n",
    "  else\n",
    "    if n = i then zamenjava_crke_v_nizu niz crka i (crka :: nov_sez) (n + 1)\n",
    "    else zamenjava_crke_v_nizu niz crka i ((String.get niz n) :: nov_sez) (n + 1)\n"
   ]
  },
  {
   "cell_type": "code",
   "execution_count": 146,
   "metadata": {
    "vscode": {
     "languageId": "ocaml"
    }
   },
   "outputs": [
    {
     "data": {
      "text/plain": [
       "val dodaj_zamenjavo : string -> char * char -> string option = <fun>\n"
      ]
     },
     "execution_count": 146,
     "metadata": {},
     "output_type": "execute_result"
    }
   ],
   "source": [
    "let dodaj_zamenjavo (kljuc: string) ((prva_crka: char), (druga_crka: char)) : string option = \n",
    "  let mesto_crke = indeks prva_crka in\n",
    "  let rec zamenjava_crke_v_nizu niz (crka: char) i n =\n",
    "    if n >= String.length niz then\n",
    "      \"\" \n",
    "    else\n",
    "      let znak = String.get niz n in\n",
    "      let nov_znak = if n = i then crka else znak in\n",
    "      (String.make 1 nov_znak) ^ zamenjava_crke_v_nizu niz crka i (n + 1) \n",
    "  in\n",
    "  if mesto_crke >= String.length kljuc then None \n",
    "  else\n",
    "    match String.get kljuc mesto_crke with\n",
    "    | a when a = druga_crka -> Some kljuc\n",
    "    | '_' -> Some (zamenjava_crke_v_nizu kljuc druga_crka mesto_crke 0)\n",
    "    | _ -> None\n",
    "\n",
    "\n"
   ]
  },
  {
   "cell_type": "code",
   "execution_count": 89,
   "metadata": {
    "vscode": {
     "languageId": "ocaml"
    }
   },
   "outputs": [
    {
     "data": {
      "text/plain": [
       "- : char list = ['E'; '_'; 'C'; 'B'; 'A']\n"
      ]
     },
     "execution_count": 89,
     "metadata": {},
     "output_type": "execute_result"
    }
   ],
   "source": [
    "zamenjava_crke_v_nizu \"AB__E\" 'C' 2 [] 0"
   ]
  },
  {
   "cell_type": "code",
   "execution_count": 102,
   "metadata": {
    "vscode": {
     "languageId": "ocaml"
    }
   },
   "outputs": [
    {
     "data": {
      "text/plain": [
       "val primer_sifriranje_9 : string option = Some \"ABX_E\"\n"
      ]
     },
     "execution_count": 102,
     "metadata": {},
     "output_type": "execute_result"
    },
    {
     "data": {
      "text/plain": [
       "val primer_sifriranje_10 : string option = Some \"ABX_E\"\n"
      ]
     },
     "execution_count": 102,
     "metadata": {},
     "output_type": "execute_result"
    },
    {
     "data": {
      "text/plain": [
       "val primer_sifriranje_11 : string option = None\n"
      ]
     },
     "execution_count": 102,
     "metadata": {},
     "output_type": "execute_result"
    }
   ],
   "source": [
    "let primer_sifriranje_9 = dodaj_zamenjavo \"AB__E\" ('C', 'X')\n",
    "let primer_sifriranje_10 = dodaj_zamenjavo \"ABX_E\" ('C', 'X')\n",
    "let primer_sifriranje_11 = dodaj_zamenjavo \"ABY_E\" ('C', 'E')"
   ]
  },
  {
   "cell_type": "code",
   "execution_count": 66,
   "metadata": {
    "vscode": {
     "languageId": "ocaml"
    }
   },
   "outputs": [
    {
     "data": {
      "text/plain": [
       "val primer_sifriranje_9 : string option = Some \"ABX_E\"\n"
      ]
     },
     "execution_count": 66,
     "metadata": {},
     "output_type": "execute_result"
    }
   ],
   "source": [
    "let primer_sifriranje_9 = dodaj_zamenjavo \"AB__E\" ('C', 'X')"
   ]
  },
  {
   "cell_type": "code",
   "execution_count": 67,
   "metadata": {
    "vscode": {
     "languageId": "ocaml"
    }
   },
   "outputs": [
    {
     "data": {
      "text/plain": [
       "val primer_sifriranje_10 : string option = Some \"ABX_E\"\n"
      ]
     },
     "execution_count": 67,
     "metadata": {},
     "output_type": "execute_result"
    }
   ],
   "source": [
    "let primer_sifriranje_10 = dodaj_zamenjavo \"ABX_E\" ('C', 'X')"
   ]
  },
  {
   "cell_type": "code",
   "execution_count": 68,
   "metadata": {
    "vscode": {
     "languageId": "ocaml"
    }
   },
   "outputs": [
    {
     "data": {
      "text/plain": [
       "val primer_sifriranje_11 : string option = None\n"
      ]
     },
     "execution_count": 68,
     "metadata": {},
     "output_type": "execute_result"
    }
   ],
   "source": [
    "let primer_sifriranje_11 = dodaj_zamenjavo \"ABY_E\" ('C', 'E')"
   ]
  },
  {
   "cell_type": "markdown",
   "metadata": {},
   "source": [
    "### Razširjanje ključa z besedo"
   ]
  },
  {
   "cell_type": "markdown",
   "metadata": {
    "vscode": {
     "languageId": "ocaml"
    }
   },
   "source": [
    "S pomočjo funkcije `dodaj_zamenjavo` sestavite še funkcijo `dodaj_zamenjave : string -> string * string -> string option`, ki ključ razširi z zamenjavami, ki prvo besedo preslikajo v drugo."
   ]
  },
  {
   "cell_type": "code",
   "execution_count": 147,
   "metadata": {
    "vscode": {
     "languageId": "ocaml"
    }
   },
   "outputs": [
    {
     "data": {
      "text/plain": [
       "val dodaj_zamenjave : string -> string * string -> string option = <fun>\n"
      ]
     },
     "execution_count": 147,
     "metadata": {},
     "output_type": "execute_result"
    }
   ],
   "source": [
    "let dodaj_zamenjave kljuc (prva_beseda, druga_beseda) =\n",
    "  let dolzina_besed = \n",
    "    if String.length prva_beseda = String.length druga_beseda then String.length prva_beseda \n",
    "    else 0\n",
    "  in\n",
    "  if dolzina_besed = 0 then None \n",
    "  else\n",
    "    let rec po_vseh_indeksih n niz =\n",
    "      if n >= dolzina_besed then Some niz\n",
    "      else\n",
    "        match dodaj_zamenjavo niz ((String.get prva_beseda n), (String.get druga_beseda n)) with\n",
    "        | Some nov_niz -> po_vseh_indeksih (n + 1) nov_niz\n",
    "        | None -> None\n",
    "    in \n",
    "    po_vseh_indeksih 0 kljuc\n",
    "\n"
   ]
  },
  {
   "cell_type": "code",
   "execution_count": 47,
   "metadata": {
    "vscode": {
     "languageId": "ocaml"
    }
   },
   "outputs": [
    {
     "data": {
      "text/plain": [
       "val primer_sifriranje_12 : string option = Some \"____U__K___N__J___________\"\n"
      ]
     },
     "execution_count": 47,
     "metadata": {},
     "output_type": "execute_result"
    },
    {
     "data": {
      "text/plain": [
       "val primer_sifriranje_13 : string option = Some \"ABCDU__K___N__J___________\"\n"
      ]
     },
     "execution_count": 47,
     "metadata": {},
     "output_type": "execute_result"
    },
    {
     "data": {
      "text/plain": [
       "val primer_sifriranje_14 : string option = None\n"
      ]
     },
     "execution_count": 47,
     "metadata": {},
     "output_type": "execute_result"
    }
   ],
   "source": [
    "let primer_sifriranje_12 = dodaj_zamenjave \"__________________________\" (\"HELLO\", \"KUNNJ\")\n",
    "let primer_sifriranje_13 = dodaj_zamenjave \"ABCDU_____________________\" (\"HELLO\", \"KUNNJ\")\n",
    "let primer_sifriranje_14 = dodaj_zamenjave \"ABCDE_____________________\" (\"HELLO\", \"KUNNJ\")"
   ]
  },
  {
   "cell_type": "code",
   "execution_count": 70,
   "metadata": {
    "vscode": {
     "languageId": "ocaml"
    }
   },
   "outputs": [
    {
     "data": {
      "text/plain": [
       "val primer_sifriranje_12 : string option = Some \"____U__K___N__J___________\"\n"
      ]
     },
     "execution_count": 70,
     "metadata": {},
     "output_type": "execute_result"
    }
   ],
   "source": [
    "let primer_sifriranje_12 = dodaj_zamenjave \"__________________________\" (\"HELLO\", \"KUNNJ\")"
   ]
  },
  {
   "cell_type": "code",
   "execution_count": 71,
   "metadata": {
    "vscode": {
     "languageId": "ocaml"
    }
   },
   "outputs": [
    {
     "data": {
      "text/plain": [
       "val primer_sifriranje_13 : string option = Some \"ABCDU__K___N__J___________\"\n"
      ]
     },
     "execution_count": 71,
     "metadata": {},
     "output_type": "execute_result"
    }
   ],
   "source": [
    "let primer_sifriranje_13 = dodaj_zamenjave \"ABCDU_____________________\" (\"HELLO\", \"KUNNJ\")"
   ]
  },
  {
   "cell_type": "code",
   "execution_count": 72,
   "metadata": {
    "vscode": {
     "languageId": "ocaml"
    }
   },
   "outputs": [
    {
     "data": {
      "text/plain": [
       "val primer_sifriranje_14 : string option = None\n"
      ]
     },
     "execution_count": 72,
     "metadata": {},
     "output_type": "execute_result"
    }
   ],
   "source": [
    "let primer_sifriranje_14 = dodaj_zamenjave \"ABCDE_____________________\" (\"HELLO\", \"KUNNJ\")"
   ]
  },
  {
   "cell_type": "markdown",
   "metadata": {},
   "source": [
    "### Vse možne razširitve"
   ]
  },
  {
   "cell_type": "markdown",
   "metadata": {},
   "source": [
    "Sestavite funkcijo `mozne_razsiritve : string -> string -> string list -> string list`, ki vzame ključ, šifrirano besedo ter slovar vseh možnih besed, vrne pa seznam vseh možnih razširitev ključa, ki šifrirano besedo slikajo v eno od besed v slovarju."
   ]
  },
  {
   "cell_type": "code",
   "execution_count": 150,
   "metadata": {
    "vscode": {
     "languageId": "ocaml"
    }
   },
   "outputs": [
    {
     "data": {
      "text/plain": [
       "val mozne_razsiritve : string -> string -> string list -> string list = <fun>\n"
      ]
     },
     "execution_count": 150,
     "metadata": {},
     "output_type": "execute_result"
    }
   ],
   "source": [
    "let mozne_razsiritve kljuc beseda seznam_besed = \n",
    "  let rec besede_po_indeksih seznam nov i = \n",
    "    if i = List.length seznam then List.rev nov\n",
    "    else\n",
    "      let nova_beseda = List.nth seznam i in \n",
    "      let dodan_par = dodaj_zamenjave kljuc (beseda, nova_beseda) in\n",
    "      match dodan_par with\n",
    "      | Some dodan_par -> besede_po_indeksih seznam (dodan_par :: nov) (i + 1)\n",
    "      | None -> besede_po_indeksih seznam nov (i + 1)\n",
    "    in\n",
    "    besede_po_indeksih seznam_besed [] 0\n"
   ]
  },
  {
   "cell_type": "code",
   "execution_count": 49,
   "metadata": {
    "vscode": {
     "languageId": "ocaml"
    }
   },
   "outputs": [
    {
     "data": {
      "text/plain": [
       "val primer_sifriranje_15 : (string * string) list =\n",
       "  [(\"_________YC__R______A_____\", \"CARRY\");\n",
       "   (\"_________DS__O______T_____\", \"STOOD\");\n",
       "   (\"_________NG__E______R_____\", \"GREEN\");\n",
       "   (\"_________LW__E______H_____\", \"WHEEL\");\n",
       "   (\"_________PS__E______L_____\", \"SLEEP\");\n",
       "   (\"_________YH__P______A_____\", \"HAPPY\");\n",
       "   (\"_________RF__O______L_____\", \"FLOOR\");\n",
       "   (\"_________DS__E______P_____\", \"SPEED\");\n",
       "   (\"_________DB__O______L_____\", \"BLOOD\");\n",
       "   (\"_________YH__R______U_____\", \"HURRY\");\n",
       "   (\"_________LS__E______T_____\", \"STEEL\");\n",
       "   (\"_________TS__E______H_____\", \"SHEET\")]\n"
      ]
     },
     "execution_count": 49,
     "metadata": {},
     "output_type": "execute_result"
    }
   ],
   "source": [
    "let primer_sifriranje_15 =\n",
    "  slovar\n",
    "  |> mozne_razsiritve (String.make 26 '_') \"KUNNJ\"\n",
    "  |> List.map (fun kljuc -> (kljuc, sifriraj kljuc \"KUNNJ\"))"
   ]
  },
  {
   "cell_type": "code",
   "execution_count": 74,
   "metadata": {
    "vscode": {
     "languageId": "ocaml"
    }
   },
   "outputs": [
    {
     "data": {
      "text/plain": [
       "val primer_sifriranje_15 : (string * string) list =\n",
       "  [(\"_________YC__R______A_____\", \"CARRY\");\n",
       "   (\"_________DS__O______T_____\", \"STOOD\");\n",
       "   (\"_________NG__E______R_____\", \"GREEN\");\n",
       "   (\"_________LW__E______H_____\", \"WHEEL\");\n",
       "   (\"_________PS__E______L_____\", \"SLEEP\");\n",
       "   (\"_________YH__P______A_____\", \"HAPPY\");\n",
       "   (\"_________RF__O______L_____\", \"FLOOR\");\n",
       "   (\"_________DS__E______P_____\", \"SPEED\");\n",
       "   (\"_________DB__O______L_____\", \"BLOOD\");\n",
       "   (\"_________YH__R______U_____\", \"HURRY\");\n",
       "   (\"_________LS__E______T_____\", \"STEEL\");\n",
       "   (\"_________TS__E______H_____\", \"SHEET\")]\n"
      ]
     },
     "execution_count": 74,
     "metadata": {},
     "output_type": "execute_result"
    }
   ],
   "source": [
    "let primer_sifriranje_15 =\n",
    "  slovar\n",
    "  |> mozne_razsiritve (String.make 26 '_') \"KUNNJ\"\n",
    "  |> List.map (fun kljuc -> (kljuc, sifriraj kljuc \"KUNNJ\"))"
   ]
  },
  {
   "cell_type": "markdown",
   "metadata": {},
   "source": [
    "### Odšifriranje"
   ]
  },
  {
   "cell_type": "markdown",
   "metadata": {
    "vscode": {
     "languageId": "ocaml"
    }
   },
   "source": [
    "Napišite funkcijo `odsifriraj : string -> string option`, ki sprejme šifrirano besedilo in s pomočjo slovarja besed ugane odšifrirano besedilo. Funkcija naj vrne `None`, če ni mogoče najti nobenega ustreznega ključa."
   ]
  },
  {
   "cell_type": "code",
   "execution_count": null,
   "metadata": {
    "vscode": {
     "languageId": "ocaml"
    }
   },
   "outputs": [
    {
     "ename": "error",
     "evalue": "compile_error",
     "output_type": "error",
     "traceback": [
      "File \"[54]\", line 5, characters 5-48:\n5 |   |> List.map (mozne_razsiritve kljuc) sez_besed\n         ^^^^^^^^^^^^^^^^^^^^^^^^^^^^^^^^^^^^^^^^^^^\nError: This expression has type (string list -> string list) list\n       This is not a function; it cannot be applied.\n"
     ]
    }
   ],
   "source": [
    "let odsifriraj besedilo = \n",
    "  let seznam_besed_iz_besedila = String.split_on_char ' ' (String.uppercase_ascii besedilo) in\n",
    "  let kljuc = String.make 26 '_' in\n",
    "  let seznam_besed = String.split_on_char ' ' (String.uppercase_ascii besedilo) in\n",
    "  slovar\n",
    "  |> List.map (mozne_razsiritve kljuc) sez_besed\n",
    " "
   ]
  },
  {
   "cell_type": "code",
   "execution_count": 152,
   "metadata": {
    "vscode": {
     "languageId": "ocaml"
    }
   },
   "outputs": [
    {
     "data": {
      "text/plain": [
       "val sestvi_kljuc : string -> string list -> string list = <fun>\n"
      ]
     },
     "execution_count": 152,
     "metadata": {},
     "output_type": "execute_result"
    }
   ],
   "source": [
    "let sestvi_kljuc beseda_iz_besedila slovar =\n",
    "  let prazen_kljuc = String.make 26 '_' in\n",
    "  mozne_razsiritve prazen_kljuc beseda_iz_besedila slovar"
   ]
  },
  {
   "cell_type": "markdown",
   "metadata": {},
   "source": [
    "funkcija nej najprej za prazen kljuc sestavi kljuce za prvo besedo, nato za drugo besedo iz prejsnjih kljucev dodatne kljuce. "
   ]
  },
  {
   "cell_type": "code",
   "execution_count": 168,
   "metadata": {
    "vscode": {
     "languageId": "ocaml"
    }
   },
   "outputs": [
    {
     "data": {
      "text/plain": [
       "val sestavi_vse_kljuce :\n",
       "  string list -> string -> string list -> string list list = <fun>\n"
      ]
     },
     "execution_count": 168,
     "metadata": {},
     "output_type": "execute_result"
    }
   ],
   "source": [
    "let sestavi_vse_kljuce sez_prejsnjih_kljucev beseda_iz_besedila slovar =\n",
    "  let sestavi_nov_kljuc kljuc =\n",
    "    mozne_razsiritve kljuc beseda_iz_besedila slovar \n",
    "  in\n",
    "  List.map sestavi_nov_kljuc sez_prejsnjih_kljucev"
   ]
  },
  {
   "cell_type": "code",
   "execution_count": 170,
   "metadata": {
    "vscode": {
     "languageId": "ocaml"
    }
   },
   "outputs": [
    {
     "data": {
      "text/plain": [
       "val kljuci1 : string list =\n",
       "  [\"_____F________O___________\"; \"_____O________T___________\";\n",
       "   \"_____N________I___________\"; \"_____S________I___________\";\n",
       "   \"_____T________I___________\"; \"_____E________H___________\";\n",
       "   \"_____N________O___________\"; \"_____S________A___________\";\n",
       "   \"_____E________B___________\"; \"_____T________A___________\";\n",
       "   \"_____R________O___________\"; \"_____Y________B___________\";\n",
       "   \"_____E________W___________\"; \"_____P________U___________\";\n",
       "   \"_____N________A___________\"; \"_____O________D___________\";\n",
       "   \"_____F________I___________\"; \"_____O________S___________\";\n",
       "   \"_____O________G___________\"; \"_____O________N___________\";\n",
       "   \"_____Y________M___________\"; \"_____E________M___________\";\n",
       "   \"_____S________U___________\"; \"_____H________O___________\";\n",
       "   \"_____M________A___________\"]\n"
      ]
     },
     "execution_count": 170,
     "metadata": {},
     "output_type": "execute_result"
    }
   ],
   "source": [
    "let kljuci1 = sestvi_kljuc (List.nth slovar 1) slovar"
   ]
  },
  {
   "cell_type": "code",
   "execution_count": 171,
   "metadata": {
    "vscode": {
     "languageId": "ocaml"
    }
   },
   "outputs": [
    {
     "data": {
      "text/plain": [
       "val kljuci2 : string list list =\n",
       "  [[\"_____F________O____T______\"; \"_____F________O____D______\";\n",
       "    \"_____F________O____S______\"; \"_____F________O____G______\";\n",
       "    \"_____F________O____N______\"];\n",
       "   [\"_____O________T____I______\"; \"_____O________T____A______\"]; []; \n",
       "   []; []; [\"_____E________H____O______\"];\n",
       "   [\"_____N________O____T______\"; \"_____N________O____D______\";\n",
       "    \"_____N________O____S______\"; \"_____N________O____G______\";\n",
       "    \"_____N________O____N______\"];\n",
       "   []; []; [];\n",
       "   [\"_____R________O____T______\"; \"_____R________O____D______\";\n",
       "    \"_____R________O____S______\"; \"_____R________O____G______\";\n",
       "    \"_____R________O____N______\"];\n",
       "   []; []; []; []; []; [];\n",
       "   [\"_____O________S____I______\"; \"_____O________S____A______\";\n",
       "    \"_____O________S____U______\"];\n",
       "   [];\n",
       "   [\"_____O________N____I______\"; \"_____O________N____O______\";\n",
       "    \"_____O________N____A______\"];\n",
       "   [\"_____Y________M____A______\"]; [\"_____E________M____A______\"]; [];\n",
       "   [\"_____H________O____T______\"; \"_____H________O____D______\";\n",
       "    \"_____H________O____S______\"; \"_____H________O____G______\";\n",
       "    \"_____H________O____N______\"];\n",
       "   []]\n"
      ]
     },
     "execution_count": 171,
     "metadata": {},
     "output_type": "execute_result"
    }
   ],
   "source": [
    "let kljuci2 = sestavi_vse_kljuce kljuci1 (List.nth slovar 2) slovar"
   ]
  },
  {
   "cell_type": "code",
   "execution_count": 53,
   "metadata": {
    "vscode": {
     "languageId": "ocaml"
    }
   },
   "outputs": [
    {
     "data": {
      "text/plain": [
       "val primer_sifriranje_16 : string = \"VKBO BO T AUSD KTSQ MSJHNUF\"\n"
      ]
     },
     "execution_count": 53,
     "metadata": {},
     "output_type": "execute_result"
    },
    {
     "data": {
      "text/plain": [
       "val primer_sifriranje_17 : (string * string) list = []\n"
      ]
     },
     "execution_count": 53,
     "metadata": {},
     "output_type": "execute_result"
    }
   ],
   "source": [
    "let primer_sifriranje_16 = sifriraj quick_brown_fox \"THIS IS A VERY HARD PROBLEM\"\n",
    "let primer_sifriranje_17 = odsifriraj \"VKBO BO T AUSD KTSQ MSJHNUF\""
   ]
  },
  {
   "cell_type": "code",
   "execution_count": 77,
   "metadata": {
    "vscode": {
     "languageId": "ocaml"
    }
   },
   "outputs": [
    {
     "data": {
      "text/plain": [
       "val primer_sifriranje_16 : string = \"VKBO BO T AUSD KTSQ MSJHNUF\"\n"
      ]
     },
     "execution_count": 77,
     "metadata": {},
     "output_type": "execute_result"
    }
   ],
   "source": [
    "let primer_sifriranje_16 = sifriraj quick_brown_fox \"THIS IS A VERY HARD PROBLEM\""
   ]
  },
  {
   "cell_type": "code",
   "execution_count": 78,
   "metadata": {
    "vscode": {
     "languageId": "ocaml"
    }
   },
   "outputs": [
    {
     "data": {
      "text/plain": [
       "val primer_sifriranje_17 : string option = Some \"THIS IS A VERY HARD PROBLEM\"\n"
      ]
     },
     "execution_count": 78,
     "metadata": {},
     "output_type": "execute_result"
    }
   ],
   "source": [
    "let primer_sifriranje_17 = odsifriraj \"VKBO BO T AUSD KTSQ MSJHNUF\""
   ]
  }
 ],
 "metadata": {
  "kernelspec": {
   "display_name": "OCaml 4.14",
   "language": "OCaml",
   "name": "ocaml-jupyter"
  },
  "language_info": {
   "codemirror_mode": "text/x-ocaml",
   "file_extension": ".ml",
   "mimetype": "text/x-ocaml",
   "name": "OCaml",
   "nbconverter_exporter": null,
   "pygments_lexer": "OCaml",
   "version": "4.14.2"
  }
 },
 "nbformat": 4,
 "nbformat_minor": 2
}
