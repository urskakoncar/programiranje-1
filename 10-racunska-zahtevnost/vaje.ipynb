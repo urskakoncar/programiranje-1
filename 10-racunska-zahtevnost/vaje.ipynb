{
 "cells": [
  {
   "cell_type": "code",
   "execution_count": 1,
   "metadata": {
    "vscode": {
     "languageId": "ocaml"
    }
   },
   "outputs": [
    {
     "data": {
      "text/plain": [
       "val swap : 'a array -> int -> int -> unit = <fun>\n"
      ]
     },
     "execution_count": 1,
     "metadata": {},
     "output_type": "execute_result"
    }
   ],
   "source": [
    "let swap a i j =\n",
    "    let i_elt = Array.get a i in\n",
    "    let j_elt = Array.get a j in\n",
    "    Array.set a i j_elt;\n",
    "    Array.set a j i_elt"
   ]
  },
  {
   "cell_type": "code",
   "execution_count": 4,
   "metadata": {
    "vscode": {
     "languageId": "ocaml"
    }
   },
   "outputs": [
    {
     "data": {
      "text/plain": [
       "val test : int array = [|0; 1; 2; 3; 4|]\n"
      ]
     },
     "execution_count": 4,
     "metadata": {},
     "output_type": "execute_result"
    },
    {
     "data": {
      "text/plain": [
       "- : unit = ()\n"
      ]
     },
     "execution_count": 4,
     "metadata": {},
     "output_type": "execute_result"
    },
    {
     "data": {
      "text/plain": [
       "- : int array = [|0; 4; 2; 3; 1|]\n"
      ]
     },
     "execution_count": 4,
     "metadata": {},
     "output_type": "execute_result"
    }
   ],
   "source": [
    "let test = [|0; 1; 2; 3; 4|];;\n",
    "swap test 1 4;;\n",
    "test;;"
   ]
  },
  {
   "cell_type": "code",
   "execution_count": 18,
   "metadata": {
    "vscode": {
     "languageId": "ocaml"
    }
   },
   "outputs": [
    {
     "data": {
      "text/plain": [
       "val index_min : 'a array -> int -> int -> int = <fun>\n"
      ]
     },
     "execution_count": 18,
     "metadata": {},
     "output_type": "execute_result"
    }
   ],
   "source": [
    "let index_min a lower upper = \n",
    "  let min_elt = ref a.(lower) in\n",
    "  let indeks = ref lower in\n",
    "  for i = lower to upper do\n",
    "      if a.(i) < !min_elt then (\n",
    "        min_elt := a.(i);\n",
    "        indeks := i)\n",
    "      else ()\n",
    "  done;\n",
    "  !indeks"
   ]
  },
  {
   "cell_type": "code",
   "execution_count": 45,
   "metadata": {
    "vscode": {
     "languageId": "ocaml"
    }
   },
   "outputs": [
    {
     "data": {
      "text/plain": [
       "- : int = 3\n"
      ]
     },
     "execution_count": 45,
     "metadata": {},
     "output_type": "execute_result"
    },
    {
     "data": {
      "text/plain": [
       "- : int = 2\n"
      ]
     },
     "execution_count": 45,
     "metadata": {},
     "output_type": "execute_result"
    }
   ],
   "source": [
    "index_min [|0; 2; 9; 3; 6|] 2 4;;\n",
    "index_min [|0; 2; 9; 3; 6|] 2 2\n"
   ]
  },
  {
   "cell_type": "code",
   "execution_count": 66,
   "metadata": {
    "vscode": {
     "languageId": "ocaml"
    }
   },
   "outputs": [
    {
     "data": {
      "text/plain": [
       "val selection_sort_array : 'a array -> 'a array = <fun>\n"
      ]
     },
     "execution_count": 66,
     "metadata": {},
     "output_type": "execute_result"
    }
   ],
   "source": [
    "let selection_sort_array arr =\n",
    "  let dolzina = Array.length arr in\n",
    "  if dolzina = 0 then arr \n",
    "  else (\n",
    "      for i = 0 to dolzina - 1 do\n",
    "        swap arr i (index_min arr i (dolzina - 1))\n",
    "    done;\n",
    "    arr\n",
    "    )"
   ]
  },
  {
   "cell_type": "code",
   "execution_count": 67,
   "metadata": {
    "vscode": {
     "languageId": "ocaml"
    }
   },
   "outputs": [
    {
     "data": {
      "text/plain": [
       "- : int array = [|0; 2; 3; 6; 9|]\n"
      ]
     },
     "execution_count": 67,
     "metadata": {},
     "output_type": "execute_result"
    },
    {
     "data": {
      "text/plain": [
       "- : '_weak3 array = [||]\n"
      ]
     },
     "execution_count": 67,
     "metadata": {},
     "output_type": "execute_result"
    }
   ],
   "source": [
    "selection_sort_array [|0; 2; 9; 3; 6|];;\n",
    "selection_sort_array [||]"
   ]
  },
  {
   "cell_type": "code",
   "execution_count": 70,
   "metadata": {
    "vscode": {
     "languageId": "ocaml"
    }
   },
   "outputs": [
    {
     "ename": "error",
     "evalue": "compile_error",
     "output_type": "error",
     "traceback": [
      "File \"[70]\", lines 13-14, characters 9-7:\n13 | .........()\n14 | min_elt\nError: The constructor () expects 0 argument(s),\n       but is applied here to 1 argument(s)\n"
     ]
    }
   ],
   "source": [
    "let minimum sez = \n",
    "  let prvi_elt = \n",
    "    match sez with\n",
    "    | [] -> failwith\n",
    "    | x :: xs -> x\n",
    "  in\n",
    "  let min_elt = ref prvi_elt in\n",
    "  match sez with\n",
    "  | [] -> failwith \"\"\n",
    "  | x :: xs -> \n",
    "    if x < !min_elt then \n",
    "      min_elt := x;\n",
    "      (*?neki manjka*)\n",
    "    else ()\n",
    "min_elt\n",
    "  "
   ]
  },
  {
   "cell_type": "code",
   "execution_count": null,
   "metadata": {
    "vscode": {
     "languageId": "ocaml"
    }
   },
   "outputs": [],
   "source": [
    "let min_and_rest list =\n",
    "  if list = [] then None\n",
    "  else (\n",
    "    \n",
    "  )"
   ]
  }
 ],
 "metadata": {
  "kernelspec": {
   "display_name": "OCaml 4.14",
   "language": "OCaml",
   "name": "ocaml-jupyter"
  },
  "language_info": {
   "codemirror_mode": "text/x-ocaml",
   "file_extension": ".ml",
   "mimetype": "text/x-ocaml",
   "name": "OCaml",
   "nbconverter_exporter": null,
   "pygments_lexer": "OCaml",
   "version": "4.14.2"
  }
 },
 "nbformat": 4,
 "nbformat_minor": 2
}
